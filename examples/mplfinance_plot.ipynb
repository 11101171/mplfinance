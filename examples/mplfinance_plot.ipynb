{
 "cells": [
  {
   "cell_type": "code",
   "execution_count": 1,
   "metadata": {},
   "outputs": [],
   "source": [
    "from IPython.core.interactiveshell import InteractiveShell\n",
    "InteractiveShell.ast_node_interactivity = \"all\""
   ]
  },
  {
   "cell_type": "code",
   "execution_count": 2,
   "metadata": {},
   "outputs": [],
   "source": [
    "#import matplotlib.pyplot as plt\n",
    "#print(plt.style.available)"
   ]
  },
  {
   "cell_type": "code",
   "execution_count": 3,
   "metadata": {},
   "outputs": [
    {
     "data": {
      "text/plain": [
       "'0.24.2'"
      ]
     },
     "execution_count": 3,
     "metadata": {},
     "output_type": "execute_result"
    }
   ],
   "source": [
    "import pandas as pd\n",
    "pd.__version__"
   ]
  },
  {
   "cell_type": "code",
   "execution_count": 4,
   "metadata": {},
   "outputs": [
    {
     "data": {
      "text/html": [
       "<div>\n",
       "<style scoped>\n",
       "    .dataframe tbody tr th:only-of-type {\n",
       "        vertical-align: middle;\n",
       "    }\n",
       "\n",
       "    .dataframe tbody tr th {\n",
       "        vertical-align: top;\n",
       "    }\n",
       "\n",
       "    .dataframe thead th {\n",
       "        text-align: right;\n",
       "    }\n",
       "</style>\n",
       "<table border=\"1\" class=\"dataframe\">\n",
       "  <thead>\n",
       "    <tr style=\"text-align: right;\">\n",
       "      <th></th>\n",
       "      <th>Time</th>\n",
       "      <th>Open</th>\n",
       "      <th>High</th>\n",
       "      <th>Low</th>\n",
       "      <th>Close</th>\n",
       "    </tr>\n",
       "  </thead>\n",
       "  <tbody>\n",
       "    <tr>\n",
       "      <th>0</th>\n",
       "      <td>736859.197917</td>\n",
       "      <td>1.18242</td>\n",
       "      <td>1.18245</td>\n",
       "      <td>1.18218</td>\n",
       "      <td>1.18221</td>\n",
       "    </tr>\n",
       "    <tr>\n",
       "      <th>1</th>\n",
       "      <td>736859.201389</td>\n",
       "      <td>1.18221</td>\n",
       "      <td>1.18252</td>\n",
       "      <td>1.18199</td>\n",
       "      <td>1.18232</td>\n",
       "    </tr>\n",
       "    <tr>\n",
       "      <th>2</th>\n",
       "      <td>736859.204861</td>\n",
       "      <td>1.18232</td>\n",
       "      <td>1.18275</td>\n",
       "      <td>1.18232</td>\n",
       "      <td>1.18253</td>\n",
       "    </tr>\n",
       "    <tr>\n",
       "      <th>3</th>\n",
       "      <td>736859.208333</td>\n",
       "      <td>1.18254</td>\n",
       "      <td>1.18256</td>\n",
       "      <td>1.18172</td>\n",
       "      <td>1.18172</td>\n",
       "    </tr>\n",
       "    <tr>\n",
       "      <th>4</th>\n",
       "      <td>736859.211806</td>\n",
       "      <td>1.18173</td>\n",
       "      <td>1.18211</td>\n",
       "      <td>1.18159</td>\n",
       "      <td>1.18187</td>\n",
       "    </tr>\n",
       "  </tbody>\n",
       "</table>\n",
       "</div>"
      ],
      "text/plain": [
       "            Time     Open     High      Low    Close\n",
       "0  736859.197917  1.18242  1.18245  1.18218  1.18221\n",
       "1  736859.201389  1.18221  1.18252  1.18199  1.18232\n",
       "2  736859.204861  1.18232  1.18275  1.18232  1.18253\n",
       "3  736859.208333  1.18254  1.18256  1.18172  1.18172\n",
       "4  736859.211806  1.18173  1.18211  1.18159  1.18187"
      ]
     },
     "execution_count": 4,
     "metadata": {},
     "output_type": "execute_result"
    }
   ],
   "source": [
    "#        Time     Open     High      Low    Close\n",
    "rows = []\n",
    "rows.append((736859.197917,  1.18242,  1.18245,  1.18218,  1.18221))\n",
    "rows.append((736859.201389,  1.18221,  1.18252,  1.18199,  1.18232))\n",
    "rows.append((736859.204861,  1.18232,  1.18275,  1.18232,  1.18253))\n",
    "rows.append((736859.208333,  1.18254,  1.18256,  1.18172,  1.18172))\n",
    "rows.append((736859.211806,  1.18173,  1.18211,  1.18159,  1.18187))\n",
    "\n",
    "dfi = pd.DataFrame(rows)\n",
    "dfi.columns = ('Time','Open','High','Low','Close')\n",
    "#dfi.set_index('Time',inplace=True)\n",
    "dfi"
   ]
  },
  {
   "cell_type": "code",
   "execution_count": 5,
   "metadata": {},
   "outputs": [
    {
     "data": {
      "text/plain": [
       "pandas.core.frame.DataFrame"
      ]
     },
     "execution_count": 5,
     "metadata": {},
     "output_type": "execute_result"
    }
   ],
   "source": [
    "type(dfi)"
   ]
  },
  {
   "cell_type": "code",
   "execution_count": 6,
   "metadata": {},
   "outputs": [
    {
     "data": {
      "text/plain": [
       "pandas.core.indexes.range.RangeIndex"
      ]
     },
     "execution_count": 6,
     "metadata": {},
     "output_type": "execute_result"
    }
   ],
   "source": [
    "type(dfi.index)"
   ]
  },
  {
   "cell_type": "code",
   "execution_count": 7,
   "metadata": {},
   "outputs": [],
   "source": [
    "import matplotlib.dates as mdates"
   ]
  },
  {
   "cell_type": "code",
   "execution_count": 8,
   "metadata": {},
   "outputs": [
    {
     "data": {
      "text/html": [
       "<div>\n",
       "<style scoped>\n",
       "    .dataframe tbody tr th:only-of-type {\n",
       "        vertical-align: middle;\n",
       "    }\n",
       "\n",
       "    .dataframe tbody tr th {\n",
       "        vertical-align: top;\n",
       "    }\n",
       "\n",
       "    .dataframe thead th {\n",
       "        text-align: right;\n",
       "    }\n",
       "</style>\n",
       "<table border=\"1\" class=\"dataframe\">\n",
       "  <thead>\n",
       "    <tr style=\"text-align: right;\">\n",
       "      <th></th>\n",
       "      <th>Open</th>\n",
       "      <th>High</th>\n",
       "      <th>Low</th>\n",
       "      <th>Close</th>\n",
       "    </tr>\n",
       "    <tr>\n",
       "      <th>Time</th>\n",
       "      <th></th>\n",
       "      <th></th>\n",
       "      <th></th>\n",
       "      <th></th>\n",
       "    </tr>\n",
       "  </thead>\n",
       "  <tbody>\n",
       "    <tr>\n",
       "      <th>2018-06-14 04:45:00.028800+00:00</th>\n",
       "      <td>1.18242</td>\n",
       "      <td>1.18245</td>\n",
       "      <td>1.18218</td>\n",
       "      <td>1.18221</td>\n",
       "    </tr>\n",
       "    <tr>\n",
       "      <th>2018-06-14 04:50:00.009600+00:00</th>\n",
       "      <td>1.18221</td>\n",
       "      <td>1.18252</td>\n",
       "      <td>1.18199</td>\n",
       "      <td>1.18232</td>\n",
       "    </tr>\n",
       "    <tr>\n",
       "      <th>2018-06-14 04:54:59.990400+00:00</th>\n",
       "      <td>1.18232</td>\n",
       "      <td>1.18275</td>\n",
       "      <td>1.18232</td>\n",
       "      <td>1.18253</td>\n",
       "    </tr>\n",
       "    <tr>\n",
       "      <th>2018-06-14 04:59:59.971200+00:00</th>\n",
       "      <td>1.18254</td>\n",
       "      <td>1.18256</td>\n",
       "      <td>1.18172</td>\n",
       "      <td>1.18172</td>\n",
       "    </tr>\n",
       "    <tr>\n",
       "      <th>2018-06-14 05:05:00.038400+00:00</th>\n",
       "      <td>1.18173</td>\n",
       "      <td>1.18211</td>\n",
       "      <td>1.18159</td>\n",
       "      <td>1.18187</td>\n",
       "    </tr>\n",
       "  </tbody>\n",
       "</table>\n",
       "</div>"
      ],
      "text/plain": [
       "                                     Open     High      Low    Close\n",
       "Time                                                                \n",
       "2018-06-14 04:45:00.028800+00:00  1.18242  1.18245  1.18218  1.18221\n",
       "2018-06-14 04:50:00.009600+00:00  1.18221  1.18252  1.18199  1.18232\n",
       "2018-06-14 04:54:59.990400+00:00  1.18232  1.18275  1.18232  1.18253\n",
       "2018-06-14 04:59:59.971200+00:00  1.18254  1.18256  1.18172  1.18172\n",
       "2018-06-14 05:05:00.038400+00:00  1.18173  1.18211  1.18159  1.18187"
      ]
     },
     "execution_count": 8,
     "metadata": {},
     "output_type": "execute_result"
    }
   ],
   "source": [
    "dts = mdates.num2date(dfi['Time'])\n",
    "#dts = [roundTime(dt,roundTo=5) for dt in dts]\n",
    "dfi.index = pd.DatetimeIndex(dts)\n",
    "dfi.index.name = 'Time'\n",
    "dfi.drop(['Time'],axis=1,inplace=True)\n",
    "dfi"
   ]
  },
  {
   "cell_type": "code",
   "execution_count": 9,
   "metadata": {},
   "outputs": [
    {
     "data": {
      "text/html": [
       "<div>\n",
       "<style scoped>\n",
       "    .dataframe tbody tr th:only-of-type {\n",
       "        vertical-align: middle;\n",
       "    }\n",
       "\n",
       "    .dataframe tbody tr th {\n",
       "        vertical-align: top;\n",
       "    }\n",
       "\n",
       "    .dataframe thead th {\n",
       "        text-align: right;\n",
       "    }\n",
       "</style>\n",
       "<table border=\"1\" class=\"dataframe\">\n",
       "  <thead>\n",
       "    <tr style=\"text-align: right;\">\n",
       "      <th></th>\n",
       "      <th>Time</th>\n",
       "      <th>Open</th>\n",
       "      <th>High</th>\n",
       "      <th>Low</th>\n",
       "      <th>Close</th>\n",
       "    </tr>\n",
       "  </thead>\n",
       "  <tbody>\n",
       "    <tr>\n",
       "      <th>0</th>\n",
       "      <td>736859.197917</td>\n",
       "      <td>1.18242</td>\n",
       "      <td>1.18245</td>\n",
       "      <td>1.18218</td>\n",
       "      <td>1.18221</td>\n",
       "    </tr>\n",
       "    <tr>\n",
       "      <th>1</th>\n",
       "      <td>736860.201389</td>\n",
       "      <td>1.18221</td>\n",
       "      <td>1.18252</td>\n",
       "      <td>1.18199</td>\n",
       "      <td>1.18232</td>\n",
       "    </tr>\n",
       "    <tr>\n",
       "      <th>2</th>\n",
       "      <td>736861.204861</td>\n",
       "      <td>1.18232</td>\n",
       "      <td>1.18275</td>\n",
       "      <td>1.18232</td>\n",
       "      <td>1.18253</td>\n",
       "    </tr>\n",
       "    <tr>\n",
       "      <th>3</th>\n",
       "      <td>736862.208333</td>\n",
       "      <td>1.18254</td>\n",
       "      <td>1.18256</td>\n",
       "      <td>1.18172</td>\n",
       "      <td>1.18172</td>\n",
       "    </tr>\n",
       "    <tr>\n",
       "      <th>4</th>\n",
       "      <td>736863.211806</td>\n",
       "      <td>1.18173</td>\n",
       "      <td>1.18211</td>\n",
       "      <td>1.18159</td>\n",
       "      <td>1.18187</td>\n",
       "    </tr>\n",
       "  </tbody>\n",
       "</table>\n",
       "</div>"
      ],
      "text/plain": [
       "            Time     Open     High      Low    Close\n",
       "0  736859.197917  1.18242  1.18245  1.18218  1.18221\n",
       "1  736860.201389  1.18221  1.18252  1.18199  1.18232\n",
       "2  736861.204861  1.18232  1.18275  1.18232  1.18253\n",
       "3  736862.208333  1.18254  1.18256  1.18172  1.18172\n",
       "4  736863.211806  1.18173  1.18211  1.18159  1.18187"
      ]
     },
     "execution_count": 9,
     "metadata": {},
     "output_type": "execute_result"
    },
    {
     "data": {
      "text/html": [
       "<div>\n",
       "<style scoped>\n",
       "    .dataframe tbody tr th:only-of-type {\n",
       "        vertical-align: middle;\n",
       "    }\n",
       "\n",
       "    .dataframe tbody tr th {\n",
       "        vertical-align: top;\n",
       "    }\n",
       "\n",
       "    .dataframe thead th {\n",
       "        text-align: right;\n",
       "    }\n",
       "</style>\n",
       "<table border=\"1\" class=\"dataframe\">\n",
       "  <thead>\n",
       "    <tr style=\"text-align: right;\">\n",
       "      <th></th>\n",
       "      <th>Open</th>\n",
       "      <th>High</th>\n",
       "      <th>Low</th>\n",
       "      <th>Close</th>\n",
       "    </tr>\n",
       "    <tr>\n",
       "      <th>Time</th>\n",
       "      <th></th>\n",
       "      <th></th>\n",
       "      <th></th>\n",
       "      <th></th>\n",
       "    </tr>\n",
       "  </thead>\n",
       "  <tbody>\n",
       "    <tr>\n",
       "      <th>2018-06-14 04:45:00.028800+00:00</th>\n",
       "      <td>1.18242</td>\n",
       "      <td>1.18245</td>\n",
       "      <td>1.18218</td>\n",
       "      <td>1.18221</td>\n",
       "    </tr>\n",
       "    <tr>\n",
       "      <th>2018-06-15 04:50:00.009600+00:00</th>\n",
       "      <td>1.18221</td>\n",
       "      <td>1.18252</td>\n",
       "      <td>1.18199</td>\n",
       "      <td>1.18232</td>\n",
       "    </tr>\n",
       "    <tr>\n",
       "      <th>2018-06-16 04:54:59.990400+00:00</th>\n",
       "      <td>1.18232</td>\n",
       "      <td>1.18275</td>\n",
       "      <td>1.18232</td>\n",
       "      <td>1.18253</td>\n",
       "    </tr>\n",
       "    <tr>\n",
       "      <th>2018-06-17 04:59:59.971200+00:00</th>\n",
       "      <td>1.18254</td>\n",
       "      <td>1.18256</td>\n",
       "      <td>1.18172</td>\n",
       "      <td>1.18172</td>\n",
       "    </tr>\n",
       "    <tr>\n",
       "      <th>2018-06-18 05:05:00.038400+00:00</th>\n",
       "      <td>1.18173</td>\n",
       "      <td>1.18211</td>\n",
       "      <td>1.18159</td>\n",
       "      <td>1.18187</td>\n",
       "    </tr>\n",
       "  </tbody>\n",
       "</table>\n",
       "</div>"
      ],
      "text/plain": [
       "                                     Open     High      Low    Close\n",
       "Time                                                                \n",
       "2018-06-14 04:45:00.028800+00:00  1.18242  1.18245  1.18218  1.18221\n",
       "2018-06-15 04:50:00.009600+00:00  1.18221  1.18252  1.18199  1.18232\n",
       "2018-06-16 04:54:59.990400+00:00  1.18232  1.18275  1.18232  1.18253\n",
       "2018-06-17 04:59:59.971200+00:00  1.18254  1.18256  1.18172  1.18172\n",
       "2018-06-18 05:05:00.038400+00:00  1.18173  1.18211  1.18159  1.18187"
      ]
     },
     "execution_count": 9,
     "metadata": {},
     "output_type": "execute_result"
    }
   ],
   "source": [
    "#        Time     Open     High      Low    Close\n",
    "rows = []\n",
    "#rows.append((736859.197917,  1.18242,  1.18245,  1.18218,  1.18221))\n",
    "#rows.append((736859.201389,  1.18221,  1.18252,  1.18199,  1.18232))\n",
    "#rows.append((736859.204861,  1.18232,  1.18275,  1.18232,  1.18253))\n",
    "#rows.append((736859.208333,  1.18254,  1.18256,  1.18172,  1.18172))\n",
    "#rows.append((736859.211806,  1.18173,  1.18211,  1.18159,  1.18187))\n",
    "\n",
    "rows.append((736859.197917,  1.18242,  1.18245,  1.18218,  1.18221))\n",
    "rows.append((736860.201389,  1.18221,  1.18252,  1.18199,  1.18232))\n",
    "rows.append((736861.204861,  1.18232,  1.18275,  1.18232,  1.18253))\n",
    "rows.append((736862.208333,  1.18254,  1.18256,  1.18172,  1.18172))\n",
    "rows.append((736863.211806,  1.18173,  1.18211,  1.18159,  1.18187))\n",
    "\n",
    "df = pd.DataFrame(rows)\n",
    "df.columns = ('Time','Open','High','Low','Close')\n",
    "df\n",
    "dts = mdates.num2date(df['Time'])\n",
    "#dts = [roundTime(dt,roundTo=60) for dt in dts]\n",
    "df.index = pd.DatetimeIndex(dts)\n",
    "df.index.name = 'Time'\n",
    "df.drop(['Time'],axis=1,inplace=True)\n",
    "df"
   ]
  },
  {
   "cell_type": "code",
   "execution_count": 10,
   "metadata": {},
   "outputs": [],
   "source": [
    "import mplfinance as mpf"
   ]
  },
  {
   "cell_type": "code",
   "execution_count": 11,
   "metadata": {},
   "outputs": [
    {
     "data": {
      "text/plain": [
       "['__builtins__',\n",
       " '__cached__',\n",
       " '__doc__',\n",
       " '__file__',\n",
       " '__loader__',\n",
       " '__name__',\n",
       " '__package__',\n",
       " '__path__',\n",
       " '__spec__',\n",
       " '_utils',\n",
       " 'plot',\n",
       " 'plotting']"
      ]
     },
     "execution_count": 11,
     "metadata": {},
     "output_type": "execute_result"
    }
   ],
   "source": [
    "dir(mpf)"
   ]
  },
  {
   "cell_type": "code",
   "execution_count": 12,
   "metadata": {},
   "outputs": [],
   "source": [
    "#dir(mpf.plotting)"
   ]
  },
  {
   "cell_type": "code",
   "execution_count": 13,
   "metadata": {},
   "outputs": [
    {
     "data": {
      "text/plain": [
       "['Affine2D',\n",
       " 'Line2D',\n",
       " 'LineCollection',\n",
       " 'PolyCollection',\n",
       " 'Rectangle',\n",
       " 'TICKLEFT',\n",
       " 'TICKRIGHT',\n",
       " '__builtins__',\n",
       " '__cached__',\n",
       " '__doc__',\n",
       " '__file__',\n",
       " '__loader__',\n",
       " '__name__',\n",
       " '__package__',\n",
       " '__spec__',\n",
       " '_check_input',\n",
       " '_construct_candlestick_collections',\n",
       " '_construct_ohlc_collections',\n",
       " 'mcolors',\n",
       " 'np',\n",
       " 'xrange',\n",
       " 'zip']"
      ]
     },
     "execution_count": 13,
     "metadata": {},
     "output_type": "execute_result"
    }
   ],
   "source": [
    "dir(mpf._utils)"
   ]
  },
  {
   "cell_type": "code",
   "execution_count": 14,
   "metadata": {},
   "outputs": [
    {
     "data": {
      "text/plain": [
       "'3.0.3'"
      ]
     },
     "execution_count": 14,
     "metadata": {},
     "output_type": "execute_result"
    },
    {
     "name": "stdout",
     "output_type": "stream",
     "text": [
      "black\n"
     ]
    }
   ],
   "source": [
    "import matplotlib as mpl\n",
    "mpl.__version__\n",
    "print(mpl.rcParams['axes.edgecolor'])"
   ]
  },
  {
   "cell_type": "code",
   "execution_count": 15,
   "metadata": {},
   "outputs": [
    {
     "name": "stdout",
     "output_type": "stream",
     "text": [
      "axes.linewidth\n",
      "boxplot.boxprops.linewidth\n",
      "boxplot.capprops.linewidth\n",
      "boxplot.flierprops.linewidth\n",
      "boxplot.meanprops.linewidth\n",
      "boxplot.medianprops.linewidth\n",
      "boxplot.whiskerprops.linewidth\n",
      "grid.linewidth\n",
      "hatch.linewidth\n",
      "lines.linewidth\n",
      "lines.markeredgewidth\n"
     ]
    }
   ],
   "source": [
    "jj=0\n",
    "for item in mpl.rcParams:\n",
    "    if 'wid' in item:\n",
    "        print(item)\n",
    "        jj+=1\n",
    "    if jj > 10:\n",
    "        break"
   ]
  },
  {
   "cell_type": "code",
   "execution_count": 16,
   "metadata": {},
   "outputs": [
    {
     "name": "stdout",
     "output_type": "stream",
     "text": [
      "2.0\n",
      "1.5\n"
     ]
    }
   ],
   "source": [
    "print(mpl.rcParams['lines.linewidth'])\n",
    "print(mpl.rcParams['axes.linewidth'])"
   ]
  },
  {
   "cell_type": "code",
   "execution_count": 17,
   "metadata": {},
   "outputs": [
    {
     "ename": "SyntaxError",
     "evalue": "invalid syntax (<ipython-input-17-a6774c8535dd>, line 1)",
     "output_type": "error",
     "traceback": [
      "\u001b[0;36m  File \u001b[0;32m\"<ipython-input-17-a6774c8535dd>\"\u001b[0;36m, line \u001b[0;32m1\u001b[0m\n\u001b[0;31m    STOP HERE\u001b[0m\n\u001b[0m            ^\u001b[0m\n\u001b[0;31mSyntaxError\u001b[0m\u001b[0;31m:\u001b[0m invalid syntax\n"
     ]
    }
   ],
   "source": [
    "STOP HERE"
   ]
  },
  {
   "cell_type": "code",
   "execution_count": 18,
   "metadata": {},
   "outputs": [],
   "source": [
    "%matplotlib qt"
   ]
  },
  {
   "cell_type": "code",
   "execution_count": 19,
   "metadata": {},
   "outputs": [],
   "source": [
    "mpf.plot(df)#,type='candlestick',mav=(20,50,100))#,study=0)"
   ]
  },
  {
   "cell_type": "code",
   "execution_count": null,
   "metadata": {},
   "outputs": [],
   "source": [
    "mpf.plot(df,type='ohlc')"
   ]
  },
  {
   "cell_type": "code",
   "execution_count": 20,
   "metadata": {},
   "outputs": [],
   "source": [
    "mpf.plot(dfi,type='candlestick')"
   ]
  },
  {
   "cell_type": "code",
   "execution_count": 21,
   "metadata": {},
   "outputs": [
    {
     "data": {
      "text/plain": [
       "(1605, 4)"
      ]
     },
     "execution_count": 21,
     "metadata": {},
     "output_type": "execute_result"
    },
    {
     "data": {
      "text/html": [
       "<div>\n",
       "<style scoped>\n",
       "    .dataframe tbody tr th:only-of-type {\n",
       "        vertical-align: middle;\n",
       "    }\n",
       "\n",
       "    .dataframe tbody tr th {\n",
       "        vertical-align: top;\n",
       "    }\n",
       "\n",
       "    .dataframe thead th {\n",
       "        text-align: right;\n",
       "    }\n",
       "</style>\n",
       "<table border=\"1\" class=\"dataframe\">\n",
       "  <thead>\n",
       "    <tr style=\"text-align: right;\">\n",
       "      <th></th>\n",
       "      <th>Open</th>\n",
       "      <th>Close</th>\n",
       "      <th>High</th>\n",
       "      <th>Low</th>\n",
       "    </tr>\n",
       "    <tr>\n",
       "      <th>Date</th>\n",
       "      <th></th>\n",
       "      <th></th>\n",
       "      <th></th>\n",
       "      <th></th>\n",
       "    </tr>\n",
       "  </thead>\n",
       "  <tbody>\n",
       "    <tr>\n",
       "      <th>2019-11-05 09:30:00</th>\n",
       "      <td>3080.80</td>\n",
       "      <td>3080.49</td>\n",
       "      <td>3081.47</td>\n",
       "      <td>3080.30</td>\n",
       "    </tr>\n",
       "    <tr>\n",
       "      <th>2019-11-05 09:31:00</th>\n",
       "      <td>3080.33</td>\n",
       "      <td>3079.36</td>\n",
       "      <td>3080.33</td>\n",
       "      <td>3079.15</td>\n",
       "    </tr>\n",
       "    <tr>\n",
       "      <th>2019-11-05 09:32:00</th>\n",
       "      <td>3079.43</td>\n",
       "      <td>3079.68</td>\n",
       "      <td>3080.46</td>\n",
       "      <td>3079.43</td>\n",
       "    </tr>\n",
       "  </tbody>\n",
       "</table>\n",
       "</div>"
      ],
      "text/plain": [
       "                        Open    Close     High      Low\n",
       "Date                                                   \n",
       "2019-11-05 09:30:00  3080.80  3080.49  3081.47  3080.30\n",
       "2019-11-05 09:31:00  3080.33  3079.36  3080.33  3079.15\n",
       "2019-11-05 09:32:00  3079.43  3079.68  3080.46  3079.43"
      ]
     },
     "execution_count": 21,
     "metadata": {},
     "output_type": "execute_result"
    },
    {
     "data": {
      "text/html": [
       "<div>\n",
       "<style scoped>\n",
       "    .dataframe tbody tr th:only-of-type {\n",
       "        vertical-align: middle;\n",
       "    }\n",
       "\n",
       "    .dataframe tbody tr th {\n",
       "        vertical-align: top;\n",
       "    }\n",
       "\n",
       "    .dataframe thead th {\n",
       "        text-align: right;\n",
       "    }\n",
       "</style>\n",
       "<table border=\"1\" class=\"dataframe\">\n",
       "  <thead>\n",
       "    <tr style=\"text-align: right;\">\n",
       "      <th></th>\n",
       "      <th>Open</th>\n",
       "      <th>Close</th>\n",
       "      <th>High</th>\n",
       "      <th>Low</th>\n",
       "    </tr>\n",
       "    <tr>\n",
       "      <th>Date</th>\n",
       "      <th></th>\n",
       "      <th></th>\n",
       "      <th></th>\n",
       "      <th></th>\n",
       "    </tr>\n",
       "  </thead>\n",
       "  <tbody>\n",
       "    <tr>\n",
       "      <th>2019-11-08 15:57:00</th>\n",
       "      <td>3090.73</td>\n",
       "      <td>3090.70</td>\n",
       "      <td>3091.02</td>\n",
       "      <td>3090.52</td>\n",
       "    </tr>\n",
       "    <tr>\n",
       "      <th>2019-11-08 15:58:00</th>\n",
       "      <td>3090.73</td>\n",
       "      <td>3091.04</td>\n",
       "      <td>3091.13</td>\n",
       "      <td>3090.58</td>\n",
       "    </tr>\n",
       "    <tr>\n",
       "      <th>2019-11-08 15:59:00</th>\n",
       "      <td>3091.16</td>\n",
       "      <td>3092.91</td>\n",
       "      <td>3092.91</td>\n",
       "      <td>3090.96</td>\n",
       "    </tr>\n",
       "  </tbody>\n",
       "</table>\n",
       "</div>"
      ],
      "text/plain": [
       "                        Open    Close     High      Low\n",
       "Date                                                   \n",
       "2019-11-08 15:57:00  3090.73  3090.70  3091.02  3090.52\n",
       "2019-11-08 15:58:00  3090.73  3091.04  3091.13  3090.58\n",
       "2019-11-08 15:59:00  3091.16  3092.91  3092.91  3090.96"
      ]
     },
     "execution_count": 21,
     "metadata": {},
     "output_type": "execute_result"
    }
   ],
   "source": [
    "iday = pd.read_csv('data/SP500_NOV2019_IDay.csv',index_col=0,parse_dates=True)\n",
    "#iday = iday[::-1].drop('Volume',axis=1)\n",
    "iday = iday.drop('Volume',axis=1)\n",
    "iday.index.name = 'Date'\n",
    "iday.shape\n",
    "iday.head(3)\n",
    "iday.tail(3)"
   ]
  },
  {
   "cell_type": "code",
   "execution_count": 22,
   "metadata": {},
   "outputs": [],
   "source": [
    "mpf.plot(iday[260:290])#,type='candlestick')"
   ]
  },
  {
   "cell_type": "code",
   "execution_count": 23,
   "metadata": {},
   "outputs": [
    {
     "name": "stdout",
     "output_type": "stream",
     "text": [
      "processing mav= 3\n",
      "processing mav= 7\n",
      "processing mav= 11\n"
     ]
    }
   ],
   "source": [
    "mpf.plot(iday[260:290],mav=(3,7,11))"
   ]
  },
  {
   "cell_type": "code",
   "execution_count": null,
   "metadata": {},
   "outputs": [],
   "source": [
    "mpf.plot(iday[260:290],type='candlestick')"
   ]
  },
  {
   "cell_type": "code",
   "execution_count": null,
   "metadata": {},
   "outputs": [],
   "source": [
    "iday[260:290].head()\n",
    "iday[260:290].tail()"
   ]
  },
  {
   "cell_type": "code",
   "execution_count": null,
   "metadata": {},
   "outputs": [],
   "source": [
    "hist = pd.read_csv('data/SP500_NOV2019_Hist.csv',index_col=0,parse_dates=True)\n",
    "#hist = hist[::-1]\n",
    "hist.columns = [tok.split()[0] for tok in hist.columns]\n",
    "hist.rename({'Last':'Close'},axis=1,inplace=True)\n",
    "hist.index.name = 'Date'\n",
    "hist.shape\n",
    "hist.head(3)\n",
    "hist.tail(3)"
   ]
  },
  {
   "cell_type": "code",
   "execution_count": null,
   "metadata": {},
   "outputs": [],
   "source": [
    "#mpf.plot(hist)\n",
    "mpf.plot(hist,mav=(4,6,9))"
   ]
  },
  {
   "cell_type": "code",
   "execution_count": null,
   "metadata": {},
   "outputs": [],
   "source": [
    "mpf.plot(hist,type='candlestick',mav=(5,10))"
   ]
  },
  {
   "cell_type": "code",
   "execution_count": null,
   "metadata": {},
   "outputs": [],
   "source": []
  },
  {
   "cell_type": "code",
   "execution_count": null,
   "metadata": {},
   "outputs": [],
   "source": []
  }
 ],
 "metadata": {
  "kernelspec": {
   "display_name": "Python 3",
   "language": "python",
   "name": "python3"
  },
  "language_info": {
   "codemirror_mode": {
    "name": "ipython",
    "version": 3
   },
   "file_extension": ".py",
   "mimetype": "text/x-python",
   "name": "python",
   "nbconvert_exporter": "python",
   "pygments_lexer": "ipython3",
   "version": "3.7.3"
  }
 },
 "nbformat": 4,
 "nbformat_minor": 2
}
