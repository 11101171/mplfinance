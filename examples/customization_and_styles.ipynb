{
 "cells": [
  {
   "cell_type": "markdown",
   "metadata": {},
   "source": [
    "---\n",
    "\n",
    "#  mplfinance: customization and styles\n",
    "\n",
    "---"
   ]
  },
  {
   "cell_type": "code",
   "execution_count": 1,
   "metadata": {},
   "outputs": [],
   "source": [
    "# This allows multiple outputs from a single jupyter notebook cell:\n",
    "from IPython.core.interactiveshell import InteractiveShell\n",
    "InteractiveShell.ast_node_interactivity = \"all\""
   ]
  },
  {
   "cell_type": "code",
   "execution_count": 2,
   "metadata": {},
   "outputs": [],
   "source": [
    "%matplotlib inline\n",
    "import pandas as pd"
   ]
  },
  {
   "cell_type": "markdown",
   "metadata": {},
   "source": [
    "### Read in daily data for the S&P 500 from November of 2019 "
   ]
  },
  {
   "cell_type": "code",
   "execution_count": 3,
   "metadata": {},
   "outputs": [
    {
     "data": {
      "text/plain": "(20, 5)"
     },
     "execution_count": 3,
     "metadata": {},
     "output_type": "execute_result"
    },
    {
     "data": {
      "text/html": "<div>\n<style scoped>\n    .dataframe tbody tr th:only-of-type {\n        vertical-align: middle;\n    }\n\n    .dataframe tbody tr th {\n        vertical-align: top;\n    }\n\n    .dataframe thead th {\n        text-align: right;\n    }\n</style>\n<table border=\"1\" class=\"dataframe\">\n  <thead>\n    <tr style=\"text-align: right;\">\n      <th></th>\n      <th>Open</th>\n      <th>High</th>\n      <th>Low</th>\n      <th>Close</th>\n      <th>Volume</th>\n    </tr>\n    <tr>\n      <th>Date</th>\n      <th></th>\n      <th></th>\n      <th></th>\n      <th></th>\n      <th></th>\n    </tr>\n  </thead>\n  <tbody>\n    <tr>\n      <th>2019-11-01</th>\n      <td>3050.72</td>\n      <td>3066.95</td>\n      <td>3050.72</td>\n      <td>3066.91</td>\n      <td>510301237</td>\n    </tr>\n    <tr>\n      <th>2019-11-04</th>\n      <td>3078.96</td>\n      <td>3085.20</td>\n      <td>3074.87</td>\n      <td>3078.27</td>\n      <td>524848878</td>\n    </tr>\n  </tbody>\n</table>\n</div>",
      "text/plain": "               Open     High      Low    Close     Volume\nDate                                                     \n2019-11-01  3050.72  3066.95  3050.72  3066.91  510301237\n2019-11-04  3078.96  3085.20  3074.87  3078.27  524848878"
     },
     "execution_count": 3,
     "metadata": {},
     "output_type": "execute_result"
    },
    {
     "data": {
      "text/html": "<div>\n<style scoped>\n    .dataframe tbody tr th:only-of-type {\n        vertical-align: middle;\n    }\n\n    .dataframe tbody tr th {\n        vertical-align: top;\n    }\n\n    .dataframe thead th {\n        text-align: right;\n    }\n</style>\n<table border=\"1\" class=\"dataframe\">\n  <thead>\n    <tr style=\"text-align: right;\">\n      <th></th>\n      <th>Open</th>\n      <th>High</th>\n      <th>Low</th>\n      <th>Close</th>\n      <th>Volume</th>\n    </tr>\n    <tr>\n      <th>Date</th>\n      <th></th>\n      <th></th>\n      <th></th>\n      <th></th>\n      <th></th>\n    </tr>\n  </thead>\n  <tbody>\n    <tr>\n      <th>2019-11-27</th>\n      <td>3145.49</td>\n      <td>3154.26</td>\n      <td>3143.41</td>\n      <td>3153.63</td>\n      <td>421853938</td>\n    </tr>\n    <tr>\n      <th>2019-11-29</th>\n      <td>3147.18</td>\n      <td>3150.30</td>\n      <td>3139.34</td>\n      <td>3140.98</td>\n      <td>286602291</td>\n    </tr>\n  </tbody>\n</table>\n</div>",
      "text/plain": "               Open     High      Low    Close     Volume\nDate                                                     \n2019-11-27  3145.49  3154.26  3143.41  3153.63  421853938\n2019-11-29  3147.18  3150.30  3139.34  3140.98  286602291"
     },
     "execution_count": 3,
     "metadata": {},
     "output_type": "execute_result"
    }
   ],
   "source": [
    "daily = pd.read_csv('data/SP500_NOV2019_Hist.csv',index_col=0,parse_dates=True)\n",
    "daily.index.name = 'Date'\n",
    "daily.shape\n",
    "daily.head(2)\n",
    "daily.tail(2)"
   ]
  },
  {
   "cell_type": "code",
   "execution_count": 4,
   "metadata": {},
   "outputs": [],
   "source": [
    "import mplfinance as mpf"
   ]
  },
  {
   "cell_type": "markdown",
   "metadata": {},
   "source": [
    "# Customizing the plot\n",
    "\n",
    "### In addition to plot type (line,ohlc,candle),<br> we can partially customize the appearance of the plot using kwargs,<br> for example:\n",
    "\n",
    "- **Aspect Ratio and Size of the Figure**\n",
    "- **Display of Non-Trading Days**\n",
    "- **Figure Title**\n",
    "- **Y-Labels**\n",
    "- **Line Color for line plot**"
   ]
  },
  {
   "cell_type": "markdown",
   "metadata": {},
   "source": [
    "***\n",
    "\n",
    "- `figscale` is used to scale the aspect ratio (`figratio`) up or down.\n",
    "- `figscale=1.0` means that the aspect ratio, `figratio`, *\\*is** the size of the Figure in inches.\n",
    "- `figscale` and `figratio` can be used independently (they do _not_ need to be specified together)\n",
    "- If not specified, the default values (as of Feb 2020) are:\n",
    "  - `figscale = 1.0`\n",
    "  - `figratio = (8.00,5.75)`"
   ]
  },
  {
   "cell_type": "code",
   "execution_count": 7,
   "metadata": {},
   "outputs": [
    {
     "data": {
      "image/png": "[encoded data removed]",
      "image/svg+xml": "<?xml version=\"1.0\" encoding=\"utf-8\" standalone=\"no\"?>\r\n<!DOCTYPE svg PUBLIC \"-//W3C//DTD SVG 1.1//EN\"\r\n  \"http://www.w3.org/Graphics/SVG/1.1/DTD/svg11.dtd\">\r\n<!-- Created with matplotlib (https://matplotlib.org/) -->\r\n<svg height=\"343.090516pt\" version=\"1.1\" viewBox=\"0 0 467.228125 343.090516\" width=\"467.228125pt\" xmlns=\"http://www.w3.org/2000/svg\" xmlns:xlink=\"http://www.w3.org/1999/xlink\">\r\n <defs>\r\n  <style type=\"text/css\">\r\n*{stroke-linecap:butt;stroke-linejoin:round;}\r\n  </style>\r\n </defs>\r\n <g id=\"figure_1\">\r\n  <g id=\"patch_1\">\r\n   <path d=\"M 0 343.090516 \r\nL 467.228125 343.090516 \r\nL 467.228125 0 \r\nL 0 0 \r\nz\r\n\" style=\"fill:none;\"/>\r\n  </g>\r\n  <g id=\"axes_1\">\r\n   <g id=\"patch_2\">\r\n    <path d=\"M 53.328125 297 \r\nL 456.528125 297 \r\nL 456.528125 7.2 \r\nL 53.328125 7.2 \r\nz\r\n\" style=\"fill:#ffffff;\"/>\r\n   </g>\r\n   <g id=\"PolyCollection_1\">\r\n    <path clip-path=\"url(#pdceefd4ffa)\" d=\"M 71.655398 283.827273 \r\nL 71.655398 277.700423 \r\nL 76.415728 277.700423 \r\nL 76.415728 283.827273 \r\nz\r\n\" style=\"fill:#008000;fill-opacity:0.9;\"/>\r\n    <path clip-path=\"url(#pdceefd4ffa)\" d=\"M 76.415728 277.700423 \r\nL 76.415728 271.573573 \r\nL 81.176059 271.573573 \r\nL 81.176059 277.700423 \r\nz\r\n\" style=\"fill:#008000;fill-opacity:0.9;\"/>\r\n    <path clip-path=\"url(#pdceefd4ffa)\" d=\"M 81.176059 271.573573 \r\nL 81.176059 265.446723 \r\nL 85.936389 265.446723 \r\nL 85.936389 271.573573 \r\nz\r\n\" style=\"fill:#008000;fill-opacity:0.9;\"/>\r\n    <path clip-path=\"url(#pdceefd4ffa)\" d=\"M 85.936389 265.446723 \r\nL 85.936389 259.319873 \r\nL 90.69672 259.319873 \r\nL 90.69672 265.446723 \r\nz\r\n\" style=\"fill:#008000;fill-opacity:0.9;\"/>\r\n    <path clip-path=\"url(#pdceefd4ffa)\" d=\"M 90.69672 259.319873 \r\nL 90.69672 253.193023 \r\nL 95.457051 253.193023 \r\nL 95.457051 259.319873 \r\nz\r\n\" style=\"fill:#008000;fill-opacity:0.9;\"/>\r\n    <path clip-path=\"url(#pdceefd4ffa)\" d=\"M 95.457051 253.193023 \r\nL 95.457051 247.066173 \r\nL 100.217381 247.066173 \r\nL 100.217381 253.193023 \r\nz\r\n\" style=\"fill:#008000;fill-opacity:0.9;\"/>\r\n    <path clip-path=\"url(#pdceefd4ffa)\" d=\"M 100.217381 259.319873 \r\nL 100.217381 253.193023 \r\nL 104.977712 253.193023 \r\nL 104.977712 259.319873 \r\nz\r\n\" style=\"fill:#ff0000;fill-opacity:0.9;\"/>\r\n    <path clip-path=\"url(#pdceefd4ffa)\" d=\"M 104.977712 265.446723 \r\nL 104.977712 259.319873 \r\nL 109.738042 259.319873 \r\nL 109.738042 265.446723 \r\nz\r\n\" style=\"fill:#ff0000;fill-opacity:0.9;\"/>\r\n    <path clip-path=\"url(#pdceefd4ffa)\" d=\"M 109.738042 259.319873 \r\nL 109.738042 253.193023 \r\nL 114.498373 253.193023 \r\nL 114.498373 259.319873 \r\nz\r\n\" style=\"fill:#008000;fill-opacity:0.9;\"/>\r\n    <path clip-path=\"url(#pdceefd4ffa)\" d=\"M 114.498373 253.193023 \r\nL 114.498373 247.066173 \r\nL 119.258704 247.066173 \r\nL 119.258704 253.193023 \r\nz\r\n\" style=\"fill:#008000;fill-opacity:0.9;\"/>\r\n    <path clip-path=\"url(#pdceefd4ffa)\" d=\"M 119.258704 247.066173 \r\nL 119.258704 240.939323 \r\nL 124.019034 240.939323 \r\nL 124.019034 247.066173 \r\nz\r\n\" style=\"fill:#008000;fill-opacity:0.9;\"/>\r\n    <path clip-path=\"url(#pdceefd4ffa)\" d=\"M 124.019034 240.939323 \r\nL 124.019034 234.812474 \r\nL 128.779365 234.812474 \r\nL 128.779365 240.939323 \r\nz\r\n\" style=\"fill:#008000;fill-opacity:0.9;\"/>\r\n    <path clip-path=\"url(#pdceefd4ffa)\" d=\"M 128.779365 234.812474 \r\nL 128.779365 228.685624 \r\nL 133.539695 228.685624 \r\nL 133.539695 234.812474 \r\nz\r\n\" style=\"fill:#008000;fill-opacity:0.9;\"/>\r\n    <path clip-path=\"url(#pdceefd4ffa)\" d=\"M 133.539695 228.685624 \r\nL 133.539695 222.558774 \r\nL 138.300026 222.558774 \r\nL 138.300026 228.685624 \r\nz\r\n\" style=\"fill:#008000;fill-opacity:0.9;\"/>\r\n    <path clip-path=\"url(#pdceefd4ffa)\" d=\"M 138.300026 222.558774 \r\nL 138.300026 216.431924 \r\nL 143.060356 216.431924 \r\nL 143.060356 222.558774 \r\nz\r\n\" style=\"fill:#008000;fill-opacity:0.9;\"/>\r\n    <path clip-path=\"url(#pdceefd4ffa)\" d=\"M 143.060356 216.431924 \r\nL 143.060356 210.305074 \r\nL 147.820687 210.305074 \r\nL 147.820687 216.431924 \r\nz\r\n\" style=\"fill:#008000;fill-opacity:0.9;\"/>\r\n    <path clip-path=\"url(#pdceefd4ffa)\" d=\"M 147.820687 210.305074 \r\nL 147.820687 204.178224 \r\nL 152.581018 204.178224 \r\nL 152.581018 210.305074 \r\nz\r\n\" style=\"fill:#008000;fill-opacity:0.9;\"/>\r\n    <path clip-path=\"url(#pdceefd4ffa)\" d=\"M 152.581018 216.431924 \r\nL 152.581018 210.305074 \r\nL 157.341348 210.305074 \r\nL 157.341348 216.431924 \r\nz\r\n\" style=\"fill:#ff0000;fill-opacity:0.9;\"/>\r\n    <path clip-path=\"url(#pdceefd4ffa)\" d=\"M 157.341348 222.558774 \r\nL 157.341348 216.431924 \r\nL 162.101679 216.431924 \r\nL 162.101679 222.558774 \r\nz\r\n\" style=\"fill:#ff0000;fill-opacity:0.9;\"/>\r\n    <path clip-path=\"url(#pdceefd4ffa)\" d=\"M 162.101679 228.685624 \r\nL 162.101679 222.558774 \r\nL 166.862009 222.558774 \r\nL 166.862009 228.685624 \r\nz\r\n\" style=\"fill:#ff0000;fill-opacity:0.9;\"/>\r\n    <path clip-path=\"url(#pdceefd4ffa)\" d=\"M 166.862009 222.558774 \r\nL 166.862009 216.431924 \r\nL 171.62234 216.431924 \r\nL 171.62234 222.558774 \r\nz\r\n\" style=\"fill:#008000;fill-opacity:0.9;\"/>\r\n    <path clip-path=\"url(#pdceefd4ffa)\" d=\"M 171.62234 216.431924 \r\nL 171.62234 210.305074 \r\nL 176.38267 210.305074 \r\nL 176.38267 216.431924 \r\nz\r\n\" style=\"fill:#008000;fill-opacity:0.9;\"/>\r\n    <path clip-path=\"url(#pdceefd4ffa)\" d=\"M 176.38267 210.305074 \r\nL 176.38267 204.178224 \r\nL 181.143001 204.178224 \r\nL 181.143001 210.305074 \r\nz\r\n\" style=\"fill:#008000;fill-opacity:0.9;\"/>\r\n    <path clip-path=\"url(#pdceefd4ffa)\" d=\"M 181.143001 204.178224 \r\nL 181.143001 198.051374 \r\nL 185.903332 198.051374 \r\nL 185.903332 204.178224 \r\nz\r\n\" style=\"fill:#008000;fill-opacity:0.9;\"/>\r\n    <path clip-path=\"url(#pdceefd4ffa)\" d=\"M 185.903332 198.051374 \r\nL 185.903332 191.924524 \r\nL 190.663662 191.924524 \r\nL 190.663662 198.051374 \r\nz\r\n\" style=\"fill:#008000;fill-opacity:0.9;\"/>\r\n    <path clip-path=\"url(#pdceefd4ffa)\" d=\"M 190.663662 191.924524 \r\nL 190.663662 185.797674 \r\nL 195.423993 185.797674 \r\nL 195.423993 191.924524 \r\nz\r\n\" style=\"fill:#008000;fill-opacity:0.9;\"/>\r\n    <path clip-path=\"url(#pdceefd4ffa)\" d=\"M 195.423993 185.797674 \r\nL 195.423993 179.670825 \r\nL 200.184323 179.670825 \r\nL 200.184323 185.797674 \r\nz\r\n\" style=\"fill:#008000;fill-opacity:0.9;\"/>\r\n    <path clip-path=\"url(#pdceefd4ffa)\" d=\"M 200.184323 179.670825 \r\nL 200.184323 173.543975 \r\nL 204.944654 173.543975 \r\nL 204.944654 179.670825 \r\nz\r\n\" style=\"fill:#008000;fill-opacity:0.9;\"/>\r\n    <path clip-path=\"url(#pdceefd4ffa)\" d=\"M 204.944654 173.543975 \r\nL 204.944654 167.417125 \r\nL 209.704985 167.417125 \r\nL 209.704985 173.543975 \r\nz\r\n\" style=\"fill:#008000;fill-opacity:0.9;\"/>\r\n    <path clip-path=\"url(#pdceefd4ffa)\" d=\"M 209.704985 167.417125 \r\nL 209.704985 161.290275 \r\nL 214.465315 161.290275 \r\nL 214.465315 167.417125 \r\nz\r\n\" style=\"fill:#008000;fill-opacity:0.9;\"/>\r\n    <path clip-path=\"url(#pdceefd4ffa)\" d=\"M 214.465315 161.290275 \r\nL 214.465315 155.163425 \r\nL 219.225646 155.163425 \r\nL 219.225646 161.290275 \r\nz\r\n\" style=\"fill:#008000;fill-opacity:0.9;\"/>\r\n    <path clip-path=\"url(#pdceefd4ffa)\" d=\"M 219.225646 155.163425 \r\nL 219.225646 149.036575 \r\nL 223.985976 149.036575 \r\nL 223.985976 155.163425 \r\nz\r\n\" style=\"fill:#008000;fill-opacity:0.9;\"/>\r\n    <path clip-path=\"url(#pdceefd4ffa)\" d=\"M 223.985976 149.036575 \r\nL 223.985976 142.909725 \r\nL 228.746307 142.909725 \r\nL 228.746307 149.036575 \r\nz\r\n\" style=\"fill:#008000;fill-opacity:0.9;\"/>\r\n    <path clip-path=\"url(#pdceefd4ffa)\" d=\"M 228.746307 142.909725 \r\nL 228.746307 136.782875 \r\nL 233.506637 136.782875 \r\nL 233.506637 142.909725 \r\nz\r\n\" style=\"fill:#008000;fill-opacity:0.9;\"/>\r\n    <path clip-path=\"url(#pdceefd4ffa)\" d=\"M 233.506637 136.782875 \r\nL 233.506637 130.656025 \r\nL 238.266968 130.656025 \r\nL 238.266968 136.782875 \r\nz\r\n\" style=\"fill:#008000;fill-opacity:0.9;\"/>\r\n    <path clip-path=\"url(#pdceefd4ffa)\" d=\"M 238.266968 130.656025 \r\nL 238.266968 124.529175 \r\nL 243.027299 124.529175 \r\nL 243.027299 130.656025 \r\nz\r\n\" style=\"fill:#008000;fill-opacity:0.9;\"/>\r\n    <path clip-path=\"url(#pdceefd4ffa)\" d=\"M 243.027299 124.529175 \r\nL 243.027299 118.402326 \r\nL 247.787629 118.402326 \r\nL 247.787629 124.529175 \r\nz\r\n\" style=\"fill:#008000;fill-opacity:0.9;\"/>\r\n    <path clip-path=\"url(#pdceefd4ffa)\" d=\"M 247.787629 130.656025 \r\nL 247.787629 124.529175 \r\nL 252.54796 124.529175 \r\nL 252.54796 130.656025 \r\nz\r\n\" style=\"fill:#ff0000;fill-opacity:0.9;\"/>\r\n    <path clip-path=\"url(#pdceefd4ffa)\" d=\"M 252.54796 136.782875 \r\nL 252.54796 130.656025 \r\nL 257.30829 130.656025 \r\nL 257.30829 136.782875 \r\nz\r\n\" style=\"fill:#ff0000;fill-opacity:0.9;\"/>\r\n    <path clip-path=\"url(#pdceefd4ffa)\" d=\"M 257.30829 142.909725 \r\nL 257.30829 136.782875 \r\nL 262.068621 136.782875 \r\nL 262.068621 142.909725 \r\nz\r\n\" style=\"fill:#ff0000;fill-opacity:0.9;\"/>\r\n    <path clip-path=\"url(#pdceefd4ffa)\" d=\"M 262.068621 149.036575 \r\nL 262.068621 142.909725 \r\nL 266.828951 142.909725 \r\nL 266.828951 149.036575 \r\nz\r\n\" style=\"fill:#ff0000;fill-opacity:0.9;\"/>\r\n    <path clip-path=\"url(#pdceefd4ffa)\" d=\"M 266.828951 155.163425 \r\nL 266.828951 149.036575 \r\nL 271.589282 149.036575 \r\nL 271.589282 155.163425 \r\nz\r\n\" style=\"fill:#ff0000;fill-opacity:0.9;\"/>\r\n    <path clip-path=\"url(#pdceefd4ffa)\" d=\"M 271.589282 161.290275 \r\nL 271.589282 155.163425 \r\nL 276.349613 155.163425 \r\nL 276.349613 161.290275 \r\nz\r\n\" style=\"fill:#ff0000;fill-opacity:0.9;\"/>\r\n    <path clip-path=\"url(#pdceefd4ffa)\" d=\"M 276.349613 167.417125 \r\nL 276.349613 161.290275 \r\nL 281.109943 161.290275 \r\nL 281.109943 167.417125 \r\nz\r\n\" style=\"fill:#ff0000;fill-opacity:0.9;\"/>\r\n    <path clip-path=\"url(#pdceefd4ffa)\" d=\"M 281.109943 173.543975 \r\nL 281.109943 167.417125 \r\nL 285.870274 167.417125 \r\nL 285.870274 173.543975 \r\nz\r\n\" style=\"fill:#ff0000;fill-opacity:0.9;\"/>\r\n    <path clip-path=\"url(#pdceefd4ffa)\" d=\"M 285.870274 179.670825 \r\nL 285.870274 173.543975 \r\nL 290.630604 173.543975 \r\nL 290.630604 179.670825 \r\nz\r\n\" style=\"fill:#ff0000;fill-opacity:0.9;\"/>\r\n    <path clip-path=\"url(#pdceefd4ffa)\" d=\"M 290.630604 173.543975 \r\nL 290.630604 167.417125 \r\nL 295.390935 167.417125 \r\nL 295.390935 173.543975 \r\nz\r\n\" style=\"fill:#008000;fill-opacity:0.9;\"/>\r\n    <path clip-path=\"url(#pdceefd4ffa)\" d=\"M 295.390935 167.417125 \r\nL 295.390935 161.290275 \r\nL 300.151265 161.290275 \r\nL 300.151265 167.417125 \r\nz\r\n\" style=\"fill:#008000;fill-opacity:0.9;\"/>\r\n    <path clip-path=\"url(#pdceefd4ffa)\" d=\"M 300.151265 161.290275 \r\nL 300.151265 155.163425 \r\nL 304.911596 155.163425 \r\nL 304.911596 161.290275 \r\nz\r\n\" style=\"fill:#008000;fill-opacity:0.9;\"/>\r\n    <path clip-path=\"url(#pdceefd4ffa)\" d=\"M 304.911596 155.163425 \r\nL 304.911596 149.036575 \r\nL 309.671927 149.036575 \r\nL 309.671927 155.163425 \r\nz\r\n\" style=\"fill:#008000;fill-opacity:0.9;\"/>\r\n    <path clip-path=\"url(#pdceefd4ffa)\" d=\"M 309.671927 149.036575 \r\nL 309.671927 142.909725 \r\nL 314.432257 142.909725 \r\nL 314.432257 149.036575 \r\nz\r\n\" style=\"fill:#008000;fill-opacity:0.9;\"/>\r\n    <path clip-path=\"url(#pdceefd4ffa)\" d=\"M 314.432257 142.909725 \r\nL 314.432257 136.782875 \r\nL 319.192588 136.782875 \r\nL 319.192588 142.909725 \r\nz\r\n\" style=\"fill:#008000;fill-opacity:0.9;\"/>\r\n    <path clip-path=\"url(#pdceefd4ffa)\" d=\"M 319.192588 136.782875 \r\nL 319.192588 130.656025 \r\nL 323.952918 130.656025 \r\nL 323.952918 136.782875 \r\nz\r\n\" style=\"fill:#008000;fill-opacity:0.9;\"/>\r\n    <path clip-path=\"url(#pdceefd4ffa)\" d=\"M 323.952918 130.656025 \r\nL 323.952918 124.529175 \r\nL 328.713249 124.529175 \r\nL 328.713249 130.656025 \r\nz\r\n\" style=\"fill:#008000;fill-opacity:0.9;\"/>\r\n    <path clip-path=\"url(#pdceefd4ffa)\" d=\"M 328.713249 124.529175 \r\nL 328.713249 118.402326 \r\nL 333.47358 118.402326 \r\nL 333.47358 124.529175 \r\nz\r\n\" style=\"fill:#008000;fill-opacity:0.9;\"/>\r\n    <path clip-path=\"url(#pdceefd4ffa)\" d=\"M 333.47358 118.402326 \r\nL 333.47358 112.275476 \r\nL 338.23391 112.275476 \r\nL 338.23391 118.402326 \r\nz\r\n\" style=\"fill:#008000;fill-opacity:0.9;\"/>\r\n    <path clip-path=\"url(#pdceefd4ffa)\" d=\"M 338.23391 112.275476 \r\nL 338.23391 106.148626 \r\nL 342.994241 106.148626 \r\nL 342.994241 112.275476 \r\nz\r\n\" style=\"fill:#008000;fill-opacity:0.9;\"/>\r\n    <path clip-path=\"url(#pdceefd4ffa)\" d=\"M 342.994241 106.148626 \r\nL 342.994241 100.021776 \r\nL 347.754571 100.021776 \r\nL 347.754571 106.148626 \r\nz\r\n\" style=\"fill:#008000;fill-opacity:0.9;\"/>\r\n    <path clip-path=\"url(#pdceefd4ffa)\" d=\"M 347.754571 100.021776 \r\nL 347.754571 93.894926 \r\nL 352.514902 93.894926 \r\nL 352.514902 100.021776 \r\nz\r\n\" style=\"fill:#008000;fill-opacity:0.9;\"/>\r\n    <path clip-path=\"url(#pdceefd4ffa)\" d=\"M 352.514902 93.894926 \r\nL 352.514902 87.768076 \r\nL 357.275232 87.768076 \r\nL 357.275232 93.894926 \r\nz\r\n\" style=\"fill:#008000;fill-opacity:0.9;\"/>\r\n    <path clip-path=\"url(#pdceefd4ffa)\" d=\"M 357.275232 87.768076 \r\nL 357.275232 81.641226 \r\nL 362.035563 81.641226 \r\nL 362.035563 87.768076 \r\nz\r\n\" style=\"fill:#008000;fill-opacity:0.9;\"/>\r\n    <path clip-path=\"url(#pdceefd4ffa)\" d=\"M 362.035563 81.641226 \r\nL 362.035563 75.514376 \r\nL 366.795894 75.514376 \r\nL 366.795894 81.641226 \r\nz\r\n\" style=\"fill:#008000;fill-opacity:0.9;\"/>\r\n    <path clip-path=\"url(#pdceefd4ffa)\" d=\"M 366.795894 75.514376 \r\nL 366.795894 69.387526 \r\nL 371.556224 69.387526 \r\nL 371.556224 75.514376 \r\nz\r\n\" style=\"fill:#008000;fill-opacity:0.9;\"/>\r\n    <path clip-path=\"url(#pdceefd4ffa)\" d=\"M 371.556224 69.387526 \r\nL 371.556224 63.260677 \r\nL 376.316555 63.260677 \r\nL 376.316555 69.387526 \r\nz\r\n\" style=\"fill:#008000;fill-opacity:0.9;\"/>\r\n    <path clip-path=\"url(#pdceefd4ffa)\" d=\"M 376.316555 63.260677 \r\nL 376.316555 57.133827 \r\nL 381.076885 57.133827 \r\nL 381.076885 63.260677 \r\nz\r\n\" style=\"fill:#008000;fill-opacity:0.9;\"/>\r\n    <path clip-path=\"url(#pdceefd4ffa)\" d=\"M 381.076885 57.133827 \r\nL 381.076885 51.006977 \r\nL 385.837216 51.006977 \r\nL 385.837216 57.133827 \r\nz\r\n\" style=\"fill:#008000;fill-opacity:0.9;\"/>\r\n    <path clip-path=\"url(#pdceefd4ffa)\" d=\"M 385.837216 51.006977 \r\nL 385.837216 44.880127 \r\nL 390.597546 44.880127 \r\nL 390.597546 51.006977 \r\nz\r\n\" style=\"fill:#008000;fill-opacity:0.9;\"/>\r\n    <path clip-path=\"url(#pdceefd4ffa)\" d=\"M 390.597546 44.880127 \r\nL 390.597546 38.753277 \r\nL 395.357877 38.753277 \r\nL 395.357877 44.880127 \r\nz\r\n\" style=\"fill:#008000;fill-opacity:0.9;\"/>\r\n    <path clip-path=\"url(#pdceefd4ffa)\" d=\"M 395.357877 38.753277 \r\nL 395.357877 32.626427 \r\nL 400.118208 32.626427 \r\nL 400.118208 38.753277 \r\nz\r\n\" style=\"fill:#008000;fill-opacity:0.9;\"/>\r\n    <path clip-path=\"url(#pdceefd4ffa)\" d=\"M 400.118208 32.626427 \r\nL 400.118208 26.499577 \r\nL 404.878538 26.499577 \r\nL 404.878538 32.626427 \r\nz\r\n\" style=\"fill:#008000;fill-opacity:0.9;\"/>\r\n    <path clip-path=\"url(#pdceefd4ffa)\" d=\"M 404.878538 26.499577 \r\nL 404.878538 20.372727 \r\nL 409.638869 20.372727 \r\nL 409.638869 26.499577 \r\nz\r\n\" style=\"fill:#008000;fill-opacity:0.9;\"/>\r\n    <path clip-path=\"url(#pdceefd4ffa)\" d=\"M 409.638869 32.626427 \r\nL 409.638869 26.499577 \r\nL 414.399199 26.499577 \r\nL 414.399199 32.626427 \r\nz\r\n\" style=\"fill:#ff0000;fill-opacity:0.9;\"/>\r\n    <path clip-path=\"url(#pdceefd4ffa)\" d=\"M 414.399199 38.753277 \r\nL 414.399199 32.626427 \r\nL 419.15953 32.626427 \r\nL 419.15953 38.753277 \r\nz\r\n\" style=\"fill:#ff0000;fill-opacity:0.9;\"/>\r\n    <path clip-path=\"url(#pdceefd4ffa)\" d=\"M 419.15953 44.880127 \r\nL 419.15953 38.753277 \r\nL 423.919861 38.753277 \r\nL 423.919861 44.880127 \r\nz\r\n\" style=\"fill:#ff0000;fill-opacity:0.9;\"/>\r\n    <path clip-path=\"url(#pdceefd4ffa)\" d=\"M 423.919861 51.006977 \r\nL 423.919861 44.880127 \r\nL 428.680191 44.880127 \r\nL 428.680191 51.006977 \r\nz\r\n\" style=\"fill:#ff0000;fill-opacity:0.9;\"/>\r\n    <path clip-path=\"url(#pdceefd4ffa)\" d=\"M 428.680191 57.133827 \r\nL 428.680191 51.006977 \r\nL 433.440522 51.006977 \r\nL 433.440522 57.133827 \r\nz\r\n\" style=\"fill:#ff0000;fill-opacity:0.9;\"/>\r\n    <path clip-path=\"url(#pdceefd4ffa)\" d=\"M 433.440522 63.260677 \r\nL 433.440522 57.133827 \r\nL 438.200852 57.133827 \r\nL 438.200852 63.260677 \r\nz\r\n\" style=\"fill:#ff0000;fill-opacity:0.9;\"/>\r\n   </g>\r\n   <g id=\"matplotlib.axis_1\">\r\n    <g id=\"xtick_1\">\r\n     <g id=\"line2d_1\">\r\n      <defs>\r\n       <path d=\"M 0 0 \r\nL 0 3.5 \r\n\" id=\"md0b65ae678\" style=\"stroke:#000000;stroke-width:0.8;\"/>\r\n      </defs>\r\n      <g>\r\n       <use style=\"stroke:#000000;stroke-width:0.8;\" x=\"71.655398\" xlink:href=\"#md0b65ae678\" y=\"297\"/>\r\n      </g>\r\n     </g>\r\n     <g id=\"text_1\">\r\n      <!-- Nov 01 -->\r\n      <defs>\r\n       <path d=\"M 9.8125 72.90625 \r\nL 23.09375 72.90625 \r\nL 55.421875 11.921875 \r\nL 55.421875 72.90625 \r\nL 64.984375 72.90625 \r\nL 64.984375 0 \r\nL 51.703125 0 \r\nL 19.390625 60.984375 \r\nL 19.390625 0 \r\nL 9.8125 0 \r\nz\r\n\" id=\"DejaVuSans-78\"/>\r\n       <path d=\"M 30.609375 48.390625 \r\nQ 23.390625 48.390625 19.1875 42.75 \r\nQ 14.984375 37.109375 14.984375 27.296875 \r\nQ 14.984375 17.484375 19.15625 11.84375 \r\nQ 23.34375 6.203125 30.609375 6.203125 \r\nQ 37.796875 6.203125 41.984375 11.859375 \r\nQ 46.1875 17.53125 46.1875 27.296875 \r\nQ 46.1875 37.015625 41.984375 42.703125 \r\nQ 37.796875 48.390625 30.609375 48.390625 \r\nz\r\nM 30.609375 56 \r\nQ 42.328125 56 49.015625 48.375 \r\nQ 55.71875 40.765625 55.71875 27.296875 \r\nQ 55.71875 13.875 49.015625 6.21875 \r\nQ 42.328125 -1.421875 30.609375 -1.421875 \r\nQ 18.84375 -1.421875 12.171875 6.21875 \r\nQ 5.515625 13.875 5.515625 27.296875 \r\nQ 5.515625 40.765625 12.171875 48.375 \r\nQ 18.84375 56 30.609375 56 \r\nz\r\n\" id=\"DejaVuSans-111\"/>\r\n       <path d=\"M 2.984375 54.6875 \r\nL 12.5 54.6875 \r\nL 29.59375 8.796875 \r\nL 46.6875 54.6875 \r\nL 56.203125 54.6875 \r\nL 35.6875 0 \r\nL 23.484375 0 \r\nz\r\n\" id=\"DejaVuSans-118\"/>\r\n       <path id=\"DejaVuSans-32\"/>\r\n       <path d=\"M 31.78125 66.40625 \r\nQ 24.171875 66.40625 20.328125 58.90625 \r\nQ 16.5 51.421875 16.5 36.375 \r\nQ 16.5 21.390625 20.328125 13.890625 \r\nQ 24.171875 6.390625 31.78125 6.390625 \r\nQ 39.453125 6.390625 43.28125 13.890625 \r\nQ 47.125 21.390625 47.125 36.375 \r\nQ 47.125 51.421875 43.28125 58.90625 \r\nQ 39.453125 66.40625 31.78125 66.40625 \r\nz\r\nM 31.78125 74.21875 \r\nQ 44.046875 74.21875 50.515625 64.515625 \r\nQ 56.984375 54.828125 56.984375 36.375 \r\nQ 56.984375 17.96875 50.515625 8.265625 \r\nQ 44.046875 -1.421875 31.78125 -1.421875 \r\nQ 19.53125 -1.421875 13.0625 8.265625 \r\nQ 6.59375 17.96875 6.59375 36.375 \r\nQ 6.59375 54.828125 13.0625 64.515625 \r\nQ 19.53125 74.21875 31.78125 74.21875 \r\nz\r\n\" id=\"DejaVuSans-48\"/>\r\n       <path d=\"M 12.40625 8.296875 \r\nL 28.515625 8.296875 \r\nL 28.515625 63.921875 \r\nL 10.984375 60.40625 \r\nL 10.984375 69.390625 \r\nL 28.421875 72.90625 \r\nL 38.28125 72.90625 \r\nL 38.28125 8.296875 \r\nL 54.390625 8.296875 \r\nL 54.390625 0 \r\nL 12.40625 0 \r\nz\r\n\" id=\"DejaVuSans-49\"/>\r\n      </defs>\r\n      <g transform=\"translate(61.083046 334.419955)rotate(-45)scale(0.1 -0.1)\">\r\n       <use xlink:href=\"#DejaVuSans-78\"/>\r\n       <use x=\"74.804688\" xlink:href=\"#DejaVuSans-111\"/>\r\n       <use x=\"135.986328\" xlink:href=\"#DejaVuSans-118\"/>\r\n       <use x=\"195.166016\" xlink:href=\"#DejaVuSans-32\"/>\r\n       <use x=\"226.953125\" xlink:href=\"#DejaVuSans-48\"/>\r\n       <use x=\"290.576172\" xlink:href=\"#DejaVuSans-49\"/>\r\n      </g>\r\n     </g>\r\n    </g>\r\n    <g id=\"xtick_2\">\r\n     <g id=\"line2d_2\">\r\n      <g>\r\n       <use style=\"stroke:#000000;stroke-width:0.8;\" x=\"119.258704\" xlink:href=\"#md0b65ae678\" y=\"297\"/>\r\n      </g>\r\n     </g>\r\n     <g id=\"text_2\">\r\n      <!-- Nov 15 -->\r\n      <defs>\r\n       <path d=\"M 10.796875 72.90625 \r\nL 49.515625 72.90625 \r\nL 49.515625 64.59375 \r\nL 19.828125 64.59375 \r\nL 19.828125 46.734375 \r\nQ 21.96875 47.46875 24.109375 47.828125 \r\nQ 26.265625 48.1875 28.421875 48.1875 \r\nQ 40.625 48.1875 47.75 41.5 \r\nQ 54.890625 34.8125 54.890625 23.390625 \r\nQ 54.890625 11.625 47.5625 5.09375 \r\nQ 40.234375 -1.421875 26.90625 -1.421875 \r\nQ 22.3125 -1.421875 17.546875 -0.640625 \r\nQ 12.796875 0.140625 7.71875 1.703125 \r\nL 7.71875 11.625 \r\nQ 12.109375 9.234375 16.796875 8.0625 \r\nQ 21.484375 6.890625 26.703125 6.890625 \r\nQ 35.15625 6.890625 40.078125 11.328125 \r\nQ 45.015625 15.765625 45.015625 23.390625 \r\nQ 45.015625 31 40.078125 35.4375 \r\nQ 35.15625 39.890625 26.703125 39.890625 \r\nQ 22.75 39.890625 18.8125 39.015625 \r\nQ 14.890625 38.140625 10.796875 36.28125 \r\nz\r\n\" id=\"DejaVuSans-53\"/>\r\n      </defs>\r\n      <g transform=\"translate(108.686352 334.419955)rotate(-45)scale(0.1 -0.1)\">\r\n       <use xlink:href=\"#DejaVuSans-78\"/>\r\n       <use x=\"74.804688\" xlink:href=\"#DejaVuSans-111\"/>\r\n       <use x=\"135.986328\" xlink:href=\"#DejaVuSans-118\"/>\r\n       <use x=\"195.166016\" xlink:href=\"#DejaVuSans-32\"/>\r\n       <use x=\"226.953125\" xlink:href=\"#DejaVuSans-49\"/>\r\n       <use x=\"290.576172\" xlink:href=\"#DejaVuSans-53\"/>\r\n      </g>\r\n     </g>\r\n    </g>\r\n    <g id=\"xtick_3\">\r\n     <g id=\"line2d_3\">\r\n      <g>\r\n       <use style=\"stroke:#000000;stroke-width:0.8;\" x=\"166.862009\" xlink:href=\"#md0b65ae678\" y=\"297\"/>\r\n      </g>\r\n     </g>\r\n    </g>\r\n    <g id=\"xtick_4\">\r\n     <g id=\"line2d_4\">\r\n      <g>\r\n       <use style=\"stroke:#000000;stroke-width:0.8;\" x=\"214.465315\" xlink:href=\"#md0b65ae678\" y=\"297\"/>\r\n      </g>\r\n     </g>\r\n    </g>\r\n    <g id=\"xtick_5\">\r\n     <g id=\"line2d_5\">\r\n      <g>\r\n       <use style=\"stroke:#000000;stroke-width:0.8;\" x=\"262.068621\" xlink:href=\"#md0b65ae678\" y=\"297\"/>\r\n      </g>\r\n     </g>\r\n    </g>\r\n    <g id=\"xtick_6\">\r\n     <g id=\"line2d_6\">\r\n      <g>\r\n       <use style=\"stroke:#000000;stroke-width:0.8;\" x=\"309.671927\" xlink:href=\"#md0b65ae678\" y=\"297\"/>\r\n      </g>\r\n     </g>\r\n    </g>\r\n    <g id=\"xtick_7\">\r\n     <g id=\"line2d_7\">\r\n      <g>\r\n       <use style=\"stroke:#000000;stroke-width:0.8;\" x=\"357.275232\" xlink:href=\"#md0b65ae678\" y=\"297\"/>\r\n      </g>\r\n     </g>\r\n    </g>\r\n    <g id=\"xtick_8\">\r\n     <g id=\"line2d_8\">\r\n      <g>\r\n       <use style=\"stroke:#000000;stroke-width:0.8;\" x=\"404.878538\" xlink:href=\"#md0b65ae678\" y=\"297\"/>\r\n      </g>\r\n     </g>\r\n    </g>\r\n    <g id=\"xtick_9\">\r\n     <g id=\"line2d_9\">\r\n      <g>\r\n       <use style=\"stroke:#000000;stroke-width:0.8;\" x=\"452.481844\" xlink:href=\"#md0b65ae678\" y=\"297\"/>\r\n      </g>\r\n     </g>\r\n    </g>\r\n   </g>\r\n   <g id=\"matplotlib.axis_2\">\r\n    <g id=\"ytick_1\">\r\n     <g id=\"line2d_10\">\r\n      <defs>\r\n       <path d=\"M 0 0 \r\nL -3.5 0 \r\n\" id=\"m229dd19950\" style=\"stroke:#000000;stroke-width:0.8;\"/>\r\n      </defs>\r\n      <g>\r\n       <use style=\"stroke:#000000;stroke-width:0.8;\" x=\"53.328125\" xlink:href=\"#m229dd19950\" y=\"249.85389\"/>\r\n      </g>\r\n     </g>\r\n     <g id=\"text_3\">\r\n      <!-- 3080 -->\r\n      <defs>\r\n       <path d=\"M 40.578125 39.3125 \r\nQ 47.65625 37.796875 51.625 33 \r\nQ 55.609375 28.21875 55.609375 21.1875 \r\nQ 55.609375 10.40625 48.1875 4.484375 \r\nQ 40.765625 -1.421875 27.09375 -1.421875 \r\nQ 22.515625 -1.421875 17.65625 -0.515625 \r\nQ 12.796875 0.390625 7.625 2.203125 \r\nL 7.625 11.71875 \r\nQ 11.71875 9.328125 16.59375 8.109375 \r\nQ 21.484375 6.890625 26.8125 6.890625 \r\nQ 36.078125 6.890625 40.9375 10.546875 \r\nQ 45.796875 14.203125 45.796875 21.1875 \r\nQ 45.796875 27.640625 41.28125 31.265625 \r\nQ 36.765625 34.90625 28.71875 34.90625 \r\nL 20.21875 34.90625 \r\nL 20.21875 43.015625 \r\nL 29.109375 43.015625 \r\nQ 36.375 43.015625 40.234375 45.921875 \r\nQ 44.09375 48.828125 44.09375 54.296875 \r\nQ 44.09375 59.90625 40.109375 62.90625 \r\nQ 36.140625 65.921875 28.71875 65.921875 \r\nQ 24.65625 65.921875 20.015625 65.03125 \r\nQ 15.375 64.15625 9.8125 62.3125 \r\nL 9.8125 71.09375 \r\nQ 15.4375 72.65625 20.34375 73.4375 \r\nQ 25.25 74.21875 29.59375 74.21875 \r\nQ 40.828125 74.21875 47.359375 69.109375 \r\nQ 53.90625 64.015625 53.90625 55.328125 \r\nQ 53.90625 49.265625 50.4375 45.09375 \r\nQ 46.96875 40.921875 40.578125 39.3125 \r\nz\r\n\" id=\"DejaVuSans-51\"/>\r\n       <path d=\"M 31.78125 34.625 \r\nQ 24.75 34.625 20.71875 30.859375 \r\nQ 16.703125 27.09375 16.703125 20.515625 \r\nQ 16.703125 13.921875 20.71875 10.15625 \r\nQ 24.75 6.390625 31.78125 6.390625 \r\nQ 38.8125 6.390625 42.859375 10.171875 \r\nQ 46.921875 13.96875 46.921875 20.515625 \r\nQ 46.921875 27.09375 42.890625 30.859375 \r\nQ 38.875 34.625 31.78125 34.625 \r\nz\r\nM 21.921875 38.8125 \r\nQ 15.578125 40.375 12.03125 44.71875 \r\nQ 8.5 49.078125 8.5 55.328125 \r\nQ 8.5 64.0625 14.71875 69.140625 \r\nQ 20.953125 74.21875 31.78125 74.21875 \r\nQ 42.671875 74.21875 48.875 69.140625 \r\nQ 55.078125 64.0625 55.078125 55.328125 \r\nQ 55.078125 49.078125 51.53125 44.71875 \r\nQ 48 40.375 41.703125 38.8125 \r\nQ 48.828125 37.15625 52.796875 32.3125 \r\nQ 56.78125 27.484375 56.78125 20.515625 \r\nQ 56.78125 9.90625 50.3125 4.234375 \r\nQ 43.84375 -1.421875 31.78125 -1.421875 \r\nQ 19.734375 -1.421875 13.25 4.234375 \r\nQ 6.78125 9.90625 6.78125 20.515625 \r\nQ 6.78125 27.484375 10.78125 32.3125 \r\nQ 14.796875 37.15625 21.921875 38.8125 \r\nz\r\nM 18.3125 54.390625 \r\nQ 18.3125 48.734375 21.84375 45.5625 \r\nQ 25.390625 42.390625 31.78125 42.390625 \r\nQ 38.140625 42.390625 41.71875 45.5625 \r\nQ 45.3125 48.734375 45.3125 54.390625 \r\nQ 45.3125 60.0625 41.71875 63.234375 \r\nQ 38.140625 66.40625 31.78125 66.40625 \r\nQ 25.390625 66.40625 21.84375 63.234375 \r\nQ 18.3125 60.0625 18.3125 54.390625 \r\nz\r\n\" id=\"DejaVuSans-56\"/>\r\n      </defs>\r\n      <g transform=\"translate(20.878125 253.653109)scale(0.1 -0.1)\">\r\n       <use xlink:href=\"#DejaVuSans-51\"/>\r\n       <use x=\"63.623047\" xlink:href=\"#DejaVuSans-48\"/>\r\n       <use x=\"127.246094\" xlink:href=\"#DejaVuSans-56\"/>\r\n       <use x=\"190.869141\" xlink:href=\"#DejaVuSans-48\"/>\r\n      </g>\r\n     </g>\r\n    </g>\r\n    <g id=\"ytick_2\">\r\n     <g id=\"line2d_11\">\r\n      <g>\r\n       <use style=\"stroke:#000000;stroke-width:0.8;\" x=\"53.328125\" xlink:href=\"#m229dd19950\" y=\"188.585391\"/>\r\n      </g>\r\n     </g>\r\n     <g id=\"text_4\">\r\n      <!-- 3100 -->\r\n      <g transform=\"translate(20.878125 192.38461)scale(0.1 -0.1)\">\r\n       <use xlink:href=\"#DejaVuSans-51\"/>\r\n       <use x=\"63.623047\" xlink:href=\"#DejaVuSans-49\"/>\r\n       <use x=\"127.246094\" xlink:href=\"#DejaVuSans-48\"/>\r\n       <use x=\"190.869141\" xlink:href=\"#DejaVuSans-48\"/>\r\n      </g>\r\n     </g>\r\n    </g>\r\n    <g id=\"ytick_3\">\r\n     <g id=\"line2d_12\">\r\n      <g>\r\n       <use style=\"stroke:#000000;stroke-width:0.8;\" x=\"53.328125\" xlink:href=\"#m229dd19950\" y=\"127.316892\"/>\r\n      </g>\r\n     </g>\r\n     <g id=\"text_5\">\r\n      <!-- 3120 -->\r\n      <defs>\r\n       <path d=\"M 19.1875 8.296875 \r\nL 53.609375 8.296875 \r\nL 53.609375 0 \r\nL 7.328125 0 \r\nL 7.328125 8.296875 \r\nQ 12.9375 14.109375 22.625 23.890625 \r\nQ 32.328125 33.6875 34.8125 36.53125 \r\nQ 39.546875 41.84375 41.421875 45.53125 \r\nQ 43.3125 49.21875 43.3125 52.78125 \r\nQ 43.3125 58.59375 39.234375 62.25 \r\nQ 35.15625 65.921875 28.609375 65.921875 \r\nQ 23.96875 65.921875 18.8125 64.3125 \r\nQ 13.671875 62.703125 7.8125 59.421875 \r\nL 7.8125 69.390625 \r\nQ 13.765625 71.78125 18.9375 73 \r\nQ 24.125 74.21875 28.421875 74.21875 \r\nQ 39.75 74.21875 46.484375 68.546875 \r\nQ 53.21875 62.890625 53.21875 53.421875 \r\nQ 53.21875 48.921875 51.53125 44.890625 \r\nQ 49.859375 40.875 45.40625 35.40625 \r\nQ 44.1875 33.984375 37.640625 27.21875 \r\nQ 31.109375 20.453125 19.1875 8.296875 \r\nz\r\n\" id=\"DejaVuSans-50\"/>\r\n      </defs>\r\n      <g transform=\"translate(20.878125 131.116111)scale(0.1 -0.1)\">\r\n       <use xlink:href=\"#DejaVuSans-51\"/>\r\n       <use x=\"63.623047\" xlink:href=\"#DejaVuSans-49\"/>\r\n       <use x=\"127.246094\" xlink:href=\"#DejaVuSans-50\"/>\r\n       <use x=\"190.869141\" xlink:href=\"#DejaVuSans-48\"/>\r\n      </g>\r\n     </g>\r\n    </g>\r\n    <g id=\"ytick_4\">\r\n     <g id=\"line2d_13\">\r\n      <g>\r\n       <use style=\"stroke:#000000;stroke-width:0.8;\" x=\"53.328125\" xlink:href=\"#m229dd19950\" y=\"66.048393\"/>\r\n      </g>\r\n     </g>\r\n     <g id=\"text_6\">\r\n      <!-- 3140 -->\r\n      <defs>\r\n       <path d=\"M 37.796875 64.3125 \r\nL 12.890625 25.390625 \r\nL 37.796875 25.390625 \r\nz\r\nM 35.203125 72.90625 \r\nL 47.609375 72.90625 \r\nL 47.609375 25.390625 \r\nL 58.015625 25.390625 \r\nL 58.015625 17.1875 \r\nL 47.609375 17.1875 \r\nL 47.609375 0 \r\nL 37.796875 0 \r\nL 37.796875 17.1875 \r\nL 4.890625 17.1875 \r\nL 4.890625 26.703125 \r\nz\r\n\" id=\"DejaVuSans-52\"/>\r\n      </defs>\r\n      <g transform=\"translate(20.878125 69.847612)scale(0.1 -0.1)\">\r\n       <use xlink:href=\"#DejaVuSans-51\"/>\r\n       <use x=\"63.623047\" xlink:href=\"#DejaVuSans-49\"/>\r\n       <use x=\"127.246094\" xlink:href=\"#DejaVuSans-52\"/>\r\n       <use x=\"190.869141\" xlink:href=\"#DejaVuSans-48\"/>\r\n      </g>\r\n     </g>\r\n    </g>\r\n    <g id=\"text_7\">\r\n     <!-- Price -->\r\n     <defs>\r\n      <path d=\"M 19.671875 64.796875 \r\nL 19.671875 37.40625 \r\nL 32.078125 37.40625 \r\nQ 38.96875 37.40625 42.71875 40.96875 \r\nQ 46.484375 44.53125 46.484375 51.125 \r\nQ 46.484375 57.671875 42.71875 61.234375 \r\nQ 38.96875 64.796875 32.078125 64.796875 \r\nz\r\nM 9.8125 72.90625 \r\nL 32.078125 72.90625 \r\nQ 44.34375 72.90625 50.609375 67.359375 \r\nQ 56.890625 61.8125 56.890625 51.125 \r\nQ 56.890625 40.328125 50.609375 34.8125 \r\nQ 44.34375 29.296875 32.078125 29.296875 \r\nL 19.671875 29.296875 \r\nL 19.671875 0 \r\nL 9.8125 0 \r\nz\r\n\" id=\"DejaVuSans-80\"/>\r\n      <path d=\"M 41.109375 46.296875 \r\nQ 39.59375 47.171875 37.8125 47.578125 \r\nQ 36.03125 48 33.890625 48 \r\nQ 26.265625 48 22.1875 43.046875 \r\nQ 18.109375 38.09375 18.109375 28.8125 \r\nL 18.109375 0 \r\nL 9.078125 0 \r\nL 9.078125 54.6875 \r\nL 18.109375 54.6875 \r\nL 18.109375 46.1875 \r\nQ 20.953125 51.171875 25.484375 53.578125 \r\nQ 30.03125 56 36.53125 56 \r\nQ 37.453125 56 38.578125 55.875 \r\nQ 39.703125 55.765625 41.0625 55.515625 \r\nz\r\n\" id=\"DejaVuSans-114\"/>\r\n      <path d=\"M 9.421875 54.6875 \r\nL 18.40625 54.6875 \r\nL 18.40625 0 \r\nL 9.421875 0 \r\nz\r\nM 9.421875 75.984375 \r\nL 18.40625 75.984375 \r\nL 18.40625 64.59375 \r\nL 9.421875 64.59375 \r\nz\r\n\" id=\"DejaVuSans-105\"/>\r\n      <path d=\"M 48.78125 52.59375 \r\nL 48.78125 44.1875 \r\nQ 44.96875 46.296875 41.140625 47.34375 \r\nQ 37.3125 48.390625 33.40625 48.390625 \r\nQ 24.65625 48.390625 19.8125 42.84375 \r\nQ 14.984375 37.3125 14.984375 27.296875 \r\nQ 14.984375 17.28125 19.8125 11.734375 \r\nQ 24.65625 6.203125 33.40625 6.203125 \r\nQ 37.3125 6.203125 41.140625 7.25 \r\nQ 44.96875 8.296875 48.78125 10.40625 \r\nL 48.78125 2.09375 \r\nQ 45.015625 0.34375 40.984375 -0.53125 \r\nQ 36.96875 -1.421875 32.421875 -1.421875 \r\nQ 20.0625 -1.421875 12.78125 6.34375 \r\nQ 5.515625 14.109375 5.515625 27.296875 \r\nQ 5.515625 40.671875 12.859375 48.328125 \r\nQ 20.21875 56 33.015625 56 \r\nQ 37.15625 56 41.109375 55.140625 \r\nQ 45.0625 54.296875 48.78125 52.59375 \r\nz\r\n\" id=\"DejaVuSans-99\"/>\r\n      <path d=\"M 56.203125 29.59375 \r\nL 56.203125 25.203125 \r\nL 14.890625 25.203125 \r\nQ 15.484375 15.921875 20.484375 11.0625 \r\nQ 25.484375 6.203125 34.421875 6.203125 \r\nQ 39.59375 6.203125 44.453125 7.46875 \r\nQ 49.3125 8.734375 54.109375 11.28125 \r\nL 54.109375 2.78125 \r\nQ 49.265625 0.734375 44.1875 -0.34375 \r\nQ 39.109375 -1.421875 33.890625 -1.421875 \r\nQ 20.796875 -1.421875 13.15625 6.1875 \r\nQ 5.515625 13.8125 5.515625 26.8125 \r\nQ 5.515625 40.234375 12.765625 48.109375 \r\nQ 20.015625 56 32.328125 56 \r\nQ 43.359375 56 49.78125 48.890625 \r\nQ 56.203125 41.796875 56.203125 29.59375 \r\nz\r\nM 47.21875 32.234375 \r\nQ 47.125 39.59375 43.09375 43.984375 \r\nQ 39.0625 48.390625 32.421875 48.390625 \r\nQ 24.90625 48.390625 20.390625 44.140625 \r\nQ 15.875 39.890625 15.1875 32.171875 \r\nz\r\n\" id=\"DejaVuSans-101\"/>\r\n     </defs>\r\n     <g transform=\"translate(14.798437 164.384375)rotate(-90)scale(0.1 -0.1)\">\r\n      <use xlink:href=\"#DejaVuSans-80\"/>\r\n      <use x=\"60.287109\" xlink:href=\"#DejaVuSans-114\"/>\r\n      <use x=\"101.400391\" xlink:href=\"#DejaVuSans-105\"/>\r\n      <use x=\"129.183594\" xlink:href=\"#DejaVuSans-99\"/>\r\n      <use x=\"184.164062\" xlink:href=\"#DejaVuSans-101\"/>\r\n     </g>\r\n    </g>\r\n   </g>\r\n   <g id=\"patch_3\">\r\n    <path d=\"M 53.328125 297 \r\nL 53.328125 7.2 \r\n\" style=\"fill:none;stroke:#000000;stroke-linecap:square;stroke-linejoin:miter;stroke-width:0.8;\"/>\r\n   </g>\r\n   <g id=\"patch_4\">\r\n    <path d=\"M 456.528125 297 \r\nL 456.528125 7.2 \r\n\" style=\"fill:none;stroke:#000000;stroke-linecap:square;stroke-linejoin:miter;stroke-width:0.8;\"/>\r\n   </g>\r\n   <g id=\"patch_5\">\r\n    <path d=\"M 53.328125 297 \r\nL 456.528125 297 \r\n\" style=\"fill:none;stroke:#000000;stroke-linecap:square;stroke-linejoin:miter;stroke-width:0.8;\"/>\r\n   </g>\r\n   <g id=\"patch_6\">\r\n    <path d=\"M 53.328125 7.2 \r\nL 456.528125 7.2 \r\n\" style=\"fill:none;stroke:#000000;stroke-linecap:square;stroke-linejoin:miter;stroke-width:0.8;\"/>\r\n   </g>\r\n  </g>\r\n  <g id=\"axes_2\">\r\n   <g id=\"patch_7\">\r\n    <path d=\"M 53.328125 297 \r\nL 53.328125 7.2 \r\n\" style=\"fill:none;stroke:#000000;stroke-linecap:square;stroke-linejoin:miter;stroke-width:0.8;\"/>\r\n   </g>\r\n   <g id=\"patch_8\">\r\n    <path d=\"M 456.528125 297 \r\nL 456.528125 7.2 \r\n\" style=\"fill:none;stroke:#000000;stroke-linecap:square;stroke-linejoin:miter;stroke-width:0.8;\"/>\r\n   </g>\r\n   <g id=\"patch_9\">\r\n    <path d=\"M 53.328125 297 \r\nL 456.528125 297 \r\n\" style=\"fill:none;stroke:#000000;stroke-linecap:square;stroke-linejoin:miter;stroke-width:0.8;\"/>\r\n   </g>\r\n   <g id=\"patch_10\">\r\n    <path d=\"M 53.328125 7.2 \r\nL 456.528125 7.2 \r\n\" style=\"fill:none;stroke:#000000;stroke-linecap:square;stroke-linejoin:miter;stroke-width:0.8;\"/>\r\n   </g>\r\n  </g>\r\n </g>\r\n <defs>\r\n  <clipPath id=\"pdceefd4ffa\">\r\n   <rect height=\"289.8\" width=\"403.2\" x=\"53.328125\" y=\"7.2\"/>\r\n  </clipPath>\r\n </defs>\r\n</svg>\r\n",
      "text/plain": "<Figure size 576x414 with 2 Axes>"
     },
     "metadata": {
      "needs_background": "light"
     },
     "output_type": "display_data"
    }
   ],
   "source": [
    "mc = mpf.make_marketcolors(up='g',down='r')\n",
    "s  = mpf.make_mpf_style(marketcolors=mc)\n",
    "mpf.plot(daily, type='renko', renko_params=dict(brick_size=2), style=s)"
   ]
  },
  {
   "cell_type": "code",
   "execution_count": 6,
   "metadata": {},
   "outputs": [
    {
     "data": {
      "image/png": "[encoded data removed]",
      "image/svg+xml": "<?xml version=\"1.0\" encoding=\"utf-8\" standalone=\"no\"?>\r\n<!DOCTYPE svg PUBLIC \"-//W3C//DTD SVG 1.1//EN\"\r\n  \"http://www.w3.org/Graphics/SVG/1.1/DTD/svg11.dtd\">\r\n<!-- Created with matplotlib (https://matplotlib.org/) -->\r\n<svg height=\"304.543813pt\" version=\"1.1\" viewBox=\"0 0 439.7415 304.543813\" width=\"439.7415pt\" xmlns=\"http://www.w3.org/2000/svg\" xmlns:xlink=\"http://www.w3.org/1999/xlink\">\r\n <defs>\r\n  <style type=\"text/css\">\r\n*{stroke-linecap:butt;stroke-linejoin:round;}\r\n  </style>\r\n </defs>\r\n <g id=\"figure_1\">\r\n  <g id=\"patch_1\">\r\n   <path d=\"M 0 304.543813 \r\nL 439.7415 304.543813 \r\nL 439.7415 0 \r\nL 0 0 \r\nz\r\n\" style=\"fill:#ffffff;\"/>\r\n  </g>\r\n  <g id=\"axes_1\">\r\n   <g id=\"patch_2\">\r\n    <path d=\"M 54.5415 259.2 \r\nL 432.5415 259.2 \r\nL 432.5415 7.2 \r\nL 54.5415 7.2 \r\nz\r\n\" style=\"fill:#dce3ef;\"/>\r\n   </g>\r\n   <g id=\"matplotlib.axis_1\">\r\n    <g id=\"xtick_1\">\r\n     <g id=\"line2d_1\">\r\n      <path clip-path=\"url(#pfe9913bc44)\" d=\"M 87.343153 259.2 \r\nL 87.343153 7.2 \r\n\" style=\"fill:none;stroke:#ffffff;stroke-linecap:round;stroke-width:0.8;\"/>\r\n     </g>\r\n     <g id=\"line2d_2\"/>\r\n     <g id=\"text_1\">\r\n      <!-- Nov 01 -->\r\n      <defs>\r\n       <path d=\"M 7.625 0 \r\nL 7.625 71.578125 \r\nL 17.328125 71.578125 \r\nL 54.9375 15.375 \r\nL 54.9375 71.578125 \r\nL 64.015625 71.578125 \r\nL 64.015625 0 \r\nL 54.296875 0 \r\nL 16.703125 56.25 \r\nL 16.703125 0 \r\nz\r\n\" id=\"ArialMT-78\"/>\r\n       <path d=\"M 3.328125 25.921875 \r\nQ 3.328125 40.328125 11.328125 47.265625 \r\nQ 18.015625 53.03125 27.640625 53.03125 \r\nQ 38.328125 53.03125 45.109375 46.015625 \r\nQ 51.90625 39.015625 51.90625 26.65625 \r\nQ 51.90625 16.65625 48.90625 10.90625 \r\nQ 45.90625 5.171875 40.15625 2 \r\nQ 34.421875 -1.171875 27.640625 -1.171875 \r\nQ 16.75 -1.171875 10.03125 5.8125 \r\nQ 3.328125 12.796875 3.328125 25.921875 \r\nz\r\nM 12.359375 25.921875 \r\nQ 12.359375 15.96875 16.703125 11.015625 \r\nQ 21.046875 6.0625 27.640625 6.0625 \r\nQ 34.1875 6.0625 38.53125 11.03125 \r\nQ 42.875 16.015625 42.875 26.21875 \r\nQ 42.875 35.84375 38.5 40.796875 \r\nQ 34.125 45.75 27.640625 45.75 \r\nQ 21.046875 45.75 16.703125 40.8125 \r\nQ 12.359375 35.890625 12.359375 25.921875 \r\nz\r\n\" id=\"ArialMT-111\"/>\r\n       <path d=\"M 21 0 \r\nL 1.265625 51.859375 \r\nL 10.546875 51.859375 \r\nL 21.6875 20.796875 \r\nQ 23.484375 15.765625 25 10.359375 \r\nQ 26.171875 14.453125 28.265625 20.21875 \r\nL 39.796875 51.859375 \r\nL 48.828125 51.859375 \r\nL 29.203125 0 \r\nz\r\n\" id=\"ArialMT-118\"/>\r\n       <path id=\"ArialMT-32\"/>\r\n       <path d=\"M 4.15625 35.296875 \r\nQ 4.15625 48 6.765625 55.734375 \r\nQ 9.375 63.484375 14.515625 67.671875 \r\nQ 19.671875 71.875 27.484375 71.875 \r\nQ 33.25 71.875 37.59375 69.546875 \r\nQ 41.9375 67.234375 44.765625 62.859375 \r\nQ 47.609375 58.5 49.21875 52.21875 \r\nQ 50.828125 45.953125 50.828125 35.296875 \r\nQ 50.828125 22.703125 48.234375 14.96875 \r\nQ 45.65625 7.234375 40.5 3 \r\nQ 35.359375 -1.21875 27.484375 -1.21875 \r\nQ 17.140625 -1.21875 11.234375 6.203125 \r\nQ 4.15625 15.140625 4.15625 35.296875 \r\nz\r\nM 13.1875 35.296875 \r\nQ 13.1875 17.671875 17.3125 11.828125 \r\nQ 21.4375 6 27.484375 6 \r\nQ 33.546875 6 37.671875 11.859375 \r\nQ 41.796875 17.71875 41.796875 35.296875 \r\nQ 41.796875 52.984375 37.671875 58.78125 \r\nQ 33.546875 64.59375 27.390625 64.59375 \r\nQ 21.34375 64.59375 17.71875 59.46875 \r\nQ 13.1875 52.9375 13.1875 35.296875 \r\nz\r\n\" id=\"ArialMT-48\"/>\r\n       <path d=\"M 37.25 0 \r\nL 28.46875 0 \r\nL 28.46875 56 \r\nQ 25.296875 52.984375 20.140625 49.953125 \r\nQ 14.984375 46.921875 10.890625 45.40625 \r\nL 10.890625 53.90625 \r\nQ 18.265625 57.375 23.78125 62.296875 \r\nQ 29.296875 67.234375 31.59375 71.875 \r\nL 37.25 71.875 \r\nz\r\n\" id=\"ArialMT-49\"/>\r\n      </defs>\r\n      <g style=\"fill:#262626;\" transform=\"translate(76.094852 295.657363)rotate(-45)scale(0.12 -0.12)\">\r\n       <use xlink:href=\"#ArialMT-78\"/>\r\n       <use x=\"72.216797\" xlink:href=\"#ArialMT-111\"/>\r\n       <use x=\"127.832031\" xlink:href=\"#ArialMT-118\"/>\r\n       <use x=\"177.832031\" xlink:href=\"#ArialMT-32\"/>\r\n       <use x=\"205.615234\" xlink:href=\"#ArialMT-48\"/>\r\n       <use x=\"261.230469\" xlink:href=\"#ArialMT-49\"/>\r\n      </g>\r\n     </g>\r\n    </g>\r\n    <g id=\"xtick_2\">\r\n     <g id=\"line2d_3\">\r\n      <path clip-path=\"url(#pfe9913bc44)\" d=\"M 169.552809 259.2 \r\nL 169.552809 7.2 \r\n\" style=\"fill:none;stroke:#ffffff;stroke-linecap:round;stroke-width:0.8;\"/>\r\n     </g>\r\n     <g id=\"line2d_4\"/>\r\n     <g id=\"text_2\">\r\n      <!-- Nov 08 -->\r\n      <defs>\r\n       <path d=\"M 17.671875 38.8125 \r\nQ 12.203125 40.828125 9.5625 44.53125 \r\nQ 6.9375 48.25 6.9375 53.421875 \r\nQ 6.9375 61.234375 12.546875 66.546875 \r\nQ 18.171875 71.875 27.484375 71.875 \r\nQ 36.859375 71.875 42.578125 66.421875 \r\nQ 48.296875 60.984375 48.296875 53.171875 \r\nQ 48.296875 48.1875 45.671875 44.5 \r\nQ 43.0625 40.828125 37.75 38.8125 \r\nQ 44.34375 36.671875 47.78125 31.875 \r\nQ 51.21875 27.09375 51.21875 20.453125 \r\nQ 51.21875 11.28125 44.71875 5.03125 \r\nQ 38.234375 -1.21875 27.640625 -1.21875 \r\nQ 17.046875 -1.21875 10.546875 5.046875 \r\nQ 4.046875 11.328125 4.046875 20.703125 \r\nQ 4.046875 27.6875 7.59375 32.390625 \r\nQ 11.140625 37.109375 17.671875 38.8125 \r\nz\r\nM 15.921875 53.71875 \r\nQ 15.921875 48.640625 19.1875 45.40625 \r\nQ 22.46875 42.1875 27.6875 42.1875 \r\nQ 32.765625 42.1875 36.015625 45.375 \r\nQ 39.265625 48.578125 39.265625 53.21875 \r\nQ 39.265625 58.0625 35.90625 61.359375 \r\nQ 32.5625 64.65625 27.59375 64.65625 \r\nQ 22.5625 64.65625 19.234375 61.421875 \r\nQ 15.921875 58.203125 15.921875 53.71875 \r\nz\r\nM 13.09375 20.65625 \r\nQ 13.09375 16.890625 14.875 13.375 \r\nQ 16.65625 9.859375 20.171875 7.921875 \r\nQ 23.6875 6 27.734375 6 \r\nQ 34.03125 6 38.125 10.046875 \r\nQ 42.234375 14.109375 42.234375 20.359375 \r\nQ 42.234375 26.703125 38.015625 30.859375 \r\nQ 33.796875 35.015625 27.4375 35.015625 \r\nQ 21.234375 35.015625 17.15625 30.90625 \r\nQ 13.09375 26.8125 13.09375 20.65625 \r\nz\r\n\" id=\"ArialMT-56\"/>\r\n      </defs>\r\n      <g style=\"fill:#262626;\" transform=\"translate(158.304508 295.657363)rotate(-45)scale(0.12 -0.12)\">\r\n       <use xlink:href=\"#ArialMT-78\"/>\r\n       <use x=\"72.216797\" xlink:href=\"#ArialMT-111\"/>\r\n       <use x=\"127.832031\" xlink:href=\"#ArialMT-118\"/>\r\n       <use x=\"177.832031\" xlink:href=\"#ArialMT-32\"/>\r\n       <use x=\"205.615234\" xlink:href=\"#ArialMT-48\"/>\r\n       <use x=\"261.230469\" xlink:href=\"#ArialMT-56\"/>\r\n      </g>\r\n     </g>\r\n    </g>\r\n    <g id=\"xtick_3\">\r\n     <g id=\"line2d_5\">\r\n      <path clip-path=\"url(#pfe9913bc44)\" d=\"M 251.762466 259.2 \r\nL 251.762466 7.2 \r\n\" style=\"fill:none;stroke:#ffffff;stroke-linecap:round;stroke-width:0.8;\"/>\r\n     </g>\r\n     <g id=\"line2d_6\"/>\r\n     <g id=\"text_3\">\r\n      <!-- Nov 15 -->\r\n      <defs>\r\n       <path d=\"M 4.15625 18.75 \r\nL 13.375 19.53125 \r\nQ 14.40625 12.796875 18.140625 9.390625 \r\nQ 21.875 6 27.15625 6 \r\nQ 33.5 6 37.890625 10.78125 \r\nQ 42.28125 15.578125 42.28125 23.484375 \r\nQ 42.28125 31 38.0625 35.34375 \r\nQ 33.84375 39.703125 27 39.703125 \r\nQ 22.75 39.703125 19.328125 37.765625 \r\nQ 15.921875 35.84375 13.96875 32.765625 \r\nL 5.71875 33.84375 \r\nL 12.640625 70.609375 \r\nL 48.25 70.609375 \r\nL 48.25 62.203125 \r\nL 19.671875 62.203125 \r\nL 15.828125 42.96875 \r\nQ 22.265625 47.46875 29.34375 47.46875 \r\nQ 38.71875 47.46875 45.15625 40.96875 \r\nQ 51.609375 34.46875 51.609375 24.265625 \r\nQ 51.609375 14.546875 45.953125 7.46875 \r\nQ 39.0625 -1.21875 27.15625 -1.21875 \r\nQ 17.390625 -1.21875 11.203125 4.25 \r\nQ 5.03125 9.71875 4.15625 18.75 \r\nz\r\n\" id=\"ArialMT-53\"/>\r\n      </defs>\r\n      <g style=\"fill:#262626;\" transform=\"translate(240.514165 295.657363)rotate(-45)scale(0.12 -0.12)\">\r\n       <use xlink:href=\"#ArialMT-78\"/>\r\n       <use x=\"72.216797\" xlink:href=\"#ArialMT-111\"/>\r\n       <use x=\"127.832031\" xlink:href=\"#ArialMT-118\"/>\r\n       <use x=\"177.832031\" xlink:href=\"#ArialMT-32\"/>\r\n       <use x=\"205.615234\" xlink:href=\"#ArialMT-49\"/>\r\n       <use x=\"261.230469\" xlink:href=\"#ArialMT-53\"/>\r\n      </g>\r\n     </g>\r\n    </g>\r\n    <g id=\"xtick_4\">\r\n     <g id=\"line2d_7\">\r\n      <path clip-path=\"url(#pfe9913bc44)\" d=\"M 333.972122 259.2 \r\nL 333.972122 7.2 \r\n\" style=\"fill:none;stroke:#ffffff;stroke-linecap:round;stroke-width:0.8;\"/>\r\n     </g>\r\n     <g id=\"line2d_8\"/>\r\n     <g id=\"text_4\">\r\n      <!-- Nov 22 -->\r\n      <defs>\r\n       <path d=\"M 50.34375 8.453125 \r\nL 50.34375 0 \r\nL 3.03125 0 \r\nQ 2.9375 3.171875 4.046875 6.109375 \r\nQ 5.859375 10.9375 9.828125 15.625 \r\nQ 13.8125 20.3125 21.34375 26.46875 \r\nQ 33.015625 36.03125 37.109375 41.625 \r\nQ 41.21875 47.21875 41.21875 52.203125 \r\nQ 41.21875 57.421875 37.46875 61 \r\nQ 33.734375 64.59375 27.734375 64.59375 \r\nQ 21.390625 64.59375 17.578125 60.78125 \r\nQ 13.765625 56.984375 13.71875 50.25 \r\nL 4.6875 51.171875 \r\nQ 5.609375 61.28125 11.65625 66.578125 \r\nQ 17.71875 71.875 27.9375 71.875 \r\nQ 38.234375 71.875 44.234375 66.15625 \r\nQ 50.25 60.453125 50.25 52 \r\nQ 50.25 47.703125 48.484375 43.546875 \r\nQ 46.734375 39.40625 42.65625 34.8125 \r\nQ 38.578125 30.21875 29.109375 22.21875 \r\nQ 21.1875 15.578125 18.9375 13.203125 \r\nQ 16.703125 10.84375 15.234375 8.453125 \r\nz\r\n\" id=\"ArialMT-50\"/>\r\n      </defs>\r\n      <g style=\"fill:#262626;\" transform=\"translate(322.723821 295.657363)rotate(-45)scale(0.12 -0.12)\">\r\n       <use xlink:href=\"#ArialMT-78\"/>\r\n       <use x=\"72.216797\" xlink:href=\"#ArialMT-111\"/>\r\n       <use x=\"127.832031\" xlink:href=\"#ArialMT-118\"/>\r\n       <use x=\"177.832031\" xlink:href=\"#ArialMT-32\"/>\r\n       <use x=\"205.615234\" xlink:href=\"#ArialMT-50\"/>\r\n       <use x=\"261.230469\" xlink:href=\"#ArialMT-50\"/>\r\n      </g>\r\n     </g>\r\n    </g>\r\n    <g id=\"xtick_5\">\r\n     <g id=\"line2d_9\">\r\n      <path clip-path=\"url(#pfe9913bc44)\" d=\"M 416.181778 259.2 \r\nL 416.181778 7.2 \r\n\" style=\"fill:none;stroke:#ffffff;stroke-linecap:round;stroke-width:0.8;\"/>\r\n     </g>\r\n     <g id=\"line2d_10\"/>\r\n    </g>\r\n   </g>\r\n   <g id=\"matplotlib.axis_2\">\r\n    <g id=\"ytick_1\">\r\n     <g id=\"line2d_11\">\r\n      <path clip-path=\"url(#pfe9913bc44)\" d=\"M 54.5415 227.212678 \r\nL 432.5415 227.212678 \r\n\" style=\"fill:none;stroke:#ffffff;stroke-linecap:round;stroke-width:0.8;\"/>\r\n     </g>\r\n     <g id=\"line2d_12\"/>\r\n     <g id=\"text_5\">\r\n      <!-- 3060 -->\r\n      <defs>\r\n       <path d=\"M 4.203125 18.890625 \r\nL 12.984375 20.0625 \r\nQ 14.5 12.59375 18.140625 9.296875 \r\nQ 21.78125 6 27 6 \r\nQ 33.203125 6 37.46875 10.296875 \r\nQ 41.75 14.59375 41.75 20.953125 \r\nQ 41.75 27 37.796875 30.921875 \r\nQ 33.84375 34.859375 27.734375 34.859375 \r\nQ 25.25 34.859375 21.53125 33.890625 \r\nL 22.515625 41.609375 \r\nQ 23.390625 41.5 23.921875 41.5 \r\nQ 29.546875 41.5 34.03125 44.421875 \r\nQ 38.53125 47.359375 38.53125 53.46875 \r\nQ 38.53125 58.296875 35.25 61.46875 \r\nQ 31.984375 64.65625 26.8125 64.65625 \r\nQ 21.6875 64.65625 18.265625 61.421875 \r\nQ 14.84375 58.203125 13.875 51.765625 \r\nL 5.078125 53.328125 \r\nQ 6.6875 62.15625 12.390625 67.015625 \r\nQ 18.109375 71.875 26.609375 71.875 \r\nQ 32.46875 71.875 37.390625 69.359375 \r\nQ 42.328125 66.84375 44.9375 62.5 \r\nQ 47.5625 58.15625 47.5625 53.265625 \r\nQ 47.5625 48.640625 45.0625 44.828125 \r\nQ 42.578125 41.015625 37.703125 38.765625 \r\nQ 44.046875 37.3125 47.5625 32.6875 \r\nQ 51.078125 28.078125 51.078125 21.140625 \r\nQ 51.078125 11.765625 44.234375 5.25 \r\nQ 37.40625 -1.265625 26.953125 -1.265625 \r\nQ 17.53125 -1.265625 11.296875 4.34375 \r\nQ 5.078125 9.96875 4.203125 18.890625 \r\nz\r\n\" id=\"ArialMT-51\"/>\r\n       <path d=\"M 49.75 54.046875 \r\nL 41.015625 53.375 \r\nQ 39.84375 58.546875 37.703125 60.890625 \r\nQ 34.125 64.65625 28.90625 64.65625 \r\nQ 24.703125 64.65625 21.53125 62.3125 \r\nQ 17.390625 59.28125 14.984375 53.46875 \r\nQ 12.59375 47.65625 12.5 36.921875 \r\nQ 15.671875 41.75 20.265625 44.09375 \r\nQ 24.859375 46.4375 29.890625 46.4375 \r\nQ 38.671875 46.4375 44.84375 39.96875 \r\nQ 51.03125 33.5 51.03125 23.25 \r\nQ 51.03125 16.5 48.125 10.71875 \r\nQ 45.21875 4.9375 40.140625 1.859375 \r\nQ 35.0625 -1.21875 28.609375 -1.21875 \r\nQ 17.625 -1.21875 10.6875 6.859375 \r\nQ 3.765625 14.9375 3.765625 33.5 \r\nQ 3.765625 54.25 11.421875 63.671875 \r\nQ 18.109375 71.875 29.4375 71.875 \r\nQ 37.890625 71.875 43.28125 67.140625 \r\nQ 48.6875 62.40625 49.75 54.046875 \r\nz\r\nM 13.875 23.1875 \r\nQ 13.875 18.65625 15.796875 14.5 \r\nQ 17.71875 10.359375 21.1875 8.171875 \r\nQ 24.65625 6 28.46875 6 \r\nQ 34.03125 6 38.03125 10.484375 \r\nQ 42.046875 14.984375 42.046875 22.703125 \r\nQ 42.046875 30.125 38.078125 34.390625 \r\nQ 34.125 38.671875 28.125 38.671875 \r\nQ 22.171875 38.671875 18.015625 34.390625 \r\nQ 13.875 30.125 13.875 23.1875 \r\nz\r\n\" id=\"ArialMT-54\"/>\r\n      </defs>\r\n      <g style=\"fill:#262626;\" transform=\"translate(24.349 231.507366)scale(0.12 -0.12)\">\r\n       <use xlink:href=\"#ArialMT-51\"/>\r\n       <use x=\"55.615234\" xlink:href=\"#ArialMT-48\"/>\r\n       <use x=\"111.230469\" xlink:href=\"#ArialMT-54\"/>\r\n       <use x=\"166.845703\" xlink:href=\"#ArialMT-48\"/>\r\n      </g>\r\n     </g>\r\n    </g>\r\n    <g id=\"ytick_2\">\r\n     <g id=\"line2d_13\">\r\n      <path clip-path=\"url(#pfe9913bc44)\" d=\"M 54.5415 182.961006 \r\nL 432.5415 182.961006 \r\n\" style=\"fill:none;stroke:#ffffff;stroke-linecap:round;stroke-width:0.8;\"/>\r\n     </g>\r\n     <g id=\"line2d_14\"/>\r\n     <g id=\"text_6\">\r\n      <!-- 3080 -->\r\n      <g style=\"fill:#262626;\" transform=\"translate(24.349 187.255693)scale(0.12 -0.12)\">\r\n       <use xlink:href=\"#ArialMT-51\"/>\r\n       <use x=\"55.615234\" xlink:href=\"#ArialMT-48\"/>\r\n       <use x=\"111.230469\" xlink:href=\"#ArialMT-56\"/>\r\n       <use x=\"166.845703\" xlink:href=\"#ArialMT-48\"/>\r\n      </g>\r\n     </g>\r\n    </g>\r\n    <g id=\"ytick_3\">\r\n     <g id=\"line2d_15\">\r\n      <path clip-path=\"url(#pfe9913bc44)\" d=\"M 54.5415 138.709333 \r\nL 432.5415 138.709333 \r\n\" style=\"fill:none;stroke:#ffffff;stroke-linecap:round;stroke-width:0.8;\"/>\r\n     </g>\r\n     <g id=\"line2d_16\"/>\r\n     <g id=\"text_7\">\r\n      <!-- 3100 -->\r\n      <g style=\"fill:#262626;\" transform=\"translate(24.349 143.004021)scale(0.12 -0.12)\">\r\n       <use xlink:href=\"#ArialMT-51\"/>\r\n       <use x=\"55.615234\" xlink:href=\"#ArialMT-49\"/>\r\n       <use x=\"111.230469\" xlink:href=\"#ArialMT-48\"/>\r\n       <use x=\"166.845703\" xlink:href=\"#ArialMT-48\"/>\r\n      </g>\r\n     </g>\r\n    </g>\r\n    <g id=\"ytick_4\">\r\n     <g id=\"line2d_17\">\r\n      <path clip-path=\"url(#pfe9913bc44)\" d=\"M 54.5415 94.457661 \r\nL 432.5415 94.457661 \r\n\" style=\"fill:none;stroke:#ffffff;stroke-linecap:round;stroke-width:0.8;\"/>\r\n     </g>\r\n     <g id=\"line2d_18\"/>\r\n     <g id=\"text_8\">\r\n      <!-- 3120 -->\r\n      <g style=\"fill:#262626;\" transform=\"translate(24.349 98.752348)scale(0.12 -0.12)\">\r\n       <use xlink:href=\"#ArialMT-51\"/>\r\n       <use x=\"55.615234\" xlink:href=\"#ArialMT-49\"/>\r\n       <use x=\"111.230469\" xlink:href=\"#ArialMT-50\"/>\r\n       <use x=\"166.845703\" xlink:href=\"#ArialMT-48\"/>\r\n      </g>\r\n     </g>\r\n    </g>\r\n    <g id=\"ytick_5\">\r\n     <g id=\"line2d_19\">\r\n      <path clip-path=\"url(#pfe9913bc44)\" d=\"M 54.5415 50.205988 \r\nL 432.5415 50.205988 \r\n\" style=\"fill:none;stroke:#ffffff;stroke-linecap:round;stroke-width:0.8;\"/>\r\n     </g>\r\n     <g id=\"line2d_20\"/>\r\n     <g id=\"text_9\">\r\n      <!-- 3140 -->\r\n      <defs>\r\n       <path d=\"M 32.328125 0 \r\nL 32.328125 17.140625 \r\nL 1.265625 17.140625 \r\nL 1.265625 25.203125 \r\nL 33.9375 71.578125 \r\nL 41.109375 71.578125 \r\nL 41.109375 25.203125 \r\nL 50.78125 25.203125 \r\nL 50.78125 17.140625 \r\nL 41.109375 17.140625 \r\nL 41.109375 0 \r\nz\r\nM 32.328125 25.203125 \r\nL 32.328125 57.46875 \r\nL 9.90625 25.203125 \r\nz\r\n\" id=\"ArialMT-52\"/>\r\n      </defs>\r\n      <g style=\"fill:#262626;\" transform=\"translate(24.349 54.500676)scale(0.12 -0.12)\">\r\n       <use xlink:href=\"#ArialMT-51\"/>\r\n       <use x=\"55.615234\" xlink:href=\"#ArialMT-49\"/>\r\n       <use x=\"111.230469\" xlink:href=\"#ArialMT-52\"/>\r\n       <use x=\"166.845703\" xlink:href=\"#ArialMT-48\"/>\r\n      </g>\r\n     </g>\r\n    </g>\r\n    <g id=\"text_10\">\r\n     <!-- Price -->\r\n     <defs>\r\n      <path d=\"M 7.28125 0 \r\nL 7.28125 71.578125 \r\nL 30.46875 71.578125 \r\nQ 43.65625 71.578125 47.65625 70.515625 \r\nQ 53.8125 68.890625 57.953125 63.5 \r\nQ 62.109375 58.109375 62.109375 49.5625 \r\nQ 62.109375 42.96875 59.71875 38.46875 \r\nQ 57.328125 33.984375 53.640625 31.421875 \r\nQ 49.953125 28.859375 46.140625 28.03125 \r\nQ 40.96875 27 31.15625 27 \r\nL 21.734375 27 \r\nL 21.734375 0 \r\nz\r\nM 21.734375 59.46875 \r\nL 21.734375 39.15625 \r\nL 29.640625 39.15625 \r\nQ 38.1875 39.15625 41.0625 40.28125 \r\nQ 43.953125 41.40625 45.578125 43.796875 \r\nQ 47.21875 46.1875 47.21875 49.359375 \r\nQ 47.21875 53.265625 44.921875 55.796875 \r\nQ 42.625 58.34375 39.109375 58.984375 \r\nQ 36.53125 59.46875 28.71875 59.46875 \r\nz\r\n\" id=\"Arial-BoldMT-80\"/>\r\n      <path d=\"M 20.3125 0 \r\nL 6.59375 0 \r\nL 6.59375 51.859375 \r\nL 19.34375 51.859375 \r\nL 19.34375 44.484375 \r\nQ 22.609375 49.703125 25.21875 51.359375 \r\nQ 27.828125 53.03125 31.15625 53.03125 \r\nQ 35.84375 53.03125 40.1875 50.4375 \r\nL 35.9375 38.484375 \r\nQ 32.46875 40.71875 29.5 40.71875 \r\nQ 26.609375 40.71875 24.609375 39.125 \r\nQ 22.609375 37.546875 21.453125 33.390625 \r\nQ 20.3125 29.25 20.3125 16.015625 \r\nz\r\n\" id=\"Arial-BoldMT-114\"/>\r\n      <path d=\"M 7.171875 58.890625 \r\nL 7.171875 71.578125 \r\nL 20.90625 71.578125 \r\nL 20.90625 58.890625 \r\nz\r\nM 7.171875 0 \r\nL 7.171875 51.859375 \r\nL 20.90625 51.859375 \r\nL 20.90625 0 \r\nz\r\n\" id=\"Arial-BoldMT-105\"/>\r\n      <path d=\"M 52.390625 36.53125 \r\nL 38.875 34.078125 \r\nQ 38.1875 38.140625 35.765625 40.1875 \r\nQ 33.34375 42.234375 29.5 42.234375 \r\nQ 24.359375 42.234375 21.3125 38.6875 \r\nQ 18.265625 35.15625 18.265625 26.859375 \r\nQ 18.265625 17.625 21.359375 13.8125 \r\nQ 24.46875 10.015625 29.6875 10.015625 \r\nQ 33.59375 10.015625 36.078125 12.234375 \r\nQ 38.578125 14.453125 39.59375 19.875 \r\nL 53.078125 17.578125 \r\nQ 50.984375 8.296875 45.015625 3.5625 \r\nQ 39.0625 -1.171875 29.046875 -1.171875 \r\nQ 17.671875 -1.171875 10.90625 6 \r\nQ 4.15625 13.1875 4.15625 25.875 \r\nQ 4.15625 38.71875 10.9375 45.875 \r\nQ 17.71875 53.03125 29.296875 53.03125 \r\nQ 38.765625 53.03125 44.359375 48.953125 \r\nQ 49.953125 44.875 52.390625 36.53125 \r\nz\r\n\" id=\"Arial-BoldMT-99\"/>\r\n      <path d=\"M 37.203125 16.5 \r\nL 50.875 14.203125 \r\nQ 48.25 6.6875 42.546875 2.75 \r\nQ 36.859375 -1.171875 28.328125 -1.171875 \r\nQ 14.796875 -1.171875 8.296875 7.671875 \r\nQ 3.171875 14.75 3.171875 25.53125 \r\nQ 3.171875 38.421875 9.90625 45.71875 \r\nQ 16.65625 53.03125 26.953125 53.03125 \r\nQ 38.53125 53.03125 45.21875 45.390625 \r\nQ 51.90625 37.75 51.609375 21.96875 \r\nL 17.234375 21.96875 \r\nQ 17.390625 15.875 20.5625 12.46875 \r\nQ 23.734375 9.078125 28.46875 9.078125 \r\nQ 31.6875 9.078125 33.875 10.828125 \r\nQ 36.078125 12.59375 37.203125 16.5 \r\nz\r\nM 37.984375 30.375 \r\nQ 37.84375 36.328125 34.90625 39.421875 \r\nQ 31.984375 42.53125 27.78125 42.53125 \r\nQ 23.296875 42.53125 20.359375 39.265625 \r\nQ 17.4375 35.984375 17.484375 30.375 \r\nz\r\n\" id=\"Arial-BoldMT-101\"/>\r\n     </defs>\r\n     <g style=\"fill:#262626;\" transform=\"translate(17.50725 150.813)rotate(-90)scale(0.144 -0.144)\">\r\n      <use xlink:href=\"#Arial-BoldMT-80\"/>\r\n      <use x=\"66.699219\" xlink:href=\"#Arial-BoldMT-114\"/>\r\n      <use x=\"105.615234\" xlink:href=\"#Arial-BoldMT-105\"/>\r\n      <use x=\"133.398438\" xlink:href=\"#Arial-BoldMT-99\"/>\r\n      <use x=\"189.013672\" xlink:href=\"#Arial-BoldMT-101\"/>\r\n     </g>\r\n    </g>\r\n   </g>\r\n   <g id=\"LineCollection_1\">\r\n    <path clip-path=\"url(#pfe9913bc44)\" d=\"M 87.343153 247.745455 \r\nL 87.343153 211.835222 \r\n\" style=\"fill:none;stroke:#000000;stroke-width:2;\"/>\r\n    <path clip-path=\"url(#pfe9913bc44)\" d=\"M 103.785084 194.31156 \r\nL 103.785084 171.455571 \r\n\" style=\"fill:none;stroke:#000000;stroke-width:2;\"/>\r\n    <path clip-path=\"url(#pfe9913bc44)\" d=\"M 120.227015 200.329787 \r\nL 120.227015 174.221301 \r\n\" style=\"fill:none;stroke:#000000;stroke-width:2;\"/>\r\n    <path clip-path=\"url(#pfe9913bc44)\" d=\"M 136.668947 214.180561 \r\nL 136.668947 186.633895 \r\n\" style=\"fill:none;stroke:#000000;stroke-width:2;\"/>\r\n    <path clip-path=\"url(#pfe9913bc44)\" d=\"M 153.110878 182.452112 \r\nL 153.110878 143.643395 \r\n\" style=\"fill:none;stroke:#000000;stroke-width:2;\"/>\r\n    <path clip-path=\"url(#pfe9913bc44)\" d=\"M 169.552809 197.165793 \r\nL 169.552809 153.998286 \r\n\" style=\"fill:none;stroke:#000000;stroke-width:2;\"/>\r\n    <path clip-path=\"url(#pfe9913bc44)\" d=\"M 185.994741 192.209605 \r\nL 185.994741 164.530184 \r\n\" style=\"fill:none;stroke:#000000;stroke-width:2;\"/>\r\n    <path clip-path=\"url(#pfe9913bc44)\" d=\"M 202.436672 172.495485 \r\nL 202.436672 132.93449 \r\n\" style=\"fill:none;stroke:#000000;stroke-width:2;\"/>\r\n    <path clip-path=\"url(#pfe9913bc44)\" d=\"M 218.878603 185.616106 \r\nL 218.878603 143.001745 \r\n\" style=\"fill:none;stroke:#000000;stroke-width:2;\"/>\r\n    <path clip-path=\"url(#pfe9913bc44)\" d=\"M 235.320534 175.747983 \r\nL 235.320534 142.691984 \r\n\" style=\"fill:none;stroke:#000000;stroke-width:2;\"/>\r\n    <path clip-path=\"url(#pfe9913bc44)\" d=\"M 251.762466 128.531449 \r\nL 251.762466 93.439872 \r\n\" style=\"fill:none;stroke:#000000;stroke-width:2;\"/>\r\n    <path clip-path=\"url(#pfe9913bc44)\" d=\"M 268.204397 112.025575 \r\nL 268.204397 85.231187 \r\n\" style=\"fill:none;stroke:#000000;stroke-width:2;\"/>\r\n    <path clip-path=\"url(#pfe9913bc44)\" d=\"M 284.646328 108.905832 \r\nL 284.646328 77.553522 \r\n\" style=\"fill:none;stroke:#000000;stroke-width:2;\"/>\r\n    <path clip-path=\"url(#pfe9913bc44)\" d=\"M 301.088259 157.715427 \r\nL 301.088259 96.736622 \r\n\" style=\"fill:none;stroke:#000000;stroke-width:2;\"/>\r\n    <path clip-path=\"url(#pfe9913bc44)\" d=\"M 317.530191 150.767914 \r\nL 317.530191 116.340113 \r\n\" style=\"fill:none;stroke:#000000;stroke-width:2;\"/>\r\n    <path clip-path=\"url(#pfe9913bc44)\" d=\"M 333.972122 140.346645 \r\nL 333.972122 110.233382 \r\n\" style=\"fill:none;stroke:#000000;stroke-width:2;\"/>\r\n    <path clip-path=\"url(#pfe9913bc44)\" d=\"M 350.414053 100.121875 \r\nL 350.414053 63.857629 \r\n\" style=\"fill:none;stroke:#000000;stroke-width:2;\"/>\r\n    <path clip-path=\"url(#pfe9913bc44)\" d=\"M 366.855985 70.119241 \r\nL 366.855985 44.254138 \r\n\" style=\"fill:none;stroke:#000000;stroke-width:2;\"/>\r\n    <path clip-path=\"url(#pfe9913bc44)\" d=\"M 383.297916 42.661078 \r\nL 383.297916 18.654545 \r\n\" style=\"fill:none;stroke:#000000;stroke-width:2;\"/>\r\n    <path clip-path=\"url(#pfe9913bc44)\" d=\"M 399.739847 51.666293 \r\nL 399.739847 27.416377 \r\n\" style=\"fill:none;stroke:#000000;stroke-width:2;\"/>\r\n   </g>\r\n   <g id=\"LineCollection_2\">\r\n    <path clip-path=\"url(#pfe9913bc44)\" d=\"M 81.095219 247.745455 \r\nL 87.343153 247.745455 \r\n\" style=\"fill:none;stroke:#000000;stroke-width:2;\"/>\r\n    <path clip-path=\"url(#pfe9913bc44)\" d=\"M 97.53715 185.262093 \r\nL 103.785084 185.262093 \r\n\" style=\"fill:none;stroke:#000000;stroke-width:2;\"/>\r\n    <path clip-path=\"url(#pfe9913bc44)\" d=\"M 113.979082 181.190939 \r\nL 120.227015 181.190939 \r\n\" style=\"fill:none;stroke:#000000;stroke-width:2;\"/>\r\n    <path clip-path=\"url(#pfe9913bc44)\" d=\"M 130.421013 193.802666 \r\nL 136.668947 193.802666 \r\n\" style=\"fill:none;stroke:#000000;stroke-width:2;\"/>\r\n    <path clip-path=\"url(#pfe9913bc44)\" d=\"M 146.862944 167.428669 \r\nL 153.110878 167.428669 \r\n\" style=\"fill:none;stroke:#000000;stroke-width:2;\"/>\r\n    <path clip-path=\"url(#pfe9913bc44)\" d=\"M 163.304875 180.195276 \r\nL 169.552809 180.195276 \r\n\" style=\"fill:none;stroke:#000000;stroke-width:2;\"/>\r\n    <path clip-path=\"url(#pfe9913bc44)\" d=\"M 179.746807 182.230853 \r\nL 185.994741 182.230853 \r\n\" style=\"fill:none;stroke:#000000;stroke-width:2;\"/>\r\n    <path clip-path=\"url(#pfe9913bc44)\" d=\"M 196.188738 162.42823 \r\nL 202.436672 162.42823 \r\n\" style=\"fill:none;stroke:#000000;stroke-width:2;\"/>\r\n    <path clip-path=\"url(#pfe9913bc44)\" d=\"M 212.630669 173.712406 \r\nL 218.878603 173.712406 \r\n\" style=\"fill:none;stroke:#000000;stroke-width:2;\"/>\r\n    <path clip-path=\"url(#pfe9913bc44)\" d=\"M 229.0726 159.175732 \r\nL 235.320534 159.175732 \r\n\" style=\"fill:none;stroke:#000000;stroke-width:2;\"/>\r\n    <path clip-path=\"url(#pfe9913bc44)\" d=\"M 245.514532 121.185671 \r\nL 251.762466 121.185671 \r\n\" style=\"fill:none;stroke:#000000;stroke-width:2;\"/>\r\n    <path clip-path=\"url(#pfe9913bc44)\" d=\"M 261.956463 99.08196 \r\nL 268.204397 99.08196 \r\n\" style=\"fill:none;stroke:#000000;stroke-width:2;\"/>\r\n    <path clip-path=\"url(#pfe9913bc44)\" d=\"M 278.398394 77.973913 \r\nL 284.646328 77.973913 \r\n\" style=\"fill:none;stroke:#000000;stroke-width:2;\"/>\r\n    <path clip-path=\"url(#pfe9913bc44)\" d=\"M 294.840326 106.272857 \r\nL 301.088259 106.272857 \r\n\" style=\"fill:none;stroke:#000000;stroke-width:2;\"/>\r\n    <path clip-path=\"url(#pfe9913bc44)\" d=\"M 311.282257 119.924498 \r\nL 317.530191 119.924498 \r\n\" style=\"fill:none;stroke:#000000;stroke-width:2;\"/>\r\n    <path clip-path=\"url(#pfe9913bc44)\" d=\"M 327.724188 113.463754 \r\nL 333.972122 113.463754 \r\n\" style=\"fill:none;stroke:#000000;stroke-width:2;\"/>\r\n    <path clip-path=\"url(#pfe9913bc44)\" d=\"M 344.166119 100.121875 \r\nL 350.414053 100.121875 \r\n\" style=\"fill:none;stroke:#000000;stroke-width:2;\"/>\r\n    <path clip-path=\"url(#pfe9913bc44)\" d=\"M 360.608051 61.600794 \r\nL 366.855985 61.600794 \r\n\" style=\"fill:none;stroke:#000000;stroke-width:2;\"/>\r\n    <path clip-path=\"url(#pfe9913bc44)\" d=\"M 377.049982 38.058904 \r\nL 383.297916 38.058904 \r\n\" style=\"fill:none;stroke:#000000;stroke-width:2;\"/>\r\n    <path clip-path=\"url(#pfe9913bc44)\" d=\"M 393.491913 34.319638 \r\nL 399.739847 34.319638 \r\n\" style=\"fill:none;stroke:#000000;stroke-width:2;\"/>\r\n   </g>\r\n   <g id=\"LineCollection_3\">\r\n    <path clip-path=\"url(#pfe9913bc44)\" d=\"M 87.343153 211.923726 \r\nL 93.591087 211.923726 \r\n\" style=\"fill:none;stroke:#000000;stroke-width:2;\"/>\r\n    <path clip-path=\"url(#pfe9913bc44)\" d=\"M 103.785084 186.788776 \r\nL 110.033018 186.788776 \r\n\" style=\"fill:none;stroke:#000000;stroke-width:2;\"/>\r\n    <path clip-path=\"url(#pfe9913bc44)\" d=\"M 120.227015 194.864706 \r\nL 126.474949 194.864706 \r\n\" style=\"fill:none;stroke:#000000;stroke-width:2;\"/>\r\n    <path clip-path=\"url(#pfe9913bc44)\" d=\"M 136.668947 190.085525 \r\nL 142.916881 190.085525 \r\n\" style=\"fill:none;stroke:#000000;stroke-width:2;\"/>\r\n    <path clip-path=\"url(#pfe9913bc44)\" d=\"M 153.110878 171.499823 \r\nL 159.358812 171.499823 \r\n\" style=\"fill:none;stroke:#000000;stroke-width:2;\"/>\r\n    <path clip-path=\"url(#pfe9913bc44)\" d=\"M 169.552809 154.020412 \r\nL 175.800743 154.020412 \r\n\" style=\"fill:none;stroke:#000000;stroke-width:2;\"/>\r\n    <path clip-path=\"url(#pfe9913bc44)\" d=\"M 185.994741 167.450795 \r\nL 192.242674 167.450795 \r\n\" style=\"fill:none;stroke:#000000;stroke-width:2;\"/>\r\n    <path clip-path=\"url(#pfe9913bc44)\" d=\"M 202.436672 156.764016 \r\nL 208.684606 156.764016 \r\n\" style=\"fill:none;stroke:#000000;stroke-width:2;\"/>\r\n    <path clip-path=\"url(#pfe9913bc44)\" d=\"M 218.878603 151.896332 \r\nL 225.126537 151.896332 \r\n\" style=\"fill:none;stroke:#000000;stroke-width:2;\"/>\r\n    <path clip-path=\"url(#pfe9913bc44)\" d=\"M 235.320534 146.16574 \r\nL 241.568468 146.16574 \r\n\" style=\"fill:none;stroke:#000000;stroke-width:2;\"/>\r\n    <path clip-path=\"url(#pfe9913bc44)\" d=\"M 251.762466 93.439872 \r\nL 258.0104 93.439872 \r\n\" style=\"fill:none;stroke:#000000;stroke-width:2;\"/>\r\n    <path clip-path=\"url(#pfe9913bc44)\" d=\"M 268.204397 89.966116 \r\nL 274.452331 89.966116 \r\n\" style=\"fill:none;stroke:#000000;stroke-width:2;\"/>\r\n    <path clip-path=\"url(#pfe9913bc44)\" d=\"M 284.646328 94.059396 \r\nL 290.894262 94.059396 \r\n\" style=\"fill:none;stroke:#000000;stroke-width:2;\"/>\r\n    <path clip-path=\"url(#pfe9913bc44)\" d=\"M 301.088259 119.990876 \r\nL 307.336193 119.990876 \r\n\" style=\"fill:none;stroke:#000000;stroke-width:2;\"/>\r\n    <path clip-path=\"url(#pfe9913bc44)\" d=\"M 317.530191 130.876787 \r\nL 323.778125 130.876787 \r\n\" style=\"fill:none;stroke:#000000;stroke-width:2;\"/>\r\n    <path clip-path=\"url(#pfe9913bc44)\" d=\"M 333.972122 115.941848 \r\nL 340.220056 115.941848 \r\n\" style=\"fill:none;stroke:#000000;stroke-width:2;\"/>\r\n    <path clip-path=\"url(#pfe9913bc44)\" d=\"M 350.414053 64.27802 \r\nL 356.661987 64.27802 \r\n\" style=\"fill:none;stroke:#000000;stroke-width:2;\"/>\r\n    <path clip-path=\"url(#pfe9913bc44)\" d=\"M 366.855985 49.055445 \r\nL 373.103918 49.055445 \r\n\" style=\"fill:none;stroke:#000000;stroke-width:2;\"/>\r\n    <path clip-path=\"url(#pfe9913bc44)\" d=\"M 383.297916 20.048473 \r\nL 389.54585 20.048473 \r\n\" style=\"fill:none;stroke:#000000;stroke-width:2;\"/>\r\n    <path clip-path=\"url(#pfe9913bc44)\" d=\"M 399.739847 48.037656 \r\nL 405.987781 48.037656 \r\n\" style=\"fill:none;stroke:#000000;stroke-width:2;\"/>\r\n   </g>\r\n   <g id=\"patch_3\">\r\n    <path d=\"M 54.5415 259.2 \r\nL 54.5415 7.2 \r\n\" style=\"fill:none;stroke:#000000;stroke-linecap:square;stroke-linejoin:miter;stroke-width:1.5;\"/>\r\n   </g>\r\n   <g id=\"patch_4\">\r\n    <path d=\"M 432.5415 259.2 \r\nL 432.5415 7.2 \r\n\" style=\"fill:none;stroke:#000000;stroke-linecap:square;stroke-linejoin:miter;stroke-width:1.5;\"/>\r\n   </g>\r\n   <g id=\"patch_5\">\r\n    <path d=\"M 54.5415 259.2 \r\nL 432.5415 259.2 \r\n\" style=\"fill:none;stroke:#000000;stroke-linecap:square;stroke-linejoin:miter;stroke-width:1.5;\"/>\r\n   </g>\r\n   <g id=\"patch_6\">\r\n    <path d=\"M 54.5415 7.2 \r\nL 432.5415 7.2 \r\n\" style=\"fill:none;stroke:#000000;stroke-linecap:square;stroke-linejoin:miter;stroke-width:1.5;\"/>\r\n   </g>\r\n  </g>\r\n  <g id=\"axes_2\">\r\n   <g id=\"patch_7\">\r\n    <path d=\"M 54.5415 259.2 \r\nL 54.5415 7.2 \r\n\" style=\"fill:none;stroke:#000000;stroke-linecap:square;stroke-linejoin:miter;stroke-width:1.5;\"/>\r\n   </g>\r\n   <g id=\"patch_8\">\r\n    <path d=\"M 432.5415 259.2 \r\nL 432.5415 7.2 \r\n\" style=\"fill:none;stroke:#000000;stroke-linecap:square;stroke-linejoin:miter;stroke-width:1.5;\"/>\r\n   </g>\r\n   <g id=\"patch_9\">\r\n    <path d=\"M 54.5415 259.2 \r\nL 432.5415 259.2 \r\n\" style=\"fill:none;stroke:#000000;stroke-linecap:square;stroke-linejoin:miter;stroke-width:1.5;\"/>\r\n   </g>\r\n   <g id=\"patch_10\">\r\n    <path d=\"M 54.5415 7.2 \r\nL 432.5415 7.2 \r\n\" style=\"fill:none;stroke:#000000;stroke-linecap:square;stroke-linejoin:miter;stroke-width:1.5;\"/>\r\n   </g>\r\n  </g>\r\n </g>\r\n <defs>\r\n  <clipPath id=\"pfe9913bc44\">\r\n   <rect height=\"252\" width=\"378\" x=\"54.5415\" y=\"7.2\"/>\r\n  </clipPath>\r\n </defs>\r\n</svg>\r\n",
      "text/plain": "<Figure size 540x360 with 2 Axes>"
     },
     "metadata": {},
     "output_type": "display_data"
    }
   ],
   "source": [
    "mpf.plot(daily,figratio=(15,10),figscale=0.5)"
   ]
  },
  {
   "cell_type": "markdown",
   "metadata": {},
   "source": [
    "---\n",
    "\n",
    "- An earlier (pre-release) version of mplfinance provided the `no_xgaps` kwarg to eliminate the gaps in the plot created by non-trading periods (days or, for intraday data, hours)\n",
    "- Based on feedback from users the `mpf.plot()` *now* ***defaults to NOT show*** *non-trading periods* (`no_xgaps=True`) ***and*** *the* `no_xgaps` *keyword is deprecated, in favor of the* `show_nontrading` *kwarg:*"
   ]
  },
  {
   "cell_type": "code",
   "execution_count": null,
   "metadata": {},
   "outputs": [],
   "source": [
    "mpf.plot(daily,type='candle',volume=True,figscale=0.9)\n",
    "mpf.plot(daily,type='candle',volume=True,figscale=0.9,show_nontrading=True)"
   ]
  },
  {
   "cell_type": "markdown",
   "metadata": {},
   "source": [
    "---\n",
    "\n",
    "### We can also set the Title and the Y-axis labels:"
   ]
  },
  {
   "cell_type": "code",
   "execution_count": null,
   "metadata": {},
   "outputs": [],
   "source": [
    "mpf.plot(daily,type='candle',volume=True,\n",
    "         title='\\nS&P 500, Nov 2019',\n",
    "         ylabel='OHLC Candles',\n",
    "         ylabel_lower='Shares\\nTraded')"
   ]
  },
  {
   "cell_type": "markdown",
   "metadata": {},
   "source": [
    "We can also set the linecolor for a line plot:"
   ]
  },
  {
   "cell_type": "code",
   "execution_count": null,
   "metadata": {},
   "outputs": [],
   "source": [
    "mpf.plot(daily, type='line', linecolor='#00ff00')"
   ]
  },
  {
   "cell_type": "markdown",
   "metadata": {},
   "source": [
    "---\n",
    "## ----------------------------------------------------------\n",
    "# mplfinance styles\n",
    "\n",
    "\n",
    "- It is also possible to customize the colors of the plot.\n",
    "- The simplest way to do this is to choose one of the `styles` that come packaged with `mplfinance`,<br> but (as we will see below) it is also possible to customize your own `styles`.\n",
    "\n",
    "---\n",
    "\n",
    "- Use `mpf.available_styles()` to see which mpf styles are currently installed:"
   ]
  },
  {
   "cell_type": "code",
   "execution_count": null,
   "metadata": {},
   "outputs": [],
   "source": [
    "mpf.available_styles()"
   ]
  },
  {
   "cell_type": "markdown",
   "metadata": {},
   "source": [
    "---\n",
    "\n",
    "- Use the `style=` kwarg to display the plot with one of the available styles.\n",
    "- **Here are a few examples:**"
   ]
  },
  {
   "cell_type": "code",
   "execution_count": null,
   "metadata": {},
   "outputs": [],
   "source": [
    "# First we set the kwargs that we will use for all of these examples:\n",
    "kwargs = dict(type='candle',mav=(2,4,6),volume=True,figratio=(10,8),figscale=0.75)"
   ]
  },
  {
   "cell_type": "code",
   "execution_count": null,
   "metadata": {},
   "outputs": [],
   "source": [
    "mpf.plot(daily,**kwargs,style='classic')"
   ]
  },
  {
   "cell_type": "code",
   "execution_count": null,
   "metadata": {},
   "outputs": [],
   "source": [
    "mpf.plot(daily,**kwargs,style='charles')"
   ]
  },
  {
   "cell_type": "code",
   "execution_count": null,
   "metadata": {},
   "outputs": [],
   "source": [
    "rcdf = mpf.plot(daily,**kwargs,style='mike')"
   ]
  },
  {
   "cell_type": "code",
   "execution_count": null,
   "metadata": {},
   "outputs": [],
   "source": [
    "mpf.plot(daily,**kwargs,style='blueskies')"
   ]
  },
  {
   "cell_type": "code",
   "execution_count": null,
   "metadata": {},
   "outputs": [],
   "source": [
    "mpf.plot(daily,**kwargs,style='starsandstripes')"
   ]
  },
  {
   "cell_type": "code",
   "execution_count": null,
   "metadata": {},
   "outputs": [],
   "source": [
    "mpf.plot(daily,**kwargs,style='brasil')"
   ]
  },
  {
   "cell_type": "code",
   "execution_count": null,
   "metadata": {},
   "outputs": [],
   "source": [
    "mpf.plot(daily,**kwargs,style='yahoo')"
   ]
  },
  {
   "cell_type": "markdown",
   "metadata": {},
   "source": [
    "---\n",
    "## -----------------------------------------------------------\n",
    "## Customizing your own \"mplfinance style\"\n",
    "## -----------------------------------------------------------\n",
    "\n",
    "---\n",
    "\n",
    "### Each `mplfinance` style is made up of **THREE** parts.<br><br>The first part is mandatory, the second two are optional:<br>\n",
    "\n",
    "---\n",
    "\n",
    "|     | Element | Optional/Mandatory | Description |\n",
    "|:---:| :------------ | :----------------- | :---------- |\n",
    "| **1.** | `marketcolors` | **mandatory** | controls the up/down colors of candlesticks, ohlc bars, and volume.|\n",
    "| **2.** | `mavcolors` | optional | sets the colors of moving average lines.  If `mavcolors` is not specified, then the default `matplotlib` line colors are used (as specified by `rcParams['axes.prop_cycle']`) |\n",
    "| **3.** | matplotlib style | optional | ([see matplotlib documentation](https://matplotlib.org/tutorials/introductory/customizing.html)) |\n",
    "\n",
    "---"
   ]
  },
  {
   "cell_type": "markdown",
   "metadata": {},
   "source": [
    "---\n",
    "- Thus we can create a minimal **mplfinance style** by specifying only `marketcolors`:\n",
    "\n",
    "\n",
    "- Any marketcolors not specified explicitly, will be taken from **mpf style** `default`\n",
    "  - thus, in the _example below,_ we see colors _other than_ `g` and `r` for the parts of `marketcolors` that were _not_ specified, i.e. for volume, candle edges, and candle wicks."
   ]
  },
  {
   "cell_type": "code",
   "execution_count": null,
   "metadata": {},
   "outputs": [],
   "source": [
    "mc = mpf.make_marketcolors(up='g',down='r')\n",
    "s  = mpf.make_mpf_style(marketcolors=mc)"
   ]
  },
  {
   "cell_type": "code",
   "execution_count": null,
   "metadata": {},
   "outputs": [],
   "source": [
    "mpf.plot(daily,**kwargs,style=s)"
   ]
  },
  {
   "cell_type": "markdown",
   "metadata": {},
   "source": [
    "---\n",
    "\n",
    "- within `marketcolors` one can also specify colors for the `edges` and `wicks` of candlesticks.\n",
    "\n",
    "\n",
    "- `ohlc` bars, and `volume` can also be specified separately from candlesticks:\n",
    "\n",
    "for example:"
   ]
  },
  {
   "cell_type": "code",
   "execution_count": null,
   "metadata": {},
   "outputs": [],
   "source": [
    "mc = mpf.make_marketcolors(up='g',down='r',\n",
    "                           edge='lime',\n",
    "                           wick={'up':'blue','down':'orange'},\n",
    "                           volume='gray',\n",
    "                           ohlc='black')\n",
    "s  = mpf.make_mpf_style(marketcolors=mc)\n",
    "\n",
    "mpf.plot(daily,**kwargs,style=s)\n",
    "\n",
    "ohlckws = kwargs.copy()\n",
    "ohlckws.update(type='ohlc')\n",
    "\n",
    "mpf.plot(daily,**ohlckws,style=s)"
   ]
  },
  {
   "cell_type": "markdown",
   "metadata": {},
   "source": [
    "---\n",
    "---\n",
    "\n",
    "- Each of the keywords `edge`, `wick`, `ohlc`, and `volume` can have the following values:<br>\n",
    "  **1.** Any single matplotlib color<br>\n",
    "  **2.** A dict specifying separate colors for `'up'` and a `'down'`<br>\n",
    "  **3.** The str `'inherit'` (or any part thereof: `'i'`, `'in'`, `'inh'`, etc.) indicating that the keyword (`edge`, `wick`, `ohlc`, `volume`) should use the same colors as were specified by the keywords `up` and `down`.<br>\n",
    "\n",
    "  \n",
    "- Thus:"
   ]
  },
  {
   "cell_type": "code",
   "execution_count": null,
   "metadata": {},
   "outputs": [],
   "source": [
    "mc = mpf.make_marketcolors(up='palegreen',down='c',\n",
    "                           edge='inherit',\n",
    "                           wick='black',\n",
    "                           volume='in',\n",
    "                           ohlc='i')\n",
    "s  = mpf.make_mpf_style(marketcolors=mc)\n",
    "\n",
    "mpf.plot(daily,**kwargs,style=s)\n",
    "\n",
    "mpf.plot(daily,**ohlckws,style=s)"
   ]
  },
  {
   "cell_type": "markdown",
   "metadata": {},
   "source": [
    "---\n",
    "\n",
    "- To save time, if you want **all** marketcolors to inherit from up/down, simply say `inherit=True`\n",
    "\n",
    "\n",
    "- **Note that `inherit=True` will override all other specified colors**"
   ]
  },
  {
   "cell_type": "code",
   "execution_count": null,
   "metadata": {},
   "outputs": [],
   "source": [
    "mc = mpf.make_marketcolors(up='palegreen',down='c',inherit=True)\n",
    "s  = mpf.make_mpf_style(marketcolors=mc)\n",
    "\n",
    "mpf.plot(daily,**kwargs,style=s)\n",
    "\n",
    "mpf.plot(daily,**ohlckws,style=s)"
   ]
  },
  {
   "cell_type": "markdown",
   "metadata": {},
   "source": [
    "---\n",
    "\n",
    "## Using 'base' styles:\n",
    "\n",
    "---\n",
    "\n",
    "- There are two kinds of 'base' or foundation styles that can be specified:\n",
    "  - `base_mpf_style` - base mplfinance style\n",
    "  - `base_mpl_style` - [base matplotlib style](https://matplotlib.org/gallery/style_sheets/style_sheets_reference.html).\n",
    "  \n",
    "\n",
    "- Specifying a 'base' style can make it easier to create your own mpf style by giving you something to start with, on top of which you can specify your own changes."
   ]
  },
  {
   "cell_type": "markdown",
   "metadata": {},
   "source": [
    "---\n",
    "\n",
    "## 'base' mplfinance styles:\n",
    "\n",
    "---\n",
    "\n",
    "- When creating either **marketcolors**, or an **mplfinance style**, it is possible to specify a **`base_mpf_style`**.\n",
    "\n",
    "### marketcolors:\n",
    "- When calling `mpf.make_marketcolors()`, specifying a `base_mpf_style` copies ***only*** the market colors from the 'base' style.\n",
    "\n",
    "  - You can then make specific changes to any of `up`, `down`, `edge`, `wick`, `ohlc`, or `volume` on top of the `base_mpf_style` **marketcolors**.\n",
    "\n",
    "### mplfinance style:\n",
    "- But, when calling `mpf.make_mpf_style()`, specifying a `base_mpf_style` copies ***all*** of the style attributes from the `base_mpf_style` (marketcolors, background, grid, etc).\n",
    "\n",
    "\n",
    "\n",
    "- For example, suppose I like style `nightclouds`, but I want to modify the `marketcolors` of that style to stand out more.  I can do the following:"
   ]
  },
  {
   "cell_type": "code",
   "execution_count": null,
   "metadata": {},
   "outputs": [],
   "source": [
    "# This is what `nightclouds` looks like un-modified:\n",
    "mpf.plot(daily,**kwargs,style='nightclouds',title='\\n`Nightclouds`')\n",
    "\n",
    "# Create my own `marketcolors` to use with the `nightclouds` style:\n",
    "mc = mpf.make_marketcolors(up='#00ff00',down='#ff00ff',inherit=True)\n",
    "\n",
    "# Create a new style based on `nightclouds` but with my own `marketcolors`:\n",
    "s  = mpf.make_mpf_style(base_mpf_style='nightclouds',marketcolors=mc)\n",
    "\n",
    "# Plot my new custom mpf style:\n",
    "mpf.plot(daily,**kwargs,style=s,title='`Nightclouds` \\nwith modified `marketcolors`')"
   ]
  },
  {
   "cell_type": "markdown",
   "metadata": {},
   "source": [
    "---\n",
    "## matplotlib styles:\n",
    "\n",
    "- **When creating a mpf style,** it is also possible to specify a **`base_mpl_style`** \n",
    "  - NOTICE **mpl** (matplot**lib**) style, _not_ mpf like we used above.  **See [matplotlib Style sheets reference](https://matplotlib.org/gallery/style_sheets/style_sheets_reference.html).**\n",
    "  \n",
    "  \n",
    "- So for example, suppose I like the `marketcolors` from mpf style `nightclouds` but I want to put them on a plot with a style similar to matplotlib style `seaborn`:"
   ]
  },
  {
   "cell_type": "code",
   "execution_count": null,
   "metadata": {},
   "outputs": [],
   "source": [
    "# Take marketcolors from 'nightclouds'\n",
    "mc = mpf.make_marketcolors(base_mpf_style='nightclouds')\n",
    "\n",
    "# Create a style based on `seaborn` using those market colors:\n",
    "s  = mpf.make_mpf_style(base_mpl_style='seaborn',marketcolors=mc)\n",
    "\n",
    "# Plot my new custom mpf style:\n",
    "mpf.plot(daily,**kwargs,style=s,\n",
    "         title='`nightclouds` marketcolors\\non matplotlib style `seaborn`')"
   ]
  },
  {
   "cell_type": "markdown",
   "metadata": {},
   "source": [
    "- Notice however, in the plot above, the white marketcolors are difficult to see with the light `seaborn` background.  \n",
    "\n",
    "\n",
    "- **We can fix that by tweaking the market colors when we create them from `nightclouds`**"
   ]
  },
  {
   "cell_type": "code",
   "execution_count": null,
   "metadata": {},
   "outputs": [],
   "source": [
    "# Take marketcolors from 'nightclouds', but make them easier to see on a light background:\n",
    "mc = mpf.make_marketcolors(base_mpf_style='nightclouds',\n",
    "                           edge='#505050',wick='#505050',volume='silver')\n",
    "\n",
    "# Create a style based on `seaborn` using those market colors:\n",
    "s  = mpf.make_mpf_style(base_mpl_style='seaborn',marketcolors=mc)\n",
    "\n",
    "# Plot my new custom mpf style:\n",
    "mpf.plot(daily,**kwargs,style=s,\n",
    "         title='modified `nightclouds` marketcolors\\non matplotlib style `seaborn`')"
   ]
  },
  {
   "cell_type": "markdown",
   "metadata": {},
   "source": [
    "---\n",
    "\n",
    "### The following OPTIONAL keyword arguments are available to `mpl.make_mpf_style()`<br> for creating an **mplfinance style:**\n",
    "\n",
    "| kwarg | comments    |\n",
    "|:---- |:-------------- |\n",
    "| base_mpf_style | `str` name of an existing **mplfinance** style.<br>*applied* ***first.***  (i.e. all other kwargs, if specified, override any settings in here). |\n",
    "| base_mpl_style | `str` name of name an existing **matplotlib** style.<br>*applied* ***second.***  (i.e. all other kwargs, if specified, override any settings in here). |\n",
    "| ...            | The remaining kwargs are applied only ***after*** the above two, and so will override any settings in the above two kwargs.\n",
    "| marketcolors   | Output from `mpf.make_marketcolors()` |\n",
    "| mavcolors      | `list` of one or more matplotlib colors to cycle through for moving averages |\n",
    "| facecolor      | facecolor of the Axes\n",
    "| edgecolor      | edgecolor of the Axes\n",
    "| figcolor       | facecolor of the Figure (outside of the Axes)\n",
    "| gridcolor      | color of grid lines\n",
    "| gridstyle      | style of grid lines; possible values are:<br>&nbsp;&nbsp;&nbsp;&nbsp;&nbsp;&nbsp;&nbsp;&nbsp;'-' or 'solid',<br>&nbsp;&nbsp;&nbsp;&nbsp;&nbsp;&nbsp;&nbsp;&nbsp;'--' or 'dashed',<br>&nbsp;&nbsp;&nbsp;&nbsp;&nbsp;&nbsp;&nbsp;&nbsp;'-.' or 'dashdot',<br>&nbsp;&nbsp;&nbsp;&nbsp;&nbsp;&nbsp;&nbsp;&nbsp;':' or 'dotted',<br>&nbsp;&nbsp;&nbsp;&nbsp;&nbsp;&nbsp;&nbsp;&nbsp;None or ' ' or '' (draw nothing)\n",
    "| gridaxis       | 'horizontal', 'vertical', or 'both'\n",
    "| y_on_right     | boolean (display **primary** y-axis labels and ticks on right)  |\n",
    "| rc             | `dict` of specific rcParams to modify. Note that the following kwargs also modify rcParams: facecolor, figcolor, gridcolor, gridstyle, gridaxis; If any of them are specified, and the same rcParam is also specified, then the kwarg takes precedence.\n"
   ]
  },
  {
   "cell_type": "markdown",
   "metadata": {},
   "source": [
    "---\n",
    "\n",
    "### WARNING:\n",
    "- `mpf.make_marketcolors()` returns a `marketcolors` object, which can be used as input to the `marketcolors=` keyword argument of function `mpf.make_mpf_style()`\n",
    "\n",
    "\n",
    "- `mpf.make_mpf_style()` returns an `mpf_style` object that is used as input the the `style=` keyword argument of function `mpf.plot()`\n",
    "\n",
    "\n",
    "- You may have noticed that, at the present time, both the `marketcolors` object and the `mpf_style` object, are actually python `dict` objects, that are structured in a particular way that is expected and understood by the `mplfinance` code, **HOWEVER PLEASE NOTE:**\n",
    "  - There is *no* guarantee that the structure of these dicts will not change in future versions of the code.\n",
    "  - Nor is there any guarantee that these objects won't someday be an instance of some `class` that is specific to mplfinance.\n",
    "\n",
    "\n",
    "- **THEREFORE** it is strongly advised that you always call `make_marketcolors()` and `make_mpf_style()` and **do not** do any direct manipulating of the output from these functions.\n",
    "\n",
    "---"
   ]
  },
  {
   "cell_type": "code",
   "execution_count": null,
   "metadata": {},
   "outputs": [],
   "source": []
  }
 ],
 "metadata": {
  "kernelspec": {
   "display_name": "Python 3",
   "language": "python",
   "name": "python3"
  },
  "language_info": {
   "codemirror_mode": {
    "name": "ipython",
    "version": 3
   },
   "file_extension": ".py",
   "mimetype": "text/x-python",
   "name": "python",
   "nbconvert_exporter": "python",
   "pygments_lexer": "ipython3",
   "version": "3.8.1-final"
  }
 },
 "nbformat": 4,
 "nbformat_minor": 2
}