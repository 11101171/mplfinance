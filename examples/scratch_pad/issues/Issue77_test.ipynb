{
 "cells": [
  {
   "cell_type": "code",
   "execution_count": 1,
   "metadata": {},
   "outputs": [
    {
     "name": "stdout",
     "output_type": "stream",
     "text": [
      "minx,miny,maxx,maxy,stdy= -0.9583333333333334 1.12725 23.958333333333332 1.12842 0.00022099136007757157\n"
     ]
    },
    {
     "data": {
      "text/plain": [
       "<Figure size 1440x1035 with 2 Axes>"
      ]
     },
     "metadata": {},
     "output_type": "display_data"
    }
   ],
   "source": [
    "import mplfinance as mpf\n",
    "import pandas as pd \n",
    "\n",
    "myData = pd.read_csv(\"issue77_eurusd.csv\")\n",
    "myData['Date and Time'] = pd.to_datetime(myData['Gmt time'],format='%d.%m.%Y %H:%M:%S.000')\n",
    "myData.set_index('Date and Time', inplace=True)\n",
    "myData = myData.iloc[-24:]\n",
    "\n",
    "\n",
    "line = mpf.make_addplot(myData[\"High\"],scatter=False) #No issues drawing a line\n",
    "scatter = mpf.make_addplot(myData[\"High\"],scatter=True,secondary_y=False) #Issues drawing scatter\n",
    "\n",
    "mpf.plot(myData,\n",
    "         type = 'candle',\n",
    "         style='yahoo', \n",
    "         addplot= line,\n",
    "         figscale=1.8)"
   ]
  },
  {
   "cell_type": "code",
   "execution_count": 2,
   "metadata": {},
   "outputs": [
    {
     "name": "stdout",
     "output_type": "stream",
     "text": [
      "1.0.3\n",
      "0.12.4a0\n"
     ]
    }
   ],
   "source": [
    "print(pd.__version__)\n",
    "print(mpf.__version__)"
   ]
  },
  {
   "cell_type": "code",
   "execution_count": 3,
   "metadata": {},
   "outputs": [
    {
     "data": {
      "text/html": [
       "<div>\n",
       "<style scoped>\n",
       "    .dataframe tbody tr th:only-of-type {\n",
       "        vertical-align: middle;\n",
       "    }\n",
       "\n",
       "    .dataframe tbody tr th {\n",
       "        vertical-align: top;\n",
       "    }\n",
       "\n",
       "    .dataframe thead th {\n",
       "        text-align: right;\n",
       "    }\n",
       "</style>\n",
       "<table border=\"1\" class=\"dataframe\">\n",
       "  <thead>\n",
       "    <tr style=\"text-align: right;\">\n",
       "      <th></th>\n",
       "      <th>Open</th>\n",
       "      <th>High</th>\n",
       "      <th>Low</th>\n",
       "      <th>Close</th>\n",
       "      <th>Volume</th>\n",
       "    </tr>\n",
       "  </thead>\n",
       "  <tbody>\n",
       "    <tr>\n",
       "      <th>count</th>\n",
       "      <td>24.000000</td>\n",
       "      <td>24.000000</td>\n",
       "      <td>24.000000</td>\n",
       "      <td>24.000000</td>\n",
       "      <td>24.000000</td>\n",
       "    </tr>\n",
       "    <tr>\n",
       "      <th>mean</th>\n",
       "      <td>1.127852</td>\n",
       "      <td>1.128042</td>\n",
       "      <td>1.127682</td>\n",
       "      <td>1.127869</td>\n",
       "      <td>0.002365</td>\n",
       "    </tr>\n",
       "    <tr>\n",
       "      <th>std</th>\n",
       "      <td>0.000238</td>\n",
       "      <td>0.000229</td>\n",
       "      <td>0.000213</td>\n",
       "      <td>0.000219</td>\n",
       "      <td>0.000646</td>\n",
       "    </tr>\n",
       "    <tr>\n",
       "      <th>min</th>\n",
       "      <td>1.127350</td>\n",
       "      <td>1.127600</td>\n",
       "      <td>1.127250</td>\n",
       "      <td>1.127350</td>\n",
       "      <td>0.001135</td>\n",
       "    </tr>\n",
       "    <tr>\n",
       "      <th>25%</th>\n",
       "      <td>1.127690</td>\n",
       "      <td>1.127890</td>\n",
       "      <td>1.127592</td>\n",
       "      <td>1.127722</td>\n",
       "      <td>0.001897</td>\n",
       "    </tr>\n",
       "    <tr>\n",
       "      <th>50%</th>\n",
       "      <td>1.127855</td>\n",
       "      <td>1.128025</td>\n",
       "      <td>1.127695</td>\n",
       "      <td>1.127875</td>\n",
       "      <td>0.002292</td>\n",
       "    </tr>\n",
       "    <tr>\n",
       "      <th>75%</th>\n",
       "      <td>1.127992</td>\n",
       "      <td>1.128238</td>\n",
       "      <td>1.127825</td>\n",
       "      <td>1.127992</td>\n",
       "      <td>0.002807</td>\n",
       "    </tr>\n",
       "    <tr>\n",
       "      <th>max</th>\n",
       "      <td>1.128360</td>\n",
       "      <td>1.128420</td>\n",
       "      <td>1.128060</td>\n",
       "      <td>1.128350</td>\n",
       "      <td>0.003500</td>\n",
       "    </tr>\n",
       "  </tbody>\n",
       "</table>\n",
       "</div>"
      ],
      "text/plain": [
       "            Open       High        Low      Close     Volume\n",
       "count  24.000000  24.000000  24.000000  24.000000  24.000000\n",
       "mean    1.127852   1.128042   1.127682   1.127869   0.002365\n",
       "std     0.000238   0.000229   0.000213   0.000219   0.000646\n",
       "min     1.127350   1.127600   1.127250   1.127350   0.001135\n",
       "25%     1.127690   1.127890   1.127592   1.127722   0.001897\n",
       "50%     1.127855   1.128025   1.127695   1.127875   0.002292\n",
       "75%     1.127992   1.128238   1.127825   1.127992   0.002807\n",
       "max     1.128360   1.128420   1.128060   1.128350   0.003500"
      ]
     },
     "execution_count": 3,
     "metadata": {},
     "output_type": "execute_result"
    }
   ],
   "source": [
    "myData.describe()"
   ]
  },
  {
   "cell_type": "code",
   "execution_count": 4,
   "metadata": {},
   "outputs": [],
   "source": [
    "import numpy as np"
   ]
  },
  {
   "cell_type": "code",
   "execution_count": 5,
   "metadata": {},
   "outputs": [
    {
     "data": {
      "text/plain": [
       "Date and Time\n",
       "2019-04-09 12:00:00    1.12769\n",
       "2019-04-09 12:05:00    1.12789\n",
       "2019-04-09 12:10:00    1.12776\n",
       "2019-04-09 12:15:00    1.12789\n",
       "2019-04-09 12:20:00    1.12790\n",
       "2019-04-09 12:25:00    1.12777\n",
       "2019-04-09 12:30:00    1.12800\n",
       "2019-04-09 12:35:00    1.12823\n",
       "2019-04-09 12:40:00    1.12796\n",
       "2019-04-09 12:45:00    1.12786\n",
       "2019-04-09 12:50:00    1.12760\n",
       "2019-04-09 12:55:00    1.12790\n",
       "2019-04-09 13:00:00    1.12837\n",
       "2019-04-09 13:05:00    1.12836\n",
       "2019-04-09 13:10:00    1.12805\n",
       "2019-04-09 13:15:00    1.12809\n",
       "2019-04-09 13:20:00    1.12829\n",
       "2019-04-09 13:25:00    1.12829\n",
       "2019-04-09 13:30:00    1.12826\n",
       "2019-04-09 13:35:00    1.12813\n",
       "2019-04-09 13:40:00    1.12842\n",
       "2019-04-09 13:45:00    1.12821\n",
       "2019-04-09 13:50:00    1.12812\n",
       "2019-04-09 13:55:00    1.12797\n",
       "Name: High, dtype: float64"
      ]
     },
     "execution_count": 5,
     "metadata": {},
     "output_type": "execute_result"
    }
   ],
   "source": [
    "#scatter['data'].iloc[ 0] = np.nan\n",
    "#scatter['data'].iloc[10] = np.nan\n",
    "#scatter['data'].iloc[-1] = np.nan\n",
    "scatter['data']"
   ]
  },
  {
   "cell_type": "code",
   "execution_count": 6,
   "metadata": {
    "scrolled": false
   },
   "outputs": [
    {
     "name": "stdout",
     "output_type": "stream",
     "text": [
      "minx,miny,maxx,maxy,stdy= -0.9583333333333334 1.12725 23.958333333333332 1.12842 0.00022099136007757157\n"
     ]
    },
    {
     "data": {
      "image/png": "[encoded data removed]",
      "text/plain": [
       "<Figure size 1036.8x745.2 with 2 Axes>"
      ]
     },
     "metadata": {
      "needs_background": "light"
     },
     "output_type": "display_data"
    }
   ],
   "source": [
    "mpf.plot(myData,\n",
    "         type = 'candle',\n",
    "         style='yahoo', \n",
    "         addplot= scatter,\n",
    "         figscale=1.8,\n",
    "        )"
   ]
  },
  {
   "cell_type": "code",
   "execution_count": 7,
   "metadata": {},
   "outputs": [
    {
     "data": {
      "text/plain": [
       "{'data': Date and Time\n",
       " 2019-04-09 12:00:00    1.12769\n",
       " 2019-04-09 12:05:00    1.12789\n",
       " 2019-04-09 12:10:00    1.12776\n",
       " 2019-04-09 12:15:00    1.12789\n",
       " 2019-04-09 12:20:00    1.12790\n",
       " 2019-04-09 12:25:00    1.12777\n",
       " 2019-04-09 12:30:00    1.12800\n",
       " 2019-04-09 12:35:00    1.12823\n",
       " 2019-04-09 12:40:00    1.12796\n",
       " 2019-04-09 12:45:00    1.12786\n",
       " 2019-04-09 12:50:00    1.12760\n",
       " 2019-04-09 12:55:00    1.12790\n",
       " 2019-04-09 13:00:00    1.12837\n",
       " 2019-04-09 13:05:00    1.12836\n",
       " 2019-04-09 13:10:00    1.12805\n",
       " 2019-04-09 13:15:00    1.12809\n",
       " 2019-04-09 13:20:00    1.12829\n",
       " 2019-04-09 13:25:00    1.12829\n",
       " 2019-04-09 13:30:00    1.12826\n",
       " 2019-04-09 13:35:00    1.12813\n",
       " 2019-04-09 13:40:00    1.12842\n",
       " 2019-04-09 13:45:00    1.12821\n",
       " 2019-04-09 13:50:00    1.12812\n",
       " 2019-04-09 13:55:00    1.12797\n",
       " Name: High, dtype: float64,\n",
       " 'scatter': True,\n",
       " 'panel': 'main',\n",
       " 'marker': 'o',\n",
       " 'markersize': 18,\n",
       " 'color': None,\n",
       " 'linestyle': None,\n",
       " 'secondary_y': False}"
      ]
     },
     "execution_count": 7,
     "metadata": {},
     "output_type": "execute_result"
    }
   ],
   "source": [
    "scatter"
   ]
  },
  {
   "cell_type": "code",
   "execution_count": 8,
   "metadata": {},
   "outputs": [
    {
     "data": {
      "text/plain": [
       "array(['2019-04-09T12:00:00.000000000', '2019-04-09T12:05:00.000000000',\n",
       "       '2019-04-09T12:10:00.000000000', '2019-04-09T12:15:00.000000000',\n",
       "       '2019-04-09T12:20:00.000000000', '2019-04-09T12:25:00.000000000',\n",
       "       '2019-04-09T12:30:00.000000000', '2019-04-09T12:35:00.000000000',\n",
       "       '2019-04-09T12:40:00.000000000', '2019-04-09T12:45:00.000000000',\n",
       "       '2019-04-09T12:50:00.000000000', '2019-04-09T12:55:00.000000000',\n",
       "       '2019-04-09T13:00:00.000000000', '2019-04-09T13:05:00.000000000',\n",
       "       '2019-04-09T13:10:00.000000000', '2019-04-09T13:15:00.000000000',\n",
       "       '2019-04-09T13:20:00.000000000', '2019-04-09T13:25:00.000000000',\n",
       "       '2019-04-09T13:30:00.000000000', '2019-04-09T13:35:00.000000000',\n",
       "       '2019-04-09T13:40:00.000000000', '2019-04-09T13:45:00.000000000',\n",
       "       '2019-04-09T13:50:00.000000000', '2019-04-09T13:55:00.000000000'],\n",
       "      dtype='datetime64[ns]')"
      ]
     },
     "execution_count": 8,
     "metadata": {},
     "output_type": "execute_result"
    }
   ],
   "source": [
    "myData.index.values"
   ]
  },
  {
   "cell_type": "code",
   "execution_count": 9,
   "metadata": {},
   "outputs": [
    {
     "data": {
      "text/plain": [
       "array([1.12769, 1.12789, 1.12776, 1.12789, 1.1279 , 1.12777, 1.128  ,\n",
       "       1.12823, 1.12796, 1.12786, 1.1276 , 1.1279 , 1.12837, 1.12836,\n",
       "       1.12805, 1.12809, 1.12829, 1.12829, 1.12826, 1.12813, 1.12842,\n",
       "       1.12821, 1.12812, 1.12797])"
      ]
     },
     "execution_count": 9,
     "metadata": {},
     "output_type": "execute_result"
    }
   ],
   "source": [
    "myData['High'].values"
   ]
  },
  {
   "cell_type": "code",
   "execution_count": 10,
   "metadata": {},
   "outputs": [],
   "source": [
    "#%matplotlib qt\n",
    "%matplotlib inline\n",
    "import matplotlib.pyplot as plt"
   ]
  },
  {
   "cell_type": "code",
   "execution_count": 11,
   "metadata": {},
   "outputs": [],
   "source": [
    "def makeplot():\n",
    "    fig = plt.figure()\n",
    "    ax = fig.add_axes([0.0, 0.0, 1.0, 1.0])\n",
    "    #ax.autoscale(enable=False,axis='y')\n",
    "    ax.scatter(myData.index.values,myData['High'].values)\n",
    "    \n",
    "def makeplot_noas():\n",
    "    fig = plt.figure()\n",
    "    ax = fig.add_axes([0.0, 0.0, 1.0, 1.0])\n",
    "    #ax.autoscale(enable=False,axis='y')\n",
    "    miny = 1.1274 \n",
    "    maxy = 1.1285\n",
    "    ax.set_ylim(ymin=miny,ymax=maxy)\n",
    "    minx = min(myData.index.values)\n",
    "    maxx = max(myData.index.values)\n",
    "    ax.set_xlim(xmin=minx,xmax=maxx)\n",
    "    ax.scatter(myData.index.values,myData['High'].values)"
   ]
  },
  {
   "cell_type": "code",
   "execution_count": 12,
   "metadata": {},
   "outputs": [
    {
     "data": {
      "image/png": "[encoded data removed]",
      "text/plain": [
       "<Figure size 432x288 with 1 Axes>"
      ]
     },
     "metadata": {
      "needs_background": "light"
     },
     "output_type": "display_data"
    }
   ],
   "source": [
    "makeplot()"
   ]
  },
  {
   "cell_type": "code",
   "execution_count": 13,
   "metadata": {},
   "outputs": [
    {
     "data": {
      "image/png": "[encoded data removed]",
      "text/plain": [
       "<Figure size 432x288 with 1 Axes>"
      ]
     },
     "metadata": {
      "needs_background": "light"
     },
     "output_type": "display_data"
    }
   ],
   "source": [
    "makeplot_noas()"
   ]
  },
  {
   "cell_type": "code",
   "execution_count": null,
   "metadata": {},
   "outputs": [],
   "source": []
  }
 ],
 "metadata": {
  "kernelspec": {
   "display_name": "Python 3",
   "language": "python",
   "name": "python3"
  },
  "language_info": {
   "codemirror_mode": {
    "name": "ipython",
    "version": 3
   },
   "file_extension": ".py",
   "mimetype": "text/x-python",
   "name": "python",
   "nbconvert_exporter": "python",
   "pygments_lexer": "ipython3",
   "version": "3.7.4"
  }
 },
 "nbformat": 4,
 "nbformat_minor": 2
}
