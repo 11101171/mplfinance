{
 "cells": [
  {
   "cell_type": "markdown",
   "metadata": {},
   "source": [
    "---\n",
    "\n",
    "##  mplfinance: initial testing of styles and plot customization\n",
    "\n",
    "---"
   ]
  },
  {
   "cell_type": "code",
   "execution_count": 1,
   "metadata": {},
   "outputs": [],
   "source": [
    "# This allows multiple outputs from a single jupyter notebook cell:\n",
    "from IPython.core.interactiveshell import InteractiveShell\n",
    "InteractiveShell.ast_node_interactivity = \"all\""
   ]
  },
  {
   "cell_type": "code",
   "execution_count": 2,
   "metadata": {},
   "outputs": [
    {
     "data": {
      "text/plain": [
       "'0.25.1'"
      ]
     },
     "execution_count": 2,
     "metadata": {},
     "output_type": "execute_result"
    }
   ],
   "source": [
    "import pandas as pd\n",
    "pd.__version__  # for the record"
   ]
  },
  {
   "cell_type": "code",
   "execution_count": 3,
   "metadata": {},
   "outputs": [],
   "source": [
    "# plots outside the notebook:\n",
    "#%matplotlib qt     \n",
    "# plots within the notebook:\n",
    "%matplotlib inline"
   ]
  },
  {
   "cell_type": "markdown",
   "metadata": {},
   "source": [
    "---\n",
    "\n",
    "### Let's read in some daily data for the S&P 500 from November of 2019 "
   ]
  },
  {
   "cell_type": "code",
   "execution_count": 4,
   "metadata": {},
   "outputs": [
    {
     "data": {
      "text/plain": [
       "(20, 5)"
      ]
     },
     "execution_count": 4,
     "metadata": {},
     "output_type": "execute_result"
    },
    {
     "data": {
      "text/html": [
       "<div>\n",
       "<style scoped>\n",
       "    .dataframe tbody tr th:only-of-type {\n",
       "        vertical-align: middle;\n",
       "    }\n",
       "\n",
       "    .dataframe tbody tr th {\n",
       "        vertical-align: top;\n",
       "    }\n",
       "\n",
       "    .dataframe thead th {\n",
       "        text-align: right;\n",
       "    }\n",
       "</style>\n",
       "<table border=\"1\" class=\"dataframe\">\n",
       "  <thead>\n",
       "    <tr style=\"text-align: right;\">\n",
       "      <th></th>\n",
       "      <th>Open</th>\n",
       "      <th>High</th>\n",
       "      <th>Low</th>\n",
       "      <th>Close</th>\n",
       "      <th>Volume</th>\n",
       "    </tr>\n",
       "    <tr>\n",
       "      <th>Date</th>\n",
       "      <th></th>\n",
       "      <th></th>\n",
       "      <th></th>\n",
       "      <th></th>\n",
       "      <th></th>\n",
       "    </tr>\n",
       "  </thead>\n",
       "  <tbody>\n",
       "    <tr>\n",
       "      <td>2019-11-01</td>\n",
       "      <td>3050.72</td>\n",
       "      <td>3066.95</td>\n",
       "      <td>3050.72</td>\n",
       "      <td>3066.91</td>\n",
       "      <td>510301237</td>\n",
       "    </tr>\n",
       "    <tr>\n",
       "      <td>2019-11-04</td>\n",
       "      <td>3078.96</td>\n",
       "      <td>3085.20</td>\n",
       "      <td>3074.87</td>\n",
       "      <td>3078.27</td>\n",
       "      <td>524848878</td>\n",
       "    </tr>\n",
       "    <tr>\n",
       "      <td>2019-11-05</td>\n",
       "      <td>3080.80</td>\n",
       "      <td>3083.95</td>\n",
       "      <td>3072.15</td>\n",
       "      <td>3074.62</td>\n",
       "      <td>585634570</td>\n",
       "    </tr>\n",
       "  </tbody>\n",
       "</table>\n",
       "</div>"
      ],
      "text/plain": [
       "               Open     High      Low    Close     Volume\n",
       "Date                                                     \n",
       "2019-11-01  3050.72  3066.95  3050.72  3066.91  510301237\n",
       "2019-11-04  3078.96  3085.20  3074.87  3078.27  524848878\n",
       "2019-11-05  3080.80  3083.95  3072.15  3074.62  585634570"
      ]
     },
     "execution_count": 4,
     "metadata": {},
     "output_type": "execute_result"
    },
    {
     "data": {
      "text/html": [
       "<div>\n",
       "<style scoped>\n",
       "    .dataframe tbody tr th:only-of-type {\n",
       "        vertical-align: middle;\n",
       "    }\n",
       "\n",
       "    .dataframe tbody tr th {\n",
       "        vertical-align: top;\n",
       "    }\n",
       "\n",
       "    .dataframe thead th {\n",
       "        text-align: right;\n",
       "    }\n",
       "</style>\n",
       "<table border=\"1\" class=\"dataframe\">\n",
       "  <thead>\n",
       "    <tr style=\"text-align: right;\">\n",
       "      <th></th>\n",
       "      <th>Open</th>\n",
       "      <th>High</th>\n",
       "      <th>Low</th>\n",
       "      <th>Close</th>\n",
       "      <th>Volume</th>\n",
       "    </tr>\n",
       "    <tr>\n",
       "      <th>Date</th>\n",
       "      <th></th>\n",
       "      <th></th>\n",
       "      <th></th>\n",
       "      <th></th>\n",
       "      <th></th>\n",
       "    </tr>\n",
       "  </thead>\n",
       "  <tbody>\n",
       "    <tr>\n",
       "      <td>2019-11-26</td>\n",
       "      <td>3134.85</td>\n",
       "      <td>3142.69</td>\n",
       "      <td>3131.00</td>\n",
       "      <td>3140.52</td>\n",
       "      <td>986041660</td>\n",
       "    </tr>\n",
       "    <tr>\n",
       "      <td>2019-11-27</td>\n",
       "      <td>3145.49</td>\n",
       "      <td>3154.26</td>\n",
       "      <td>3143.41</td>\n",
       "      <td>3153.63</td>\n",
       "      <td>421853938</td>\n",
       "    </tr>\n",
       "    <tr>\n",
       "      <td>2019-11-29</td>\n",
       "      <td>3147.18</td>\n",
       "      <td>3150.30</td>\n",
       "      <td>3139.34</td>\n",
       "      <td>3140.98</td>\n",
       "      <td>286602291</td>\n",
       "    </tr>\n",
       "  </tbody>\n",
       "</table>\n",
       "</div>"
      ],
      "text/plain": [
       "               Open     High      Low    Close     Volume\n",
       "Date                                                     \n",
       "2019-11-26  3134.85  3142.69  3131.00  3140.52  986041660\n",
       "2019-11-27  3145.49  3154.26  3143.41  3153.63  421853938\n",
       "2019-11-29  3147.18  3150.30  3139.34  3140.98  286602291"
      ]
     },
     "execution_count": 4,
     "metadata": {},
     "output_type": "execute_result"
    }
   ],
   "source": [
    "daily = pd.read_csv('../data/SP500_NOV2019_Hist.csv',index_col=0,parse_dates=True)\n",
    "daily.index.name = 'Date'\n",
    "daily.shape\n",
    "daily.head(3)\n",
    "daily.tail(3)"
   ]
  },
  {
   "cell_type": "markdown",
   "metadata": {},
   "source": [
    "---\n",
    "## Importing mplfinance"
   ]
  },
  {
   "cell_type": "code",
   "execution_count": 5,
   "metadata": {},
   "outputs": [],
   "source": [
    "import mplfinance as mpf"
   ]
  },
  {
   "cell_type": "markdown",
   "metadata": {},
   "source": [
    "---\n",
    "### Plotting open,high,low,close data is as simple as calling `mpf.plot()` on the dataframe"
   ]
  },
  {
   "cell_type": "code",
   "execution_count": 6,
   "metadata": {
    "scrolled": false
   },
   "outputs": [
    {
     "data": {
      "image/png": "[encoded data removed]",
      "text/plain": [
       "<Figure size 504x360 with 1 Axes>"
      ]
     },
     "metadata": {},
     "output_type": "display_data"
    }
   ],
   "source": [
    "f = mpf.plot(daily)  # the default plot type is 'ohlc'\n",
    "# f.suptitle('Title Here')\n",
    "# print('type(f)=',type(f))\n",
    "# print('id(f)=',id(f))\n",
    "# import matplotlib.pyplot as plt\n",
    "# cf = plt.gcf()\n",
    "# print('type(cf)=',type(cf))\n",
    "# print('id(cf)=',id(cf))\n",
    "# f.show()"
   ]
  },
  {
   "cell_type": "markdown",
   "metadata": {},
   "source": [
    "---\n",
    "\n",
    "### The default plot type, as you can see above, is `'ohlc'`\n",
    "  \n",
    "### Other plot types can be specified with the keyword argument `type`,<br> for example, `type='candle'` or `type='line'`\n"
   ]
  },
  {
   "cell_type": "code",
   "execution_count": 7,
   "metadata": {},
   "outputs": [
    {
     "data": {
      "image/png": "[encoded data removed]",
      "text/plain": [
       "<Figure size 504x360 with 1 Axes>"
      ]
     },
     "metadata": {},
     "output_type": "display_data"
    }
   ],
   "source": [
    "mpf.plot(daily,type='candle',title='\\nS&P 500, Nov 2019') # we can plot candlesticks also"
   ]
  },
  {
   "cell_type": "code",
   "execution_count": 8,
   "metadata": {},
   "outputs": [
    {
     "data": {
      "image/png": "[encoded data removed]",
      "text/plain": [
       "<Figure size 504x360 with 1 Axes>"
      ]
     },
     "metadata": {},
     "output_type": "display_data"
    }
   ],
   "source": [
    "mpf.plot(daily,type='line')"
   ]
  },
  {
   "cell_type": "markdown",
   "metadata": {},
   "source": [
    "---\n",
    "## We can also plot moving averages with the `mav` keyword\n",
    "### &nbsp;&nbsp;&nbsp; - use an integer for a single moving average \n",
    "### &nbsp;&nbsp;&nbsp; - use a tuple or list of integers for multiple moving averages"
   ]
  },
  {
   "cell_type": "code",
   "execution_count": 9,
   "metadata": {},
   "outputs": [
    {
     "data": {
      "image/png": "[encoded data removed]",
      "text/plain": [
       "<Figure size 504x360 with 1 Axes>"
      ]
     },
     "metadata": {},
     "output_type": "display_data"
    }
   ],
   "source": [
    "mpf.plot(daily,type='ohlc',mav=4)"
   ]
  },
  {
   "cell_type": "code",
   "execution_count": 10,
   "metadata": {},
   "outputs": [
    {
     "data": {
      "image/png": "[encoded data removed]",
      "text/plain": [
       "<Figure size 504x360 with 1 Axes>"
      ]
     },
     "metadata": {},
     "output_type": "display_data"
    }
   ],
   "source": [
    "mpf.plot(daily,type='candle',mav=(3,6,9))"
   ]
  },
  {
   "cell_type": "code",
   "execution_count": 11,
   "metadata": {},
   "outputs": [],
   "source": [
    "# from mplfinance._styles import _get_mpfstyle\n",
    "\n",
    "# style = _get_mpfstyle('classic')\n",
    "\n",
    "# # import copy\n",
    "# # mktcolors = copy.deepcopy(style['marketcolors'])\n",
    "# # mavcolors = copy.deepcopy(style['mavcolors'])\n",
    "\n",
    "# mktcolors = style['marketcolors']\n",
    "# mavcolors = style['mavcolors']\n",
    "\n",
    "# subd = mktcolors['candle']\n",
    "# subd\n",
    "# subd.update({'up':'g','down':'r'})\n",
    "# subd\n",
    "# #mktcolors.update({'candle':subd,'volume':'#1f77b4'})"
   ]
  },
  {
   "cell_type": "code",
   "execution_count": 12,
   "metadata": {},
   "outputs": [
    {
     "ename": "AttributeError",
     "evalue": "module 'mplfinance' has no attribute 'make_custom_style'",
     "output_type": "error",
     "traceback": [
      "\u001b[0;31m---------------------------------------------------------------------------\u001b[0m",
      "\u001b[0;31mAttributeError\u001b[0m                            Traceback (most recent call last)",
      "\u001b[0;32m<ipython-input-12-049a305f1d26>\u001b[0m in \u001b[0;36m<module>\u001b[0;34m\u001b[0m\n\u001b[0;32m----> 1\u001b[0;31m \u001b[0ms\u001b[0m \u001b[0;34m=\u001b[0m \u001b[0mmpf\u001b[0m\u001b[0;34m.\u001b[0m\u001b[0mmake_custom_style\u001b[0m\u001b[0;34m(\u001b[0m\u001b[0mmavcolors\u001b[0m\u001b[0;34m=\u001b[0m\u001b[0;34m[\u001b[0m\u001b[0;34m'red'\u001b[0m\u001b[0;34m,\u001b[0m\u001b[0;34m'orange'\u001b[0m\u001b[0;34m,\u001b[0m\u001b[0;34m'green'\u001b[0m\u001b[0;34m,\u001b[0m\u001b[0;34m'blue'\u001b[0m\u001b[0;34m,\u001b[0m\u001b[0;34m'purple'\u001b[0m\u001b[0;34m]\u001b[0m\u001b[0;34m)\u001b[0m\u001b[0;34m\u001b[0m\u001b[0;34m\u001b[0m\u001b[0m\n\u001b[0m\u001b[1;32m      2\u001b[0m \u001b[0ms\u001b[0m \u001b[0;34m=\u001b[0m \u001b[0mmpf\u001b[0m\u001b[0;34m.\u001b[0m\u001b[0mmake_custom_style\u001b[0m\u001b[0;34m(\u001b[0m\u001b[0;34m)\u001b[0m\u001b[0;34m\u001b[0m\u001b[0;34m\u001b[0m\u001b[0m\n\u001b[1;32m      3\u001b[0m \u001b[0ms\u001b[0m \u001b[0;34m=\u001b[0m \u001b[0mmpf\u001b[0m\u001b[0;34m.\u001b[0m\u001b[0mmake_custom_style\u001b[0m\u001b[0;34m(\u001b[0m\u001b[0mbase_mpf_style\u001b[0m\u001b[0;34m=\u001b[0m\u001b[0;34m'classic'\u001b[0m\u001b[0;34m)\u001b[0m\u001b[0;34m\u001b[0m\u001b[0;34m\u001b[0m\u001b[0m\n",
      "\u001b[0;31mAttributeError\u001b[0m: module 'mplfinance' has no attribute 'make_custom_style'"
     ]
    }
   ],
   "source": [
    "s = mpf.make_custom_style(mavcolors=['red','orange','green','blue','purple'])\n",
    "s = mpf.make_custom_style()\n",
    "s = mpf.make_custom_style(base_mpf_style='classic')"
   ]
  },
  {
   "cell_type": "code",
   "execution_count": null,
   "metadata": {},
   "outputs": [],
   "source": [
    "s.keys()"
   ]
  },
  {
   "cell_type": "code",
   "execution_count": null,
   "metadata": {},
   "outputs": [],
   "source": [
    "# m = mpf.make_marketcolors(up='k',down='#0095ff',edge='w',wick='w',ohlc='w',volume='#92aace',alpha=1.0)\n",
    "# m = mpf.make_marketcolors(up='k',down='#0095ff',edge='w',wick='w',ohlc='w',volume='#7a93b8',alpha=1.0)\n",
    "# s = mpf.make_custom_style(base_mplstyle='dark_background',marketcolors=m,facecolor='k',\n",
    "#                           gridcolor='gray',gridstyle='--')\n",
    "# s = mpf.make_custom_style(base_mplstyle='dark_background',marketcolors=m,gridcolor='#999999',gridstyle='--')\n",
    "# s = mpf.make_custom_style(base_mplstyle='dark_background',facecolor='#0a0a0a',marketcolors=m,\n",
    "#                           gridcolor='grey',gridstyle='--')"
   ]
  },
  {
   "cell_type": "code",
   "execution_count": null,
   "metadata": {
    "scrolled": false
   },
   "outputs": [],
   "source": [
    "mav=(2,3,4,5,6,7,8)\n",
    "mav=(2,3,4,5)\n",
    "mpf.plot(daily,type='candle',mav=mav,volume=True,no_xgaps=True)"
   ]
  },
  {
   "cell_type": "code",
   "execution_count": null,
   "metadata": {},
   "outputs": [],
   "source": [
    "#rcd = {'grid.linewidth' : 1.8 }\n",
    "s = mpf.make_custom_style(base_mpf_style='schwab',base_mpl_style='default')#,rc=rcd)\n",
    "s = mpf.make_custom_style(base_mpf_style='schwab',base_mpl_style='fast')#,rc=rcd)\n",
    "s = 'schwab'\n",
    "mav=(2,4,6,8)\n",
    "mpf.plot(daily,type='candle',mav=mav,volume=True,style=s,block=False)"
   ]
  },
  {
   "cell_type": "code",
   "execution_count": null,
   "metadata": {},
   "outputs": [],
   "source": [
    "import mplfinance._styledata as sd"
   ]
  },
  {
   "cell_type": "code",
   "execution_count": null,
   "metadata": {},
   "outputs": [],
   "source": [
    "dir(sd)"
   ]
  },
  {
   "cell_type": "code",
   "execution_count": null,
   "metadata": {},
   "outputs": [],
   "source": [
    "[n for n in dir(sd) if not n.startswith('_')]"
   ]
  },
  {
   "cell_type": "code",
   "execution_count": null,
   "metadata": {},
   "outputs": [],
   "source": [
    "from mplfinance._styledata import *"
   ]
  },
  {
   "cell_type": "code",
   "execution_count": null,
   "metadata": {},
   "outputs": [],
   "source": [
    "[n for n in dir() if not n.startswith('_')]"
   ]
  },
  {
   "cell_type": "code",
   "execution_count": null,
   "metadata": {},
   "outputs": [],
   "source": [
    "_sn = ['dark','mike']\n",
    "\n",
    "for n in _sn:\n",
    "    ic = f'import mplfinance._styledata.{n} as {n}'\n",
    "    print('ic=\"'+ic+'\"')"
   ]
  },
  {
   "cell_type": "code",
   "execution_count": null,
   "metadata": {},
   "outputs": [],
   "source": []
  },
  {
   "cell_type": "code",
   "execution_count": null,
   "metadata": {},
   "outputs": [],
   "source": []
  },
  {
   "cell_type": "code",
   "execution_count": null,
   "metadata": {},
   "outputs": [],
   "source": []
  },
  {
   "cell_type": "code",
   "execution_count": null,
   "metadata": {},
   "outputs": [],
   "source": []
  },
  {
   "cell_type": "code",
   "execution_count": null,
   "metadata": {},
   "outputs": [],
   "source": [
    "mav=(2,4,6,8)\n",
    "mpf.plot(daily,type='candle',mav=mav,volume=True,style='mike',figratio=(11,8),figscale=1.25)"
   ]
  },
  {
   "cell_type": "code",
   "execution_count": null,
   "metadata": {},
   "outputs": [],
   "source": [
    "mc = mpf.make_marketcolors(base_style='mike',up='w',volume='i')\n",
    "st = mpf.make_custom_style(base_mpf_style='mike',marketcolors=mc)\n",
    "mpf.plot(daily,type='candle',mav=mav[0:3],volume=True,style=st,figratio=(11,8),figscale=1.25)"
   ]
  },
  {
   "cell_type": "code",
   "execution_count": null,
   "metadata": {},
   "outputs": [],
   "source": [
    "mc = mpf.make_marketcolors(base_style='mike',up='w',volume='i',edge='k',wick='k')\n",
    "#st = mpf.make_custom_style(base_mplstyle='classic',base_mpf_style='mike',marketcolors=mc)\n",
    "st = mpf.make_custom_style(base_mpl_style='classic',marketcolors=mc)\n",
    "mpf.plot(daily,type='candle',mav=mav[0:3],volume=True,style=st,figratio=(11,8),figscale=1.25)"
   ]
  },
  {
   "cell_type": "code",
   "execution_count": null,
   "metadata": {},
   "outputs": [],
   "source": []
  },
  {
   "cell_type": "code",
   "execution_count": null,
   "metadata": {},
   "outputs": [],
   "source": [
    "mpf.plot(daily,type='candle',mav=(2,4),volume=True,no_xgaps=True,\n",
    "         style='darktest',figratio=(7,5),figscale=1.5,ylabel='OHLC',title='\\nS&P 500')"
   ]
  },
  {
   "cell_type": "code",
   "execution_count": null,
   "metadata": {},
   "outputs": [],
   "source": [
    "m = mpf.make_marketcolors(up='lime',down='deeppink',ohlc='inherit',volume='#7a93b8')\n",
    "st = mpf.make_custom_style(base_mpl_style='dark_background',marketcolors=m)\n",
    "mpf.plot(daily,type='candle',mav=(2,4),volume=True,no_xgaps=True,\n",
    "         style=st,figratio=(7,5),figscale=1.5,ylabel='OHLC',title='\\nS&P 500')"
   ]
  },
  {
   "cell_type": "code",
   "execution_count": null,
   "metadata": {},
   "outputs": [],
   "source": []
  },
  {
   "cell_type": "code",
   "execution_count": null,
   "metadata": {},
   "outputs": [],
   "source": [
    "len(daily)\n",
    "daily.head(2)"
   ]
  },
  {
   "cell_type": "code",
   "execution_count": null,
   "metadata": {},
   "outputs": [],
   "source": [
    "opens  = daily['Open'].values\n",
    "closes = daily['Close'].values\n",
    "len(opens)\n",
    "len(closes)"
   ]
  },
  {
   "cell_type": "code",
   "execution_count": null,
   "metadata": {},
   "outputs": [],
   "source": [
    "c = mpf._utils._updown_colors('g','r',opens,closes,True)\n",
    "len(c)\n",
    "#c"
   ]
  },
  {
   "cell_type": "code",
   "execution_count": null,
   "metadata": {},
   "outputs": [],
   "source": [
    "\n",
    "\n"
   ]
  },
  {
   "cell_type": "code",
   "execution_count": null,
   "metadata": {},
   "outputs": [],
   "source": []
  },
  {
   "cell_type": "code",
   "execution_count": null,
   "metadata": {},
   "outputs": [],
   "source": [
    "import math\n",
    "math.sin(2)"
   ]
  },
  {
   "cell_type": "code",
   "execution_count": null,
   "metadata": {},
   "outputs": [],
   "source": [
    "#m = mpf.make_marketcolors(up='lime',down='deeppink',ohlc='inherit',edge='inherit',wick='inherit',volume='cyan')\n",
    "#m = mpf.make_marketcolors()\n",
    "#m = mpf.make_marketcolors(up='lightgreen',down='skyblue',wick='i',edge='in',volume='inh')\n",
    "m = mpf.make_marketcolors(up='springgreen',down='deeppink',wick='i',edge='in',volume='inh') # vcdocodp\n",
    "# vcolor_per_codprice=[True|False] default = False\n",
    "#s = mpf.make_custom_style(base_mpf_style='dark',marketcolors=m)\n",
    "#s = mpf.make_custom_style(marketcolors=m)\n",
    "rcp = {'ytick.labelright':True,'ytick.right':True,'ytick.labelleft':False,'ytick.left':False}\n",
    "s = mpf.make_custom_style(base_mpf_style='dark',marketcolors=m,rc=rcp)\n",
    "y1 = [ v*math.sin(v) for v in daily['Volume'].values]\n",
    "y2 = [ v*math.cos(v) for v in daily['Volume'].values]\n",
    "y3 = [ v*(0.00000003*math.cos(v*0.5)) + 3100 for v in daily['Volume'].values]\n",
    "p = [mpf.make_addplot(y1,panel='lower'),\n",
    "     mpf.make_addplot(y2,panel='lower'),\n",
    "     mpf.make_addplot(y3)#,panel='lower')\n",
    "    ]\n",
    "#mpf.plot(daily,type='candle',volume=True,no_xgaps=True,style=s,addplot=p)\n",
    "#mpf.plot(daily,type='candle',volume=True,no_xgaps=True,addplot=p)\n",
    "mpf.plot(daily,type='candle',no_xgaps=True,addplot=p,style=s)\n",
    "#mpf.plot(daily,type='candle',no_xgaps=True,addplot=p,style=s)"
   ]
  },
  {
   "cell_type": "code",
   "execution_count": null,
   "metadata": {},
   "outputs": [],
   "source": [
    "import matplotlib as mpl\n",
    "mpl.style.available"
   ]
  },
  {
   "cell_type": "code",
   "execution_count": null,
   "metadata": {},
   "outputs": [],
   "source": [
    "m = mpf.make_marketcolors(up='springgreen',down='deeppink',wick='i',edge='in',volume='inh') # vcdocodp\n",
    "#m = mpf.make_marketcolors(base_style='classic') # vcdocodp\n",
    "#s = mpf.make_custom_style(base_mplstyle='grayscale')#,marketcolors=m)#,rc=rcp)\n",
    "upcolor='darkslategray'\n",
    "#-upcolor='navy'\n",
    "#m = mpf.make_marketcolors(up=upcolor,down='red',wick='i',edge='in',volume='inh')\n",
    "s = mpf.make_custom_style(base_mpl_style='fivethirtyeight',marketcolors=m,base_mpf_style='darktest')#,rc=rcp)\n",
    "#mpf.plot(daily,type='candle',volume=True,no_xgaps=True,style=s,addplot=p)\n",
    "#mpf.plot(daily,type='candle',volume=True,no_xgaps=True,addplot=p)\n",
    "mpf.plot(daily,type='candle',volume=True,style=s,addplot=p[0:3])"
   ]
  },
  {
   "cell_type": "code",
   "execution_count": null,
   "metadata": {},
   "outputs": [],
   "source": [
    "mpf.plot(daily,type='candle',volume=True,style=s)#,addplot=p[0])"
   ]
  },
  {
   "cell_type": "code",
   "execution_count": null,
   "metadata": {},
   "outputs": [],
   "source": [
    "mpf.plot(daily,type='candle',volume=True,style='mike',figratio=(14,9),figscale=0.9)"
   ]
  },
  {
   "cell_type": "code",
   "execution_count": null,
   "metadata": {},
   "outputs": [],
   "source": [
    "mpf.plot(daily,type='candle',volume=True,style='dark',figratio=(14,9),figscale=0.9)"
   ]
  },
  {
   "cell_type": "code",
   "execution_count": null,
   "metadata": {},
   "outputs": [],
   "source": []
  },
  {
   "cell_type": "code",
   "execution_count": null,
   "metadata": {},
   "outputs": [],
   "source": []
  },
  {
   "cell_type": "code",
   "execution_count": null,
   "metadata": {},
   "outputs": [],
   "source": []
  },
  {
   "cell_type": "code",
   "execution_count": null,
   "metadata": {},
   "outputs": [],
   "source": []
  },
  {
   "cell_type": "code",
   "execution_count": null,
   "metadata": {},
   "outputs": [],
   "source": [
    "import mplfinance._styledata as sd"
   ]
  },
  {
   "cell_type": "code",
   "execution_count": null,
   "metadata": {},
   "outputs": [],
   "source": [
    "type(sd)\n",
    "dir(sd)"
   ]
  },
  {
   "cell_type": "code",
   "execution_count": null,
   "metadata": {},
   "outputs": [],
   "source": [
    "[s for s in dir(sd) if not s.startswith('_')]"
   ]
  },
  {
   "cell_type": "code",
   "execution_count": null,
   "metadata": {},
   "outputs": [],
   "source": [
    "sd.mike\n",
    "type(sd.mike.style)"
   ]
  },
  {
   "cell_type": "code",
   "execution_count": null,
   "metadata": {},
   "outputs": [],
   "source": [
    "mpf.available_styles()"
   ]
  },
  {
   "cell_type": "code",
   "execution_count": null,
   "metadata": {},
   "outputs": [],
   "source": [
    "import importlib"
   ]
  },
  {
   "cell_type": "code",
   "execution_count": null,
   "metadata": {},
   "outputs": [],
   "source": [
    "import mplfinance._styledata as sdefs\n",
    "type(sdefs)\n",
    "dir(sdefs)"
   ]
  },
  {
   "cell_type": "code",
   "execution_count": null,
   "metadata": {
    "scrolled": true
   },
   "outputs": [],
   "source": [
    "s = 'sdefs.classic'\n",
    "classic = importlib.reload(eval(s))"
   ]
  },
  {
   "cell_type": "code",
   "execution_count": null,
   "metadata": {},
   "outputs": [],
   "source": [
    "type(classic)"
   ]
  },
  {
   "cell_type": "code",
   "execution_count": null,
   "metadata": {},
   "outputs": [],
   "source": [
    "classic.style"
   ]
  },
  {
   "cell_type": "code",
   "execution_count": null,
   "metadata": {},
   "outputs": [],
   "source": [
    "s = mpf.make_custom_style(base_mpf_style='classic')\n",
    "s"
   ]
  },
  {
   "cell_type": "code",
   "execution_count": null,
   "metadata": {},
   "outputs": [],
   "source": [
    "for key in classic.style.keys():\n",
    "    print(key,':\\n classic=',classic.style[key],'\\n s......=',s[key],'\\n')"
   ]
  },
  {
   "cell_type": "code",
   "execution_count": null,
   "metadata": {},
   "outputs": [],
   "source": [
    "s == classic.style"
   ]
  },
  {
   "cell_type": "code",
   "execution_count": null,
   "metadata": {},
   "outputs": [],
   "source": [
    "for key in s.keys():\n",
    "    print(key,':\\n classic=',classic.style[key],'\\n s......=',s[key],'\\n')"
   ]
  },
  {
   "cell_type": "code",
   "execution_count": null,
   "metadata": {},
   "outputs": [],
   "source": [
    "s['base_mpf_style']"
   ]
  },
  {
   "cell_type": "code",
   "execution_count": null,
   "metadata": {},
   "outputs": [],
   "source": [
    "classic.style['base_mpf_style']"
   ]
  },
  {
   "cell_type": "code",
   "execution_count": null,
   "metadata": {},
   "outputs": [],
   "source": [
    "m = mpf.make_marketcolors()"
   ]
  },
  {
   "cell_type": "code",
   "execution_count": null,
   "metadata": {},
   "outputs": [],
   "source": [
    "m"
   ]
  },
  {
   "cell_type": "code",
   "execution_count": null,
   "metadata": {},
   "outputs": [],
   "source": [
    "# print('---')\n",
    "# m = mpf.make_marketcolors(base_style='classic',down='limegreen',\n",
    "#                           ohlc='w',volume='k',wick='g')\n",
    "# m\n",
    "print('---')\n",
    "m = mpf.make_marketcolors(base_style='dark',down='limegreen')#, volume='k',wick='g')\n",
    "m"
   ]
  },
  {
   "cell_type": "code",
   "execution_count": null,
   "metadata": {},
   "outputs": [],
   "source": [
    "from mplfinance._styles import _get_mpfstyle\n",
    "style = _get_mpfstyle('classic')\n",
    "style['marketcolors']"
   ]
  },
  {
   "cell_type": "code",
   "execution_count": null,
   "metadata": {},
   "outputs": [],
   "source": [
    "style = _get_mpfstyle('dark')\n",
    "style['marketcolors']"
   ]
  },
  {
   "cell_type": "code",
   "execution_count": null,
   "metadata": {},
   "outputs": [],
   "source": []
  },
  {
   "cell_type": "code",
   "execution_count": null,
   "metadata": {},
   "outputs": [],
   "source": [
    "from mplfinance._styledata import classic"
   ]
  },
  {
   "cell_type": "code",
   "execution_count": null,
   "metadata": {},
   "outputs": [],
   "source": [
    "dir(classic)"
   ]
  },
  {
   "cell_type": "code",
   "execution_count": null,
   "metadata": {},
   "outputs": [],
   "source": [
    "import copy\n",
    "s = copy.deepcopy(classic.style)\n",
    "del s['marketcolors']['wick']\n",
    "#s"
   ]
  },
  {
   "cell_type": "code",
   "execution_count": null,
   "metadata": {},
   "outputs": [],
   "source": []
  },
  {
   "cell_type": "code",
   "execution_count": null,
   "metadata": {},
   "outputs": [],
   "source": []
  },
  {
   "cell_type": "code",
   "execution_count": null,
   "metadata": {},
   "outputs": [],
   "source": []
  },
  {
   "cell_type": "code",
   "execution_count": null,
   "metadata": {},
   "outputs": [],
   "source": []
  },
  {
   "cell_type": "code",
   "execution_count": null,
   "metadata": {},
   "outputs": [],
   "source": [
    "STOP HERE"
   ]
  },
  {
   "cell_type": "code",
   "execution_count": null,
   "metadata": {},
   "outputs": [],
   "source": [
    "intraday = pd.read_csv('../data/SP500_NOV2019_IDay.csv',index_col=0,parse_dates=True)\n",
    "intraday = intraday.drop('Volume',axis=1) # Volume is zero anyway for this intraday data set\n",
    "intraday.index.name = 'Date'\n",
    "intraday.shape\n",
    "intraday.head(3)\n",
    "intraday.tail(3)"
   ]
  },
  {
   "cell_type": "code",
   "execution_count": null,
   "metadata": {},
   "outputs": [],
   "source": [
    "iday = intraday.loc['2019-11-06 15:00':'2019-11-06 16:00',:]\n",
    "mpf.plot(iday,type='candle',mav=(7,12))"
   ]
  },
  {
   "cell_type": "code",
   "execution_count": null,
   "metadata": {},
   "outputs": [],
   "source": [
    "iday = intraday.loc['2019-11-05':'2019-11-06',:]\n",
    "mpf.plot(iday,type='candle')"
   ]
  },
  {
   "cell_type": "code",
   "execution_count": null,
   "metadata": {},
   "outputs": [],
   "source": [
    "mpf.plot(iday,type='candle',no_xgaps=False)"
   ]
  },
  {
   "cell_type": "code",
   "execution_count": null,
   "metadata": {},
   "outputs": [],
   "source": [
    "df = pd.read_csv('../data/yahoofinance-SPY-20080101-20180101.csv',index_col=0,parse_dates=True)\n",
    "df.shape\n",
    "df.head(3)\n",
    "df.tail(3)"
   ]
  },
  {
   "cell_type": "code",
   "execution_count": null,
   "metadata": {
    "scrolled": false
   },
   "outputs": [],
   "source": [
    "mpf.plot(df[700:850],type='bars',volume=True,no_xgaps=True,mav=(20,40),figscale=0.75)"
   ]
  },
  {
   "cell_type": "code",
   "execution_count": null,
   "metadata": {},
   "outputs": [],
   "source": [
    "mpf.plot(df[700:850],type='bars',volume=True,no_xgaps=True,mav=(20,40))"
   ]
  },
  {
   "cell_type": "code",
   "execution_count": null,
   "metadata": {},
   "outputs": [],
   "source": [
    "\n",
    "\n"
   ]
  },
  {
   "cell_type": "code",
   "execution_count": null,
   "metadata": {},
   "outputs": [],
   "source": []
  }
 ],
 "metadata": {
  "kernelspec": {
   "display_name": "Python 3",
   "language": "python",
   "name": "python3"
  },
  "language_info": {
   "codemirror_mode": {
    "name": "ipython",
    "version": 3
   },
   "file_extension": ".py",
   "mimetype": "text/x-python",
   "name": "python",
   "nbconvert_exporter": "python",
   "pygments_lexer": "ipython3",
   "version": "3.7.4"
  }
 },
 "nbformat": 4,
 "nbformat_minor": 2
}
