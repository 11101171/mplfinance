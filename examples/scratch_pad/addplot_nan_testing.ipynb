{
 "cells": [
  {
   "cell_type": "code",
   "execution_count": 1,
   "metadata": {},
   "outputs": [],
   "source": [
    "# This allows multiple outputs from a single jupyter notebook cell:\n",
    "from IPython.core.interactiveshell import InteractiveShell\n",
    "InteractiveShell.ast_node_interactivity = \"all\""
   ]
  },
  {
   "cell_type": "code",
   "execution_count": 2,
   "metadata": {},
   "outputs": [
    {
     "data": {
      "text/plain": [
       "'1.0.3'"
      ]
     },
     "execution_count": 2,
     "metadata": {},
     "output_type": "execute_result"
    }
   ],
   "source": [
    "%matplotlib inline\n",
    "import pandas as pd\n",
    "pd.__version__  # for the record"
   ]
  },
  {
   "cell_type": "markdown",
   "metadata": {},
   "source": [
    "---\n",
    "<a name=\"addplot\"></a>\n",
    "# Adding plots to the basic mplfinance plot()\n",
    "\n",
    "Sometimes you may want to plot additional data within the same figure as the basic OHLC or Candlestick plot.  For example, you may want to add the results of a technical study, or some additional market data.  \n",
    "\n",
    "This is done by passing information into the call to `mplfinance.plot()` using the `addplot` (\"additional plot\") keyword.\n",
    "\n",
    "The `addplot` keyword expects a `dict`.  The dict must contain the key `'data':` whose value is the actual additional data to be plotted.  This additional data may be a `list`, `numpy.ndarray`, `pandas.Series`, or `pandas.DataFrame`.  If it is a DataFrame, then *all* columns in that dataframe will be plotted.  \n",
    "\n",
    "The rest of the `addplot` dict contains various keywords and their values that are used to configure the additional plot in relation to the basic OHLCV plot, as can be seen in the examples below.\n",
    "\n",
    "It is *strongly* recommended that the caller construct the `addplot` dict using the helper function `mplfinance.make_addplot()` (see examples below).  This helper function:\n",
    "- simplifies the syntax for specifying additional plots\n",
    "- ensures that the dict contains default values for all possible configurable keywords\n",
    "- does some basic checking on the keyword values to ensure they are of the correct types.\n",
    "\n",
    "The `addplot` keyword can also accept a `list` of `dict`s, as one possible way of plotting multiple additional data sets on top of the basic OHLCV data.  See specific details in the the examples below."
   ]
  },
  {
   "cell_type": "markdown",
   "metadata": {},
   "source": [
    "---\n",
    "\n",
    "## `addplot` examples:\n",
    "\n",
    "Let's start with an example data set that includes Bollinger Band data, in addition to the basic OHLCV data:"
   ]
  },
  {
   "cell_type": "code",
   "execution_count": 3,
   "metadata": {},
   "outputs": [
    {
     "data": {
      "text/plain": [
       "(252, 9)"
      ]
     },
     "execution_count": 3,
     "metadata": {},
     "output_type": "execute_result"
    },
    {
     "data": {
      "text/html": [
       "<div>\n",
       "<style scoped>\n",
       "    .dataframe tbody tr th:only-of-type {\n",
       "        vertical-align: middle;\n",
       "    }\n",
       "\n",
       "    .dataframe tbody tr th {\n",
       "        vertical-align: top;\n",
       "    }\n",
       "\n",
       "    .dataframe thead th {\n",
       "        text-align: right;\n",
       "    }\n",
       "</style>\n",
       "<table border=\"1\" class=\"dataframe\">\n",
       "  <thead>\n",
       "    <tr style=\"text-align: right;\">\n",
       "      <th></th>\n",
       "      <th>Open</th>\n",
       "      <th>High</th>\n",
       "      <th>Low</th>\n",
       "      <th>Close</th>\n",
       "      <th>Adj Close</th>\n",
       "      <th>Volume</th>\n",
       "      <th>UpperB</th>\n",
       "      <th>LowerB</th>\n",
       "      <th>PercentB</th>\n",
       "    </tr>\n",
       "    <tr>\n",
       "      <th>Date</th>\n",
       "      <th></th>\n",
       "      <th></th>\n",
       "      <th></th>\n",
       "      <th></th>\n",
       "      <th></th>\n",
       "      <th></th>\n",
       "      <th></th>\n",
       "      <th></th>\n",
       "      <th></th>\n",
       "    </tr>\n",
       "  </thead>\n",
       "  <tbody>\n",
       "    <tr>\n",
       "      <th>2011-07-01</th>\n",
       "      <td>132.089996</td>\n",
       "      <td>134.100006</td>\n",
       "      <td>131.779999</td>\n",
       "      <td>133.919998</td>\n",
       "      <td>117.161659</td>\n",
       "      <td>202385700</td>\n",
       "      <td>132.373927</td>\n",
       "      <td>125.316073</td>\n",
       "      <td>1.219057</td>\n",
       "    </tr>\n",
       "    <tr>\n",
       "      <th>2011-07-05</th>\n",
       "      <td>133.779999</td>\n",
       "      <td>134.080002</td>\n",
       "      <td>133.389999</td>\n",
       "      <td>133.809998</td>\n",
       "      <td>117.065437</td>\n",
       "      <td>165936000</td>\n",
       "      <td>133.254297</td>\n",
       "      <td>124.912703</td>\n",
       "      <td>1.066618</td>\n",
       "    </tr>\n",
       "    <tr>\n",
       "      <th>2011-07-06</th>\n",
       "      <td>133.490005</td>\n",
       "      <td>134.139999</td>\n",
       "      <td>133.110001</td>\n",
       "      <td>133.970001</td>\n",
       "      <td>117.205429</td>\n",
       "      <td>143331600</td>\n",
       "      <td>134.040915</td>\n",
       "      <td>124.627085</td>\n",
       "      <td>0.992467</td>\n",
       "    </tr>\n",
       "  </tbody>\n",
       "</table>\n",
       "</div>"
      ],
      "text/plain": [
       "                  Open        High         Low       Close   Adj Close  \\\n",
       "Date                                                                     \n",
       "2011-07-01  132.089996  134.100006  131.779999  133.919998  117.161659   \n",
       "2011-07-05  133.779999  134.080002  133.389999  133.809998  117.065437   \n",
       "2011-07-06  133.490005  134.139999  133.110001  133.970001  117.205429   \n",
       "\n",
       "               Volume      UpperB      LowerB  PercentB  \n",
       "Date                                                     \n",
       "2011-07-01  202385700  132.373927  125.316073  1.219057  \n",
       "2011-07-05  165936000  133.254297  124.912703  1.066618  \n",
       "2011-07-06  143331600  134.040915  124.627085  0.992467  "
      ]
     },
     "execution_count": 3,
     "metadata": {},
     "output_type": "execute_result"
    },
    {
     "data": {
      "text/html": [
       "<div>\n",
       "<style scoped>\n",
       "    .dataframe tbody tr th:only-of-type {\n",
       "        vertical-align: middle;\n",
       "    }\n",
       "\n",
       "    .dataframe tbody tr th {\n",
       "        vertical-align: top;\n",
       "    }\n",
       "\n",
       "    .dataframe thead th {\n",
       "        text-align: right;\n",
       "    }\n",
       "</style>\n",
       "<table border=\"1\" class=\"dataframe\">\n",
       "  <thead>\n",
       "    <tr style=\"text-align: right;\">\n",
       "      <th></th>\n",
       "      <th>Open</th>\n",
       "      <th>High</th>\n",
       "      <th>Low</th>\n",
       "      <th>Close</th>\n",
       "      <th>Adj Close</th>\n",
       "      <th>Volume</th>\n",
       "      <th>UpperB</th>\n",
       "      <th>LowerB</th>\n",
       "      <th>PercentB</th>\n",
       "    </tr>\n",
       "    <tr>\n",
       "      <th>Date</th>\n",
       "      <th></th>\n",
       "      <th></th>\n",
       "      <th></th>\n",
       "      <th></th>\n",
       "      <th></th>\n",
       "      <th></th>\n",
       "      <th></th>\n",
       "      <th></th>\n",
       "      <th></th>\n",
       "    </tr>\n",
       "  </thead>\n",
       "  <tbody>\n",
       "    <tr>\n",
       "      <th>2012-06-27</th>\n",
       "      <td>132.419998</td>\n",
       "      <td>133.429993</td>\n",
       "      <td>131.970001</td>\n",
       "      <td>133.169998</td>\n",
       "      <td>118.980804</td>\n",
       "      <td>108088000</td>\n",
       "      <td>136.447962</td>\n",
       "      <td>128.140042</td>\n",
       "      <td>0.605441</td>\n",
       "    </tr>\n",
       "    <tr>\n",
       "      <th>2012-06-28</th>\n",
       "      <td>132.289993</td>\n",
       "      <td>132.990005</td>\n",
       "      <td>131.279999</td>\n",
       "      <td>132.789993</td>\n",
       "      <td>118.641281</td>\n",
       "      <td>169242100</td>\n",
       "      <td>136.500761</td>\n",
       "      <td>128.219241</td>\n",
       "      <td>0.551922</td>\n",
       "    </tr>\n",
       "    <tr>\n",
       "      <th>2012-06-29</th>\n",
       "      <td>135.199997</td>\n",
       "      <td>136.270004</td>\n",
       "      <td>134.850006</td>\n",
       "      <td>136.100006</td>\n",
       "      <td>121.598610</td>\n",
       "      <td>212250900</td>\n",
       "      <td>136.721010</td>\n",
       "      <td>128.792993</td>\n",
       "      <td>0.921670</td>\n",
       "    </tr>\n",
       "  </tbody>\n",
       "</table>\n",
       "</div>"
      ],
      "text/plain": [
       "                  Open        High         Low       Close   Adj Close  \\\n",
       "Date                                                                     \n",
       "2012-06-27  132.419998  133.429993  131.970001  133.169998  118.980804   \n",
       "2012-06-28  132.289993  132.990005  131.279999  132.789993  118.641281   \n",
       "2012-06-29  135.199997  136.270004  134.850006  136.100006  121.598610   \n",
       "\n",
       "               Volume      UpperB      LowerB  PercentB  \n",
       "Date                                                     \n",
       "2012-06-27  108088000  136.447962  128.140042  0.605441  \n",
       "2012-06-28  169242100  136.500761  128.219241  0.551922  \n",
       "2012-06-29  212250900  136.721010  128.792993  0.921670  "
      ]
     },
     "execution_count": 3,
     "metadata": {},
     "output_type": "execute_result"
    }
   ],
   "source": [
    "df = pd.read_csv('../data/SPY_20110701_20120630_Bollinger.csv',index_col=0,parse_dates=True)\n",
    "#df = df.loc['2012-01-01':,:]\n",
    "df.shape\n",
    "df.head(3)\n",
    "df.tail(3)"
   ]
  },
  {
   "cell_type": "markdown",
   "metadata": {},
   "source": [
    "---\n",
    "\n",
    "#### Using this dataframe, we can of course plot a basic ohlc or candlestick plot:\n",
    "\n"
   ]
  },
  {
   "cell_type": "code",
   "execution_count": 4,
   "metadata": {
    "scrolled": false
   },
   "outputs": [
    {
     "data": {
      "image/png": "[encoded data removed]",
      "text/plain": [
       "<Figure size 748.8x538.2 with 4 Axes>"
      ]
     },
     "metadata": {
      "needs_background": "light"
     },
     "output_type": "display_data"
    }
   ],
   "source": [
    "import mplfinance as mpf\n",
    "s = mpf.make_mpf_style(base_mpf_style='classic',mavcolors=['lime','b','r'])\n",
    "mpf.plot(df.iloc[15:75,:],type='candle',volume=True,figscale=1.3,mav=(7,11,15),style=s)"
   ]
  },
  {
   "cell_type": "code",
   "execution_count": 5,
   "metadata": {},
   "outputs": [
    {
     "ename": "SyntaxError",
     "evalue": "invalid syntax (<ipython-input-5-a6774c8535dd>, line 1)",
     "output_type": "error",
     "traceback": [
      "\u001b[0;36m  File \u001b[0;32m\"<ipython-input-5-a6774c8535dd>\"\u001b[0;36m, line \u001b[0;32m1\u001b[0m\n\u001b[0;31m    STOP HERE\u001b[0m\n\u001b[0m            ^\u001b[0m\n\u001b[0;31mSyntaxError\u001b[0m\u001b[0;31m:\u001b[0m invalid syntax\n"
     ]
    }
   ],
   "source": [
    "STOP HERE"
   ]
  },
  {
   "cell_type": "markdown",
   "metadata": {},
   "source": [
    "---\n",
    "\n",
    "Let's say we want to plot the Lower Bollinger band along with the basic OHLCV plot.  \n",
    "\n",
    "We use `make_addplot()` to create the addplot dict, and pass that into the plot() function:"
   ]
  },
  {
   "cell_type": "code",
   "execution_count": null,
   "metadata": {},
   "outputs": [],
   "source": [
    "kk = 0\n",
    "for jj in range(len(df)):\n",
    "    kk += 1\n",
    "    #if kk%8==0 or kk%9==0 or kk%10 ==0:\n",
    "    if kk%18==0:\n",
    "        df.iloc[jj,:] = float('nan')\n",
    "    if kk == 18: kk = 0"
   ]
  },
  {
   "cell_type": "code",
   "execution_count": null,
   "metadata": {},
   "outputs": [],
   "source": [
    "df.head(23)\n",
    "df.tail(23)"
   ]
  },
  {
   "cell_type": "code",
   "execution_count": null,
   "metadata": {},
   "outputs": [],
   "source": [
    "apdict = mpf.make_addplot(df.iloc[0:50,:]['LowerB'])\n",
    "\n",
    "mpf.plot(df.iloc[0:50,:],type='line',mav=(2,4,6),style='mike')"
   ]
  },
  {
   "cell_type": "markdown",
   "metadata": {},
   "source": [
    "---\n",
    "\n",
    "When creating the `addplot` dict, we can specify that we want a scatter plot:"
   ]
  },
  {
   "cell_type": "code",
   "execution_count": 25,
   "metadata": {},
   "outputs": [
    {
     "data": {
      "image/png": "[encoded data removed]",
      "text/plain": [
       "<Figure size 806.4x579.6 with 2 Axes>"
      ]
     },
     "metadata": {
      "needs_background": "light"
     },
     "output_type": "display_data"
    }
   ],
   "source": [
    "#apd = mpf.make_addplot(df['LowerB'],type='scatter')\n",
    "\n",
    "mpf.plot(df,type='line',figscale=1.4,style='yahoo',mav=(24))"
   ]
  },
  {
   "cell_type": "markdown",
   "metadata": {},
   "source": [
    "---\n",
    "\n",
    "The above example is a trivial use of a scatter plot, where the default line plot makes more sense.  \n",
    "\n",
    "A more helpful use of a scatter plot might be to highlight specific movements in the data.  For example, let's say we want to highlight whenever the \"Percent B\" Bollinger metric drops below zero.  To do this, let's first calculate a series that contains this information:"
   ]
  },
  {
   "cell_type": "code",
   "execution_count": null,
   "metadata": {},
   "outputs": [],
   "source": [
    "def percentB_belowzero(percentB,price):\n",
    "    import numpy as np\n",
    "    signal   = []\n",
    "    previous = -1.0\n",
    "    for date,value in percentB.iteritems():\n",
    "        if value < 0 and previous >= 0:\n",
    "            signal.append(price[date]*0.99)\n",
    "        else:\n",
    "            signal.append(np.nan)\n",
    "        previous = value\n",
    "    return signal"
   ]
  },
  {
   "cell_type": "markdown",
   "metadata": {},
   "source": [
    "---\n",
    "Take a small data set, and calculate a series that shows when the percentB falls below zero:"
   ]
  },
  {
   "cell_type": "code",
   "execution_count": null,
   "metadata": {},
   "outputs": [],
   "source": [
    "tdf = df.loc['05-10-2012':'06-07-2012',]  # Take a smaller data set so it's easier to see the scatter points\n",
    "\n",
    "signal = percentB_belowzero(tdf['PercentB'], tdf['Close'])"
   ]
  },
  {
   "cell_type": "markdown",
   "metadata": {},
   "source": [
    "---\n",
    "\n",
    "Now plot the calculated information as an additional scatter plot on top of the the OHLC data:"
   ]
  },
  {
   "cell_type": "code",
   "execution_count": null,
   "metadata": {},
   "outputs": [],
   "source": [
    "apd = mpf.make_addplot(signal,type='scatter')\n",
    "\n",
    "mpf.plot(tdf,addplot=apd)"
   ]
  },
  {
   "cell_type": "markdown",
   "metadata": {},
   "source": [
    "---\n",
    "\n",
    "We can customize the marker size and shape, to make the scatter markers easier to see:"
   ]
  },
  {
   "cell_type": "code",
   "execution_count": null,
   "metadata": {},
   "outputs": [],
   "source": [
    "apd = mpf.make_addplot(signal,type='scatter',markersize=200,marker='^')\n",
    "\n",
    "mpf.plot(tdf,addplot=apd)"
   ]
  },
  {
   "cell_type": "markdown",
   "metadata": {},
   "source": [
    "---\n",
    "\n",
    "## Plotting multiple additional data sets\n",
    "\n",
    "There are two ways to plot multiple additional data sets.\n",
    "\n",
    "- If the configuration is the same for all additional data sets, simply pass a `DataFrame` for the data.  All columns in the DataFrame will be plotted.\n",
    "\n",
    "- Alternatively you can create multiple `dict`s and pass a `list` of `dict`s to the `addplot` keyword\n"
   ]
  },
  {
   "cell_type": "markdown",
   "metadata": {},
   "source": [
    "---\n",
    "\n",
    "Passing a DataFrame as the addplot data plots all columns in the DataFrame:"
   ]
  },
  {
   "cell_type": "code",
   "execution_count": null,
   "metadata": {},
   "outputs": [],
   "source": [
    "tcdf = df[['LowerB','UpperB']]  # DataFrame with two columns\n",
    "apd  = mpf.make_addplot(tcdf)\n",
    "mpf.plot(df,addplot=apd)"
   ]
  },
  {
   "cell_type": "markdown",
   "metadata": {},
   "source": [
    "---\n",
    "\n",
    "Setting `addplot=` a `list` of `dict`s is another to create multiple additional plots.<br>This method is necessary if the additional plots will have different configurations.  For example:"
   ]
  },
  {
   "cell_type": "markdown",
   "metadata": {},
   "source": [
    "---\n",
    "\n",
    "First prepare the data:"
   ]
  },
  {
   "cell_type": "code",
   "execution_count": null,
   "metadata": {},
   "outputs": [],
   "source": [
    "def percentB_aboveone(percentB,price):\n",
    "    import numpy as np\n",
    "    signal   = []\n",
    "    previous = 2\n",
    "    for date,value in percentB.iteritems():\n",
    "        if value > 1 and previous <= 1:\n",
    "            signal.append(price[date]*1.01)\n",
    "        else:\n",
    "            signal.append(np.nan)\n",
    "        previous = value\n",
    "    return signal"
   ]
  },
  {
   "cell_type": "code",
   "execution_count": null,
   "metadata": {},
   "outputs": [],
   "source": [
    "low_signal  = percentB_belowzero(df['PercentB'], df['Close']) \n",
    "high_signal = percentB_aboveone(df['PercentB'], df['Close'])"
   ]
  },
  {
   "cell_type": "markdown",
   "metadata": {},
   "source": [
    "---\n",
    "\n",
    "Now create the additional plot `dict`s and plot the data: "
   ]
  },
  {
   "cell_type": "code",
   "execution_count": null,
   "metadata": {},
   "outputs": [],
   "source": [
    "apds = [ mpf.make_addplot(tcdf),\n",
    "         mpf.make_addplot(low_signal,type='scatter',markersize=200,marker='^'),\n",
    "         mpf.make_addplot(high_signal,type='scatter',markersize=200,marker='v'),\n",
    "       ]\n",
    "\n",
    "mpf.plot(df,addplot=apds,figscale=1.25,volume=True)"
   ]
  },
  {
   "cell_type": "markdown",
   "metadata": {},
   "source": [
    "---\n",
    "\n",
    "## Plotting additional data on panel \"B\"\n",
    "\n",
    "---\n",
    "We refer to the Main, Upper panel as Panel \"A\" and the Lower panel as Panel \"B\".\n",
    "\n",
    "It is possible to plot the additional data on Panel \"B\" (where volume is usually plotted).\n",
    "In this example, as is typical in Bollinger Band Analysis, we plot `PercentB` in panel B:"
   ]
  },
  {
   "cell_type": "code",
   "execution_count": null,
   "metadata": {},
   "outputs": [],
   "source": [
    "apds = [ mpf.make_addplot(tcdf),\n",
    "         mpf.make_addplot(low_signal,type='scatter',markersize=200,marker='^'),\n",
    "         mpf.make_addplot(high_signal,type='scatter',markersize=200,marker='v'),\n",
    "         mpf.make_addplot((df['PercentB']),panel='B',color='g')\n",
    "       ]\n",
    "\n",
    "mpf.plot(df,addplot=apds,figscale=1.3,volume=True)"
   ]
  },
  {
   "cell_type": "markdown",
   "metadata": {},
   "source": [
    "---\n",
    "\n",
    "## Plotting additional data with a *secondary y-axis*\n",
    "\n",
    "---\n",
    "\n",
    "- Notice in the above plot, in the lower panel with the \"Volume\" bars, we see that \"Percent B\" line ***has its own y-axis on the right side.***\n",
    "\n",
    "\n",
    "- `mpf.make_addplot()` has a keyword argument called `secondary_y` which can have **three** possible values: **`True`**, **`False`**, and **`'auto'`**.\n",
    "  - The default value is `'auto'` which means if you don't specify `secondary_y`, or if you specify `secondary_y='auto'`, then `mpf.plot()` will attempt to decide whether a secondary y-axis is needed, by comparing the order of magnitude of the addplot data with the order of magnitude of the data that is already on the plot.\n",
    "  - If **`mpf.plot()`** gets it wrong, you can always override by setting **`secondary_y=True`** or **`secondary_y=False`**.\n",
    "  \n",
    "---\n",
    "\n",
    "- Below we see that `make_addplot()` also allows setting the `linestyle` for each additional plot.\n",
    "\n",
    "\n",
    "- **Notice also** that we pass an alternative \"mplfinance `style`\" to demonstrate that **if the `style` specifies that the *primary y-axis* should be on the right, then `mpf.plot()` knows to put any `secondary_y` axes on the left.**"
   ]
  },
  {
   "cell_type": "code",
   "execution_count": null,
   "metadata": {},
   "outputs": [],
   "source": [
    "apds = [ mpf.make_addplot(tcdf,linestyle='dashdot'),\n",
    "         mpf.make_addplot(low_signal,type='scatter',markersize=200,marker='^'),\n",
    "         mpf.make_addplot(high_signal,type='scatter',markersize=200,marker='v'),\n",
    "         mpf.make_addplot((df['PercentB']),panel='B',color='g',linestyle='dotted')\n",
    "       ]\n",
    "\n",
    "mpf.plot(df,addplot=apds,figscale=1.5,volume=True,style='starsandstripes')"
   ]
  },
  {
   "cell_type": "markdown",
   "metadata": {},
   "source": [
    "---\n",
    "---\n",
    "\n",
    "* **Below** we demonstrate that the main (upper) panel can also have a `secondary_y` axis:"
   ]
  },
  {
   "cell_type": "code",
   "execution_count": null,
   "metadata": {},
   "outputs": [],
   "source": [
    "import math\n",
    "# Change order of magnitude and range of low_signal, so that it will require a `secondary_y`:\n",
    "# note: this calculation has no financial meaning whatsoever; we are just generating some \n",
    "#       data to modify the order of magnitude and range, so as to be able to demonstrate \n",
    "#       secondary_y on the main panel.\n",
    "new_low_signal = [x*20.*math.sin(x) for x in low_signal] "
   ]
  },
  {
   "cell_type": "code",
   "execution_count": null,
   "metadata": {},
   "outputs": [],
   "source": [
    "apds = [mpf.make_addplot(tcdf,linestyle='dashdot'),\n",
    "        mpf.make_addplot(new_low_signal,type='scatter',markersize=200,marker='^',secondary_y='auto'),\n",
    "        mpf.make_addplot(high_signal,type='scatter',markersize=200,marker='v',color='orange'),\n",
    "        mpf.make_addplot((df['PercentB']),panel='B',color='g',linestyle='dotted')\n",
    "       ]\n",
    "\n",
    "mpf.plot(df,addplot=apds,figscale=1.5,volume=True,style='sas')"
   ]
  },
  {
   "cell_type": "code",
   "execution_count": null,
   "metadata": {},
   "outputs": [],
   "source": [
    "# The same plot, with a style that puts the primary y-axis on the left:\n",
    "mpf.plot(df,addplot=apds,figscale=1.5,volume=True,style='default')"
   ]
  }
 ],
 "metadata": {
  "kernelspec": {
   "display_name": "Python 3",
   "language": "python",
   "name": "python3"
  },
  "language_info": {
   "codemirror_mode": {
    "name": "ipython",
    "version": 3
   },
   "file_extension": ".py",
   "mimetype": "text/x-python",
   "name": "python",
   "nbconvert_exporter": "python",
   "pygments_lexer": "ipython3",
   "version": "3.7.4"
  }
 },
 "nbformat": 4,
 "nbformat_minor": 2
}
