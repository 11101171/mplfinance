{
 "cells": [
  {
   "cell_type": "code",
   "execution_count": 1,
   "metadata": {},
   "outputs": [],
   "source": [
    "# This allows multiple outputs from a single jupyter notebook cell:\n",
    "from IPython.core.interactiveshell import InteractiveShell\n",
    "InteractiveShell.ast_node_interactivity = \"all\"\n",
    "import pandas as pd\n",
    "import mplfinance as mpf"
   ]
  },
  {
   "cell_type": "code",
   "execution_count": 2,
   "metadata": {},
   "outputs": [
    {
     "data": {
      "text/plain": [
       "'/home/dino/code/mplfinance/src/mplfinance/__init__.py'"
      ]
     },
     "execution_count": 2,
     "metadata": {},
     "output_type": "execute_result"
    }
   ],
   "source": [
    "mpf.__file__"
   ]
  },
  {
   "cell_type": "code",
   "execution_count": 3,
   "metadata": {},
   "outputs": [
    {
     "data": {
      "text/plain": [
       "(20, 5)"
      ]
     },
     "execution_count": 3,
     "metadata": {},
     "output_type": "execute_result"
    },
    {
     "data": {
      "text/html": [
       "<div>\n",
       "<style scoped>\n",
       "    .dataframe tbody tr th:only-of-type {\n",
       "        vertical-align: middle;\n",
       "    }\n",
       "\n",
       "    .dataframe tbody tr th {\n",
       "        vertical-align: top;\n",
       "    }\n",
       "\n",
       "    .dataframe thead th {\n",
       "        text-align: right;\n",
       "    }\n",
       "</style>\n",
       "<table border=\"1\" class=\"dataframe\">\n",
       "  <thead>\n",
       "    <tr style=\"text-align: right;\">\n",
       "      <th></th>\n",
       "      <th>Open</th>\n",
       "      <th>High</th>\n",
       "      <th>Low</th>\n",
       "      <th>Close</th>\n",
       "      <th>Volume</th>\n",
       "    </tr>\n",
       "    <tr>\n",
       "      <th>Date</th>\n",
       "      <th></th>\n",
       "      <th></th>\n",
       "      <th></th>\n",
       "      <th></th>\n",
       "      <th></th>\n",
       "    </tr>\n",
       "  </thead>\n",
       "  <tbody>\n",
       "    <tr>\n",
       "      <th>2019-11-01</th>\n",
       "      <td>3050.72</td>\n",
       "      <td>3066.95</td>\n",
       "      <td>3050.72</td>\n",
       "      <td>3066.91</td>\n",
       "      <td>510301237</td>\n",
       "    </tr>\n",
       "    <tr>\n",
       "      <th>2019-11-04</th>\n",
       "      <td>3078.96</td>\n",
       "      <td>3085.20</td>\n",
       "      <td>3074.87</td>\n",
       "      <td>3078.27</td>\n",
       "      <td>524848878</td>\n",
       "    </tr>\n",
       "  </tbody>\n",
       "</table>\n",
       "</div>"
      ],
      "text/plain": [
       "               Open     High      Low    Close     Volume\n",
       "Date                                                     \n",
       "2019-11-01  3050.72  3066.95  3050.72  3066.91  510301237\n",
       "2019-11-04  3078.96  3085.20  3074.87  3078.27  524848878"
      ]
     },
     "execution_count": 3,
     "metadata": {},
     "output_type": "execute_result"
    },
    {
     "data": {
      "text/html": [
       "<div>\n",
       "<style scoped>\n",
       "    .dataframe tbody tr th:only-of-type {\n",
       "        vertical-align: middle;\n",
       "    }\n",
       "\n",
       "    .dataframe tbody tr th {\n",
       "        vertical-align: top;\n",
       "    }\n",
       "\n",
       "    .dataframe thead th {\n",
       "        text-align: right;\n",
       "    }\n",
       "</style>\n",
       "<table border=\"1\" class=\"dataframe\">\n",
       "  <thead>\n",
       "    <tr style=\"text-align: right;\">\n",
       "      <th></th>\n",
       "      <th>Open</th>\n",
       "      <th>High</th>\n",
       "      <th>Low</th>\n",
       "      <th>Close</th>\n",
       "      <th>Volume</th>\n",
       "    </tr>\n",
       "    <tr>\n",
       "      <th>Date</th>\n",
       "      <th></th>\n",
       "      <th></th>\n",
       "      <th></th>\n",
       "      <th></th>\n",
       "      <th></th>\n",
       "    </tr>\n",
       "  </thead>\n",
       "  <tbody>\n",
       "    <tr>\n",
       "      <th>2019-11-27</th>\n",
       "      <td>3145.49</td>\n",
       "      <td>3154.26</td>\n",
       "      <td>3143.41</td>\n",
       "      <td>3153.63</td>\n",
       "      <td>421853938</td>\n",
       "    </tr>\n",
       "    <tr>\n",
       "      <th>2019-11-29</th>\n",
       "      <td>3147.18</td>\n",
       "      <td>3150.30</td>\n",
       "      <td>3139.34</td>\n",
       "      <td>3140.98</td>\n",
       "      <td>286602291</td>\n",
       "    </tr>\n",
       "  </tbody>\n",
       "</table>\n",
       "</div>"
      ],
      "text/plain": [
       "               Open     High      Low    Close     Volume\n",
       "Date                                                     \n",
       "2019-11-27  3145.49  3154.26  3143.41  3153.63  421853938\n",
       "2019-11-29  3147.18  3150.30  3139.34  3140.98  286602291"
      ]
     },
     "execution_count": 3,
     "metadata": {},
     "output_type": "execute_result"
    }
   ],
   "source": [
    "daily = pd.read_csv('../data/SP500_NOV2019_Hist.csv',index_col=0,parse_dates=True)\n",
    "daily.index.name = 'Date'\n",
    "daily.shape\n",
    "daily.head(2)\n",
    "daily.tail(2)"
   ]
  },
  {
   "cell_type": "code",
   "execution_count": 4,
   "metadata": {},
   "outputs": [
    {
     "data": {
      "image/png": "[encoded data removed]",
      "text/plain": [
       "<Figure size 712.8x550.8 with 1 Axes>"
      ]
     },
     "metadata": {},
     "output_type": "display_data"
    }
   ],
   "source": [
    "mpf.plot(daily)"
   ]
  },
  {
   "cell_type": "code",
   "execution_count": 5,
   "metadata": {},
   "outputs": [],
   "source": [
    "import matplotlib as mpl\n",
    "import matplotlib.pyplot as plt"
   ]
  },
  {
   "cell_type": "code",
   "execution_count": 6,
   "metadata": {},
   "outputs": [
    {
     "data": {
      "text/plain": [
       "True"
      ]
     },
     "execution_count": 6,
     "metadata": {},
     "output_type": "execute_result"
    }
   ],
   "source": [
    "plt.rcParams == mpl.rcParams"
   ]
  },
  {
   "cell_type": "code",
   "execution_count": 7,
   "metadata": {},
   "outputs": [],
   "source": [
    "def rcParams_to_df(rcp):\n",
    "    keys = []\n",
    "    vals = []\n",
    "    for item in rcp:\n",
    "        keys.append(item)\n",
    "        vals.append(rcp[item])\n",
    "    df = pd.DataFrame(vals,index=pd.Index(keys,name='rcParams Key'))    \n",
    "    df.columns = ['Value']\n",
    "    return df"
   ]
  },
  {
   "cell_type": "code",
   "execution_count": 8,
   "metadata": {},
   "outputs": [],
   "source": [
    "df = rcParams_to_df(mpl.rcParams)"
   ]
  },
  {
   "cell_type": "code",
   "execution_count": 9,
   "metadata": {},
   "outputs": [
    {
     "data": {
      "text/html": [
       "<div>\n",
       "<style scoped>\n",
       "    .dataframe tbody tr th:only-of-type {\n",
       "        vertical-align: middle;\n",
       "    }\n",
       "\n",
       "    .dataframe tbody tr th {\n",
       "        vertical-align: top;\n",
       "    }\n",
       "\n",
       "    .dataframe thead th {\n",
       "        text-align: right;\n",
       "    }\n",
       "</style>\n",
       "<table border=\"1\" class=\"dataframe\">\n",
       "  <thead>\n",
       "    <tr style=\"text-align: right;\">\n",
       "      <th></th>\n",
       "      <th>Value</th>\n",
       "    </tr>\n",
       "    <tr>\n",
       "      <th>rcParams Key</th>\n",
       "      <th></th>\n",
       "    </tr>\n",
       "  </thead>\n",
       "  <tbody>\n",
       "    <tr>\n",
       "      <th>_internal.classic_mode</th>\n",
       "      <td>False</td>\n",
       "    </tr>\n",
       "    <tr>\n",
       "      <th>agg.path.chunksize</th>\n",
       "      <td>0</td>\n",
       "    </tr>\n",
       "    <tr>\n",
       "      <th>animation.avconv_args</th>\n",
       "      <td>[]</td>\n",
       "    </tr>\n",
       "    <tr>\n",
       "      <th>animation.avconv_path</th>\n",
       "      <td>avconv</td>\n",
       "    </tr>\n",
       "    <tr>\n",
       "      <th>animation.bitrate</th>\n",
       "      <td>-1</td>\n",
       "    </tr>\n",
       "  </tbody>\n",
       "</table>\n",
       "</div>"
      ],
      "text/plain": [
       "                         Value\n",
       "rcParams Key                  \n",
       "_internal.classic_mode   False\n",
       "agg.path.chunksize           0\n",
       "animation.avconv_args       []\n",
       "animation.avconv_path   avconv\n",
       "animation.bitrate           -1"
      ]
     },
     "execution_count": 9,
     "metadata": {},
     "output_type": "execute_result"
    }
   ],
   "source": [
    "df.head()"
   ]
  },
  {
   "cell_type": "code",
   "execution_count": 11,
   "metadata": {},
   "outputs": [
    {
     "data": {
      "text/html": [
       "<div>\n",
       "<style scoped>\n",
       "    .dataframe tbody tr th:only-of-type {\n",
       "        vertical-align: middle;\n",
       "    }\n",
       "\n",
       "    .dataframe tbody tr th {\n",
       "        vertical-align: top;\n",
       "    }\n",
       "\n",
       "    .dataframe thead th {\n",
       "        text-align: right;\n",
       "    }\n",
       "</style>\n",
       "<table border=\"1\" class=\"dataframe\">\n",
       "  <thead>\n",
       "    <tr style=\"text-align: right;\">\n",
       "      <th></th>\n",
       "      <th>Value</th>\n",
       "    </tr>\n",
       "    <tr>\n",
       "      <th>rcParams Key</th>\n",
       "      <th></th>\n",
       "    </tr>\n",
       "  </thead>\n",
       "  <tbody>\n",
       "    <tr>\n",
       "      <th>axes.prop_cycle</th>\n",
       "      <td>({'color': '#1f77b4'}, {'color': '#ff7f0e'}, {...</td>\n",
       "    </tr>\n",
       "  </tbody>\n",
       "</table>\n",
       "</div>"
      ],
      "text/plain": [
       "                                                             Value\n",
       "rcParams Key                                                      \n",
       "axes.prop_cycle  ({'color': '#1f77b4'}, {'color': '#ff7f0e'}, {..."
      ]
     },
     "execution_count": 11,
     "metadata": {},
     "output_type": "execute_result"
    },
    {
     "data": {
      "text/html": [
       "<div>\n",
       "<style scoped>\n",
       "    .dataframe tbody tr th:only-of-type {\n",
       "        vertical-align: middle;\n",
       "    }\n",
       "\n",
       "    .dataframe tbody tr th {\n",
       "        vertical-align: top;\n",
       "    }\n",
       "\n",
       "    .dataframe thead th {\n",
       "        text-align: right;\n",
       "    }\n",
       "</style>\n",
       "<table border=\"1\" class=\"dataframe\">\n",
       "  <thead>\n",
       "    <tr style=\"text-align: right;\">\n",
       "      <th></th>\n",
       "      <th>Value</th>\n",
       "    </tr>\n",
       "    <tr>\n",
       "      <th>rcParams Key</th>\n",
       "      <th></th>\n",
       "    </tr>\n",
       "  </thead>\n",
       "  <tbody>\n",
       "    <tr>\n",
       "      <th>axes.grid</th>\n",
       "      <td>False</td>\n",
       "    </tr>\n",
       "    <tr>\n",
       "      <th>axes.grid.axis</th>\n",
       "      <td>both</td>\n",
       "    </tr>\n",
       "    <tr>\n",
       "      <th>axes.grid.which</th>\n",
       "      <td>major</td>\n",
       "    </tr>\n",
       "    <tr>\n",
       "      <th>axes3d.grid</th>\n",
       "      <td>True</td>\n",
       "    </tr>\n",
       "    <tr>\n",
       "      <th>grid.alpha</th>\n",
       "      <td>1</td>\n",
       "    </tr>\n",
       "    <tr>\n",
       "      <th>grid.color</th>\n",
       "      <td>#b0b0b0</td>\n",
       "    </tr>\n",
       "    <tr>\n",
       "      <th>grid.linestyle</th>\n",
       "      <td>-</td>\n",
       "    </tr>\n",
       "    <tr>\n",
       "      <th>grid.linewidth</th>\n",
       "      <td>0.8</td>\n",
       "    </tr>\n",
       "    <tr>\n",
       "      <th>keymap.grid</th>\n",
       "      <td>[g]</td>\n",
       "    </tr>\n",
       "    <tr>\n",
       "      <th>keymap.grid_minor</th>\n",
       "      <td>[G]</td>\n",
       "    </tr>\n",
       "    <tr>\n",
       "      <th>polaraxes.grid</th>\n",
       "      <td>True</td>\n",
       "    </tr>\n",
       "  </tbody>\n",
       "</table>\n",
       "</div>"
      ],
      "text/plain": [
       "                     Value\n",
       "rcParams Key              \n",
       "axes.grid            False\n",
       "axes.grid.axis        both\n",
       "axes.grid.which      major\n",
       "axes3d.grid           True\n",
       "grid.alpha               1\n",
       "grid.color         #b0b0b0\n",
       "grid.linestyle           -\n",
       "grid.linewidth         0.8\n",
       "keymap.grid            [g]\n",
       "keymap.grid_minor      [G]\n",
       "polaraxes.grid        True"
      ]
     },
     "execution_count": 11,
     "metadata": {},
     "output_type": "execute_result"
    }
   ],
   "source": [
    "df[df.index.str.contains('cyc')]\n",
    "#df[df.index.str.contains('color')]\n",
    "df[df.index.str.contains('grid')]"
   ]
  },
  {
   "cell_type": "code",
   "execution_count": 10,
   "metadata": {},
   "outputs": [
    {
     "data": {
      "text/html": [
       "<div>\n",
       "<style scoped>\n",
       "    .dataframe tbody tr th:only-of-type {\n",
       "        vertical-align: middle;\n",
       "    }\n",
       "\n",
       "    .dataframe tbody tr th {\n",
       "        vertical-align: top;\n",
       "    }\n",
       "\n",
       "    .dataframe thead th {\n",
       "        text-align: right;\n",
       "    }\n",
       "</style>\n",
       "<table border=\"1\" class=\"dataframe\">\n",
       "  <thead>\n",
       "    <tr style=\"text-align: right;\">\n",
       "      <th></th>\n",
       "      <th>Value</th>\n",
       "    </tr>\n",
       "    <tr>\n",
       "      <th>rcParams Key</th>\n",
       "      <th></th>\n",
       "    </tr>\n",
       "  </thead>\n",
       "  <tbody>\n",
       "    <tr>\n",
       "      <th>axes.prop_cycle</th>\n",
       "      <td>({'color': '#1f77b4'}, {'color': '#ff7f0e'}, {...</td>\n",
       "    </tr>\n",
       "  </tbody>\n",
       "</table>\n",
       "</div>"
      ],
      "text/plain": [
       "                                                             Value\n",
       "rcParams Key                                                      \n",
       "axes.prop_cycle  ({'color': '#1f77b4'}, {'color': '#ff7f0e'}, {..."
      ]
     },
     "execution_count": 10,
     "metadata": {},
     "output_type": "execute_result"
    }
   ],
   "source": [
    "df[df.index.str.contains('axes.prop')]"
   ]
  },
  {
   "cell_type": "code",
   "execution_count": 11,
   "metadata": {},
   "outputs": [
    {
     "data": {
      "text/html": [
       "<div>\n",
       "<style scoped>\n",
       "    .dataframe tbody tr th:only-of-type {\n",
       "        vertical-align: middle;\n",
       "    }\n",
       "\n",
       "    .dataframe tbody tr th {\n",
       "        vertical-align: top;\n",
       "    }\n",
       "\n",
       "    .dataframe thead th {\n",
       "        text-align: right;\n",
       "    }\n",
       "</style>\n",
       "<table border=\"1\" class=\"dataframe\">\n",
       "  <thead>\n",
       "    <tr style=\"text-align: right;\">\n",
       "      <th></th>\n",
       "      <th>Value</th>\n",
       "    </tr>\n",
       "    <tr>\n",
       "      <th>rcParams Key</th>\n",
       "      <th></th>\n",
       "    </tr>\n",
       "  </thead>\n",
       "  <tbody>\n",
       "    <tr>\n",
       "      <th>axes.grid</th>\n",
       "      <td>False</td>\n",
       "    </tr>\n",
       "    <tr>\n",
       "      <th>axes.grid.axis</th>\n",
       "      <td>both</td>\n",
       "    </tr>\n",
       "    <tr>\n",
       "      <th>axes.grid.which</th>\n",
       "      <td>major</td>\n",
       "    </tr>\n",
       "    <tr>\n",
       "      <th>axes3d.grid</th>\n",
       "      <td>True</td>\n",
       "    </tr>\n",
       "    <tr>\n",
       "      <th>grid.alpha</th>\n",
       "      <td>1</td>\n",
       "    </tr>\n",
       "    <tr>\n",
       "      <th>grid.color</th>\n",
       "      <td>#b0b0b0</td>\n",
       "    </tr>\n",
       "    <tr>\n",
       "      <th>grid.linestyle</th>\n",
       "      <td>-</td>\n",
       "    </tr>\n",
       "    <tr>\n",
       "      <th>grid.linewidth</th>\n",
       "      <td>0.8</td>\n",
       "    </tr>\n",
       "    <tr>\n",
       "      <th>keymap.grid</th>\n",
       "      <td>[g]</td>\n",
       "    </tr>\n",
       "    <tr>\n",
       "      <th>keymap.grid_minor</th>\n",
       "      <td>[G]</td>\n",
       "    </tr>\n",
       "    <tr>\n",
       "      <th>polaraxes.grid</th>\n",
       "      <td>True</td>\n",
       "    </tr>\n",
       "  </tbody>\n",
       "</table>\n",
       "</div>"
      ],
      "text/plain": [
       "                     Value\n",
       "rcParams Key              \n",
       "axes.grid            False\n",
       "axes.grid.axis        both\n",
       "axes.grid.which      major\n",
       "axes3d.grid           True\n",
       "grid.alpha               1\n",
       "grid.color         #b0b0b0\n",
       "grid.linestyle           -\n",
       "grid.linewidth         0.8\n",
       "keymap.grid            [g]\n",
       "keymap.grid_minor      [G]\n",
       "polaraxes.grid        True"
      ]
     },
     "execution_count": 11,
     "metadata": {},
     "output_type": "execute_result"
    }
   ],
   "source": [
    "df[df.index.str.contains('grid')]"
   ]
  },
  {
   "cell_type": "code",
   "execution_count": 12,
   "metadata": {},
   "outputs": [
    {
     "data": {
      "text/plain": [
       "['#1f77b4',\n",
       " '#ff7f0e',\n",
       " '#2ca02c',\n",
       " '#d62728',\n",
       " '#9467bd',\n",
       " '#8c564b',\n",
       " '#e377c2',\n",
       " '#7f7f7f',\n",
       " '#bcbd22',\n",
       " '#17becf']"
      ]
     },
     "execution_count": 12,
     "metadata": {},
     "output_type": "execute_result"
    }
   ],
   "source": [
    "colors = [item['color'] for item in mpl.rcParams['axes.prop_cycle']]\n",
    "colors"
   ]
  },
  {
   "cell_type": "code",
   "execution_count": 13,
   "metadata": {},
   "outputs": [
    {
     "data": {
      "text/html": [
       "<div>\n",
       "<style scoped>\n",
       "    .dataframe tbody tr th:only-of-type {\n",
       "        vertical-align: middle;\n",
       "    }\n",
       "\n",
       "    .dataframe tbody tr th {\n",
       "        vertical-align: top;\n",
       "    }\n",
       "\n",
       "    .dataframe thead th {\n",
       "        text-align: right;\n",
       "    }\n",
       "</style>\n",
       "<table border=\"1\" class=\"dataframe\">\n",
       "  <thead>\n",
       "    <tr style=\"text-align: right;\">\n",
       "      <th></th>\n",
       "      <th>Value</th>\n",
       "    </tr>\n",
       "    <tr>\n",
       "      <th>rcParams Key</th>\n",
       "      <th></th>\n",
       "    </tr>\n",
       "  </thead>\n",
       "  <tbody>\n",
       "    <tr>\n",
       "      <th>axes.edgecolor</th>\n",
       "      <td>black</td>\n",
       "    </tr>\n",
       "    <tr>\n",
       "      <th>axes.facecolor</th>\n",
       "      <td>white</td>\n",
       "    </tr>\n",
       "    <tr>\n",
       "      <th>axes.labelcolor</th>\n",
       "      <td>black</td>\n",
       "    </tr>\n",
       "    <tr>\n",
       "      <th>boxplot.boxprops.color</th>\n",
       "      <td>black</td>\n",
       "    </tr>\n",
       "    <tr>\n",
       "      <th>boxplot.capprops.color</th>\n",
       "      <td>black</td>\n",
       "    </tr>\n",
       "    <tr>\n",
       "      <th>boxplot.flierprops.color</th>\n",
       "      <td>black</td>\n",
       "    </tr>\n",
       "    <tr>\n",
       "      <th>boxplot.flierprops.markeredgecolor</th>\n",
       "      <td>black</td>\n",
       "    </tr>\n",
       "    <tr>\n",
       "      <th>boxplot.flierprops.markerfacecolor</th>\n",
       "      <td>none</td>\n",
       "    </tr>\n",
       "    <tr>\n",
       "      <th>boxplot.meanprops.color</th>\n",
       "      <td>C2</td>\n",
       "    </tr>\n",
       "    <tr>\n",
       "      <th>boxplot.meanprops.markeredgecolor</th>\n",
       "      <td>C2</td>\n",
       "    </tr>\n",
       "    <tr>\n",
       "      <th>boxplot.meanprops.markerfacecolor</th>\n",
       "      <td>C2</td>\n",
       "    </tr>\n",
       "    <tr>\n",
       "      <th>boxplot.medianprops.color</th>\n",
       "      <td>C1</td>\n",
       "    </tr>\n",
       "    <tr>\n",
       "      <th>boxplot.whiskerprops.color</th>\n",
       "      <td>black</td>\n",
       "    </tr>\n",
       "    <tr>\n",
       "      <th>figure.edgecolor</th>\n",
       "      <td>(1, 1, 1, 0)</td>\n",
       "    </tr>\n",
       "    <tr>\n",
       "      <th>figure.facecolor</th>\n",
       "      <td>(1, 1, 1, 0)</td>\n",
       "    </tr>\n",
       "    <tr>\n",
       "      <th>grid.color</th>\n",
       "      <td>#b0b0b0</td>\n",
       "    </tr>\n",
       "    <tr>\n",
       "      <th>hatch.color</th>\n",
       "      <td>black</td>\n",
       "    </tr>\n",
       "    <tr>\n",
       "      <th>legend.edgecolor</th>\n",
       "      <td>0.8</td>\n",
       "    </tr>\n",
       "    <tr>\n",
       "      <th>legend.facecolor</th>\n",
       "      <td>inherit</td>\n",
       "    </tr>\n",
       "    <tr>\n",
       "      <th>lines.color</th>\n",
       "      <td>C0</td>\n",
       "    </tr>\n",
       "    <tr>\n",
       "      <th>lines.markeredgecolor</th>\n",
       "      <td>auto</td>\n",
       "    </tr>\n",
       "    <tr>\n",
       "      <th>lines.markerfacecolor</th>\n",
       "      <td>auto</td>\n",
       "    </tr>\n",
       "    <tr>\n",
       "      <th>patch.edgecolor</th>\n",
       "      <td>black</td>\n",
       "    </tr>\n",
       "    <tr>\n",
       "      <th>patch.facecolor</th>\n",
       "      <td>C0</td>\n",
       "    </tr>\n",
       "    <tr>\n",
       "      <th>patch.force_edgecolor</th>\n",
       "      <td>False</td>\n",
       "    </tr>\n",
       "    <tr>\n",
       "      <th>pdf.inheritcolor</th>\n",
       "      <td>False</td>\n",
       "    </tr>\n",
       "    <tr>\n",
       "      <th>savefig.edgecolor</th>\n",
       "      <td>white</td>\n",
       "    </tr>\n",
       "    <tr>\n",
       "      <th>savefig.facecolor</th>\n",
       "      <td>white</td>\n",
       "    </tr>\n",
       "    <tr>\n",
       "      <th>text.color</th>\n",
       "      <td>black</td>\n",
       "    </tr>\n",
       "    <tr>\n",
       "      <th>xtick.color</th>\n",
       "      <td>black</td>\n",
       "    </tr>\n",
       "    <tr>\n",
       "      <th>ytick.color</th>\n",
       "      <td>black</td>\n",
       "    </tr>\n",
       "  </tbody>\n",
       "</table>\n",
       "</div>"
      ],
      "text/plain": [
       "                                           Value\n",
       "rcParams Key                                    \n",
       "axes.edgecolor                             black\n",
       "axes.facecolor                             white\n",
       "axes.labelcolor                            black\n",
       "boxplot.boxprops.color                     black\n",
       "boxplot.capprops.color                     black\n",
       "boxplot.flierprops.color                   black\n",
       "boxplot.flierprops.markeredgecolor         black\n",
       "boxplot.flierprops.markerfacecolor          none\n",
       "boxplot.meanprops.color                       C2\n",
       "boxplot.meanprops.markeredgecolor             C2\n",
       "boxplot.meanprops.markerfacecolor             C2\n",
       "boxplot.medianprops.color                     C1\n",
       "boxplot.whiskerprops.color                 black\n",
       "figure.edgecolor                    (1, 1, 1, 0)\n",
       "figure.facecolor                    (1, 1, 1, 0)\n",
       "grid.color                               #b0b0b0\n",
       "hatch.color                                black\n",
       "legend.edgecolor                             0.8\n",
       "legend.facecolor                         inherit\n",
       "lines.color                                   C0\n",
       "lines.markeredgecolor                       auto\n",
       "lines.markerfacecolor                       auto\n",
       "patch.edgecolor                            black\n",
       "patch.facecolor                               C0\n",
       "patch.force_edgecolor                      False\n",
       "pdf.inheritcolor                           False\n",
       "savefig.edgecolor                          white\n",
       "savefig.facecolor                          white\n",
       "text.color                                 black\n",
       "xtick.color                                black\n",
       "ytick.color                                black"
      ]
     },
     "execution_count": 13,
     "metadata": {},
     "output_type": "execute_result"
    }
   ],
   "source": [
    "df[df.index.str.contains('color')]"
   ]
  },
  {
   "cell_type": "code",
   "execution_count": 12,
   "metadata": {},
   "outputs": [],
   "source": [
    "df1 = rcParams_to_df(mpl.rcParams)"
   ]
  },
  {
   "cell_type": "code",
   "execution_count": 20,
   "metadata": {},
   "outputs": [],
   "source": [
    "plt.style.use('seaborn-darkgrid')"
   ]
  },
  {
   "cell_type": "code",
   "execution_count": 21,
   "metadata": {},
   "outputs": [],
   "source": [
    "df2 = rcParams_to_df(mpl.rcParams)"
   ]
  },
  {
   "cell_type": "code",
   "execution_count": 23,
   "metadata": {},
   "outputs": [
    {
     "name": "stdout",
     "output_type": "stream",
     "text": [
      "axes.grid True\n",
      "axes.grid.axis both\n",
      "axes.grid.which major\n",
      "axes3d.grid True\n",
      "grid.alpha 1.0\n",
      "grid.color white\n",
      "grid.linestyle -\n",
      "grid.linewidth 0.8\n",
      "keymap.grid ['g']\n",
      "keymap.grid_minor ['G']\n",
      "polaraxes.grid True\n"
     ]
    }
   ],
   "source": [
    "for item in mpl.rcParams:\n",
    "    if 'grid' in item:\n",
    "        print(item,mpl.rcParams[item])"
   ]
  },
  {
   "cell_type": "code",
   "execution_count": 29,
   "metadata": {},
   "outputs": [
    {
     "data": {
      "text/plain": [
       "str"
      ]
     },
     "execution_count": 29,
     "metadata": {},
     "output_type": "execute_result"
    }
   ],
   "source": [
    "type(mpl.rcParams['grid.linestyle'])"
   ]
  },
  {
   "cell_type": "code",
   "execution_count": 15,
   "metadata": {},
   "outputs": [],
   "source": [
    "df1.columns = ['Val 1']\n",
    "df2.columns = ['Val 2']\n",
    "df = pd.concat([df1,df2],axis=1)"
   ]
  },
  {
   "cell_type": "code",
   "execution_count": 16,
   "metadata": {},
   "outputs": [
    {
     "data": {
      "text/html": [
       "<div>\n",
       "<style scoped>\n",
       "    .dataframe tbody tr th:only-of-type {\n",
       "        vertical-align: middle;\n",
       "    }\n",
       "\n",
       "    .dataframe tbody tr th {\n",
       "        vertical-align: top;\n",
       "    }\n",
       "\n",
       "    .dataframe thead th {\n",
       "        text-align: right;\n",
       "    }\n",
       "</style>\n",
       "<table border=\"1\" class=\"dataframe\">\n",
       "  <thead>\n",
       "    <tr style=\"text-align: right;\">\n",
       "      <th></th>\n",
       "      <th>Val 1</th>\n",
       "      <th>Val 2</th>\n",
       "    </tr>\n",
       "    <tr>\n",
       "      <th>rcParams Key</th>\n",
       "      <th></th>\n",
       "      <th></th>\n",
       "    </tr>\n",
       "  </thead>\n",
       "  <tbody>\n",
       "    <tr>\n",
       "      <th>_internal.classic_mode</th>\n",
       "      <td>False</td>\n",
       "      <td>False</td>\n",
       "    </tr>\n",
       "    <tr>\n",
       "      <th>agg.path.chunksize</th>\n",
       "      <td>0</td>\n",
       "      <td>0</td>\n",
       "    </tr>\n",
       "    <tr>\n",
       "      <th>animation.avconv_args</th>\n",
       "      <td>[]</td>\n",
       "      <td>[]</td>\n",
       "    </tr>\n",
       "    <tr>\n",
       "      <th>animation.avconv_path</th>\n",
       "      <td>avconv</td>\n",
       "      <td>avconv</td>\n",
       "    </tr>\n",
       "    <tr>\n",
       "      <th>animation.bitrate</th>\n",
       "      <td>-1</td>\n",
       "      <td>-1</td>\n",
       "    </tr>\n",
       "  </tbody>\n",
       "</table>\n",
       "</div>"
      ],
      "text/plain": [
       "                         Val 1   Val 2\n",
       "rcParams Key                          \n",
       "_internal.classic_mode   False   False\n",
       "agg.path.chunksize           0       0\n",
       "animation.avconv_args       []      []\n",
       "animation.avconv_path   avconv  avconv\n",
       "animation.bitrate           -1      -1"
      ]
     },
     "execution_count": 16,
     "metadata": {},
     "output_type": "execute_result"
    }
   ],
   "source": [
    "df.head()"
   ]
  },
  {
   "cell_type": "code",
   "execution_count": 17,
   "metadata": {},
   "outputs": [
    {
     "data": {
      "text/html": [
       "<div>\n",
       "<style scoped>\n",
       "    .dataframe tbody tr th:only-of-type {\n",
       "        vertical-align: middle;\n",
       "    }\n",
       "\n",
       "    .dataframe tbody tr th {\n",
       "        vertical-align: top;\n",
       "    }\n",
       "\n",
       "    .dataframe thead th {\n",
       "        text-align: right;\n",
       "    }\n",
       "</style>\n",
       "<table border=\"1\" class=\"dataframe\">\n",
       "  <thead>\n",
       "    <tr style=\"text-align: right;\">\n",
       "      <th></th>\n",
       "      <th>Val 1</th>\n",
       "      <th>Val 2</th>\n",
       "    </tr>\n",
       "    <tr>\n",
       "      <th>rcParams Key</th>\n",
       "      <th></th>\n",
       "      <th></th>\n",
       "    </tr>\n",
       "  </thead>\n",
       "  <tbody>\n",
       "    <tr>\n",
       "      <th>axes.axisbelow</th>\n",
       "      <td>line</td>\n",
       "      <td>True</td>\n",
       "    </tr>\n",
       "    <tr>\n",
       "      <th>axes.edgecolor</th>\n",
       "      <td>black</td>\n",
       "      <td>white</td>\n",
       "    </tr>\n",
       "    <tr>\n",
       "      <th>axes.facecolor</th>\n",
       "      <td>white</td>\n",
       "      <td>#EAEAF2</td>\n",
       "    </tr>\n",
       "    <tr>\n",
       "      <th>axes.grid</th>\n",
       "      <td>False</td>\n",
       "      <td>True</td>\n",
       "    </tr>\n",
       "    <tr>\n",
       "      <th>axes.labelcolor</th>\n",
       "      <td>black</td>\n",
       "      <td>.15</td>\n",
       "    </tr>\n",
       "    <tr>\n",
       "      <th>axes.linewidth</th>\n",
       "      <td>0.8</td>\n",
       "      <td>0</td>\n",
       "    </tr>\n",
       "    <tr>\n",
       "      <th>backend.qt4</th>\n",
       "      <td>None</td>\n",
       "      <td>None</td>\n",
       "    </tr>\n",
       "    <tr>\n",
       "      <th>backend.qt5</th>\n",
       "      <td>None</td>\n",
       "      <td>None</td>\n",
       "    </tr>\n",
       "    <tr>\n",
       "      <th>boxplot.bootstrap</th>\n",
       "      <td>None</td>\n",
       "      <td>None</td>\n",
       "    </tr>\n",
       "    <tr>\n",
       "      <th>figure.facecolor</th>\n",
       "      <td>(1, 1, 1, 0)</td>\n",
       "      <td>white</td>\n",
       "    </tr>\n",
       "    <tr>\n",
       "      <th>font.sans-serif</th>\n",
       "      <td>[DejaVu Sans, Bitstream Vera Sans, Computer Mo...</td>\n",
       "      <td>[Arial, Liberation Sans, DejaVu Sans, Bitstrea...</td>\n",
       "    </tr>\n",
       "    <tr>\n",
       "      <th>grid.color</th>\n",
       "      <td>#b0b0b0</td>\n",
       "      <td>white</td>\n",
       "    </tr>\n",
       "    <tr>\n",
       "      <th>image.cmap</th>\n",
       "      <td>viridis</td>\n",
       "      <td>Greys</td>\n",
       "    </tr>\n",
       "    <tr>\n",
       "      <th>legend.frameon</th>\n",
       "      <td>True</td>\n",
       "      <td>False</td>\n",
       "    </tr>\n",
       "    <tr>\n",
       "      <th>legend.title_fontsize</th>\n",
       "      <td>None</td>\n",
       "      <td>None</td>\n",
       "    </tr>\n",
       "    <tr>\n",
       "      <th>lines.solid_capstyle</th>\n",
       "      <td>projecting</td>\n",
       "      <td>round</td>\n",
       "    </tr>\n",
       "    <tr>\n",
       "      <th>path.sketch</th>\n",
       "      <td>None</td>\n",
       "      <td>None</td>\n",
       "    </tr>\n",
       "    <tr>\n",
       "      <th>savefig.bbox</th>\n",
       "      <td>None</td>\n",
       "      <td>None</td>\n",
       "    </tr>\n",
       "    <tr>\n",
       "      <th>svg.hashsalt</th>\n",
       "      <td>None</td>\n",
       "      <td>None</td>\n",
       "    </tr>\n",
       "    <tr>\n",
       "      <th>text.color</th>\n",
       "      <td>black</td>\n",
       "      <td>.15</td>\n",
       "    </tr>\n",
       "    <tr>\n",
       "      <th>xtick.color</th>\n",
       "      <td>black</td>\n",
       "      <td>.15</td>\n",
       "    </tr>\n",
       "    <tr>\n",
       "      <th>xtick.major.size</th>\n",
       "      <td>3.5</td>\n",
       "      <td>0</td>\n",
       "    </tr>\n",
       "    <tr>\n",
       "      <th>xtick.minor.size</th>\n",
       "      <td>2</td>\n",
       "      <td>0</td>\n",
       "    </tr>\n",
       "    <tr>\n",
       "      <th>ytick.color</th>\n",
       "      <td>black</td>\n",
       "      <td>.15</td>\n",
       "    </tr>\n",
       "    <tr>\n",
       "      <th>ytick.major.size</th>\n",
       "      <td>3.5</td>\n",
       "      <td>0</td>\n",
       "    </tr>\n",
       "    <tr>\n",
       "      <th>ytick.minor.size</th>\n",
       "      <td>2</td>\n",
       "      <td>0</td>\n",
       "    </tr>\n",
       "  </tbody>\n",
       "</table>\n",
       "</div>"
      ],
      "text/plain": [
       "                                                                   Val 1  \\\n",
       "rcParams Key                                                               \n",
       "axes.axisbelow                                                      line   \n",
       "axes.edgecolor                                                     black   \n",
       "axes.facecolor                                                     white   \n",
       "axes.grid                                                          False   \n",
       "axes.labelcolor                                                    black   \n",
       "axes.linewidth                                                       0.8   \n",
       "backend.qt4                                                         None   \n",
       "backend.qt5                                                         None   \n",
       "boxplot.bootstrap                                                   None   \n",
       "figure.facecolor                                            (1, 1, 1, 0)   \n",
       "font.sans-serif        [DejaVu Sans, Bitstream Vera Sans, Computer Mo...   \n",
       "grid.color                                                       #b0b0b0   \n",
       "image.cmap                                                       viridis   \n",
       "legend.frameon                                                      True   \n",
       "legend.title_fontsize                                               None   \n",
       "lines.solid_capstyle                                          projecting   \n",
       "path.sketch                                                         None   \n",
       "savefig.bbox                                                        None   \n",
       "svg.hashsalt                                                        None   \n",
       "text.color                                                         black   \n",
       "xtick.color                                                        black   \n",
       "xtick.major.size                                                     3.5   \n",
       "xtick.minor.size                                                       2   \n",
       "ytick.color                                                        black   \n",
       "ytick.major.size                                                     3.5   \n",
       "ytick.minor.size                                                       2   \n",
       "\n",
       "                                                                   Val 2  \n",
       "rcParams Key                                                              \n",
       "axes.axisbelow                                                      True  \n",
       "axes.edgecolor                                                     white  \n",
       "axes.facecolor                                                   #EAEAF2  \n",
       "axes.grid                                                           True  \n",
       "axes.labelcolor                                                      .15  \n",
       "axes.linewidth                                                         0  \n",
       "backend.qt4                                                         None  \n",
       "backend.qt5                                                         None  \n",
       "boxplot.bootstrap                                                   None  \n",
       "figure.facecolor                                                   white  \n",
       "font.sans-serif        [Arial, Liberation Sans, DejaVu Sans, Bitstrea...  \n",
       "grid.color                                                         white  \n",
       "image.cmap                                                         Greys  \n",
       "legend.frameon                                                     False  \n",
       "legend.title_fontsize                                               None  \n",
       "lines.solid_capstyle                                               round  \n",
       "path.sketch                                                         None  \n",
       "savefig.bbox                                                        None  \n",
       "svg.hashsalt                                                        None  \n",
       "text.color                                                           .15  \n",
       "xtick.color                                                          .15  \n",
       "xtick.major.size                                                       0  \n",
       "xtick.minor.size                                                       0  \n",
       "ytick.color                                                          .15  \n",
       "ytick.major.size                                                       0  \n",
       "ytick.minor.size                                                       0  "
      ]
     },
     "execution_count": 17,
     "metadata": {},
     "output_type": "execute_result"
    }
   ],
   "source": [
    "ddf = df[ df['Val 1'] != df['Val 2'] ]\n",
    "ddf"
   ]
  },
  {
   "cell_type": "code",
   "execution_count": 20,
   "metadata": {},
   "outputs": [
    {
     "data": {
      "text/plain": [
       "rcParams Key\n",
       "axes.axisbelow                                                        True\n",
       "axes.edgecolor                                                       white\n",
       "axes.facecolor                                                     #EAEAF2\n",
       "axes.grid                                                             True\n",
       "axes.labelcolor                                                        .15\n",
       "axes.linewidth                                                           0\n",
       "backend.qt4                                                           None\n",
       "backend.qt5                                                           None\n",
       "boxplot.bootstrap                                                     None\n",
       "figure.facecolor                                                     white\n",
       "font.sans-serif          [Arial, Liberation Sans, DejaVu Sans, Bitstrea...\n",
       "grid.color                                                           white\n",
       "image.cmap                                                           Greys\n",
       "legend.frameon                                                       False\n",
       "legend.title_fontsize                                                 None\n",
       "lines.solid_capstyle                                                 round\n",
       "path.sketch                                                           None\n",
       "savefig.bbox                                                          None\n",
       "svg.hashsalt                                                          None\n",
       "text.color                                                             .15\n",
       "xtick.color                                                            .15\n",
       "xtick.major.size                                                         0\n",
       "xtick.minor.size                                                         0\n",
       "ytick.color                                                            .15\n",
       "ytick.major.size                                                         0\n",
       "ytick.minor.size                                                         0\n",
       "Name: Val 2, dtype: object"
      ]
     },
     "execution_count": 20,
     "metadata": {},
     "output_type": "execute_result"
    }
   ],
   "source": [
    "ddf['Val 2']"
   ]
  },
  {
   "cell_type": "code",
   "execution_count": 18,
   "metadata": {},
   "outputs": [
    {
     "data": {
      "text/html": [
       "<div>\n",
       "<style scoped>\n",
       "    .dataframe tbody tr th:only-of-type {\n",
       "        vertical-align: middle;\n",
       "    }\n",
       "\n",
       "    .dataframe tbody tr th {\n",
       "        vertical-align: top;\n",
       "    }\n",
       "\n",
       "    .dataframe thead th {\n",
       "        text-align: right;\n",
       "    }\n",
       "</style>\n",
       "<table border=\"1\" class=\"dataframe\">\n",
       "  <thead>\n",
       "    <tr style=\"text-align: right;\">\n",
       "      <th></th>\n",
       "      <th>Val 1</th>\n",
       "      <th>Val 2</th>\n",
       "    </tr>\n",
       "    <tr>\n",
       "      <th>rcParams Key</th>\n",
       "      <th></th>\n",
       "      <th></th>\n",
       "    </tr>\n",
       "  </thead>\n",
       "  <tbody>\n",
       "    <tr>\n",
       "      <th>axes.grid</th>\n",
       "      <td>False</td>\n",
       "      <td>True</td>\n",
       "    </tr>\n",
       "    <tr>\n",
       "      <th>grid.color</th>\n",
       "      <td>#b0b0b0</td>\n",
       "      <td>white</td>\n",
       "    </tr>\n",
       "  </tbody>\n",
       "</table>\n",
       "</div>"
      ],
      "text/plain": [
       "                Val 1  Val 2\n",
       "rcParams Key                \n",
       "axes.grid       False   True\n",
       "grid.color    #b0b0b0  white"
      ]
     },
     "execution_count": 18,
     "metadata": {},
     "output_type": "execute_result"
    }
   ],
   "source": [
    "ddf[ ddf.index.str.contains('grid') ]"
   ]
  },
  {
   "cell_type": "code",
   "execution_count": 22,
   "metadata": {},
   "outputs": [
    {
     "data": {
      "text/html": [
       "<div>\n",
       "<style scoped>\n",
       "    .dataframe tbody tr th:only-of-type {\n",
       "        vertical-align: middle;\n",
       "    }\n",
       "\n",
       "    .dataframe tbody tr th {\n",
       "        vertical-align: top;\n",
       "    }\n",
       "\n",
       "    .dataframe thead th {\n",
       "        text-align: right;\n",
       "    }\n",
       "</style>\n",
       "<table border=\"1\" class=\"dataframe\">\n",
       "  <thead>\n",
       "    <tr style=\"text-align: right;\">\n",
       "      <th></th>\n",
       "      <th>Val 1</th>\n",
       "      <th>Val 2</th>\n",
       "    </tr>\n",
       "    <tr>\n",
       "      <th>rcParams Key</th>\n",
       "      <th></th>\n",
       "      <th></th>\n",
       "    </tr>\n",
       "  </thead>\n",
       "  <tbody>\n",
       "    <tr>\n",
       "      <th>axes.grid</th>\n",
       "      <td>False</td>\n",
       "      <td>True</td>\n",
       "    </tr>\n",
       "    <tr>\n",
       "      <th>axes.grid.axis</th>\n",
       "      <td>both</td>\n",
       "      <td>both</td>\n",
       "    </tr>\n",
       "    <tr>\n",
       "      <th>axes.grid.which</th>\n",
       "      <td>major</td>\n",
       "      <td>major</td>\n",
       "    </tr>\n",
       "    <tr>\n",
       "      <th>axes3d.grid</th>\n",
       "      <td>True</td>\n",
       "      <td>True</td>\n",
       "    </tr>\n",
       "    <tr>\n",
       "      <th>grid.alpha</th>\n",
       "      <td>1</td>\n",
       "      <td>1</td>\n",
       "    </tr>\n",
       "    <tr>\n",
       "      <th>grid.color</th>\n",
       "      <td>#b0b0b0</td>\n",
       "      <td>white</td>\n",
       "    </tr>\n",
       "    <tr>\n",
       "      <th>grid.linestyle</th>\n",
       "      <td>-</td>\n",
       "      <td>-</td>\n",
       "    </tr>\n",
       "    <tr>\n",
       "      <th>grid.linewidth</th>\n",
       "      <td>0.8</td>\n",
       "      <td>0.8</td>\n",
       "    </tr>\n",
       "    <tr>\n",
       "      <th>keymap.grid</th>\n",
       "      <td>[g]</td>\n",
       "      <td>[g]</td>\n",
       "    </tr>\n",
       "    <tr>\n",
       "      <th>keymap.grid_minor</th>\n",
       "      <td>[G]</td>\n",
       "      <td>[G]</td>\n",
       "    </tr>\n",
       "    <tr>\n",
       "      <th>polaraxes.grid</th>\n",
       "      <td>True</td>\n",
       "      <td>True</td>\n",
       "    </tr>\n",
       "  </tbody>\n",
       "</table>\n",
       "</div>"
      ],
      "text/plain": [
       "                     Val 1  Val 2\n",
       "rcParams Key                     \n",
       "axes.grid            False   True\n",
       "axes.grid.axis        both   both\n",
       "axes.grid.which      major  major\n",
       "axes3d.grid           True   True\n",
       "grid.alpha               1      1\n",
       "grid.color         #b0b0b0  white\n",
       "grid.linestyle           -      -\n",
       "grid.linewidth         0.8    0.8\n",
       "keymap.grid            [g]    [g]\n",
       "keymap.grid_minor      [G]    [G]\n",
       "polaraxes.grid        True   True"
      ]
     },
     "execution_count": 22,
     "metadata": {},
     "output_type": "execute_result"
    }
   ],
   "source": [
    "df[df.index.str.contains('grid')]"
   ]
  },
  {
   "cell_type": "code",
   "execution_count": 23,
   "metadata": {},
   "outputs": [
    {
     "ename": "SyntaxError",
     "evalue": "keyword can't be an expression (<ipython-input-23-523741e6d5d3>, line 1)",
     "output_type": "error",
     "traceback": [
      "\u001b[0;36m  File \u001b[0;32m\"<ipython-input-23-523741e6d5d3>\"\u001b[0;36m, line \u001b[0;32m1\u001b[0m\n\u001b[0;31m    temp = dict(axes.edgecolor='black',axes.axisbelow=True)\u001b[0m\n\u001b[0m               ^\u001b[0m\n\u001b[0;31mSyntaxError\u001b[0m\u001b[0;31m:\u001b[0m keyword can't be an expression\n"
     ]
    }
   ],
   "source": [
    "temp = dict(axes.edgecolor='black',axes.axisbelow=True)"
   ]
  },
  {
   "cell_type": "code",
   "execution_count": null,
   "metadata": {},
   "outputs": [],
   "source": [
    "temp = { 'axes.edgecolor':'black','axes.axisbelow':True }\n",
    "temp"
   ]
  },
  {
   "cell_type": "code",
   "execution_count": 1,
   "metadata": {},
   "outputs": [],
   "source": [
    "mavcolors=['turquoise','gold','magenta']"
   ]
  },
  {
   "cell_type": "code",
   "execution_count": 2,
   "metadata": {},
   "outputs": [],
   "source": [
    "from matplotlib import colors as mcolors"
   ]
  },
  {
   "cell_type": "code",
   "execution_count": 6,
   "metadata": {},
   "outputs": [
    {
     "name": "stdout",
     "output_type": "stream",
     "text": [
      "#40e0d0 (0.25098039215686274, 0.8784313725490196, 0.8156862745098039, 1.0) turquoise\n",
      "#ffd700 (1.0, 0.8431372549019608, 0.0, 1.0) gold\n",
      "#ff00ff (1.0, 0.0, 1.0, 1.0) magenta\n"
     ]
    }
   ],
   "source": [
    "for c in mavcolors:\n",
    "    rgba = mcolors.to_rgba(c,1.0)\n",
    "    h = mcolors.to_hex(c)\n",
    "    print(h,rgba,c)"
   ]
  },
  {
   "cell_type": "code",
   "execution_count": 7,
   "metadata": {},
   "outputs": [
    {
     "name": "stdout",
     "output_type": "stream",
     "text": [
      "#40e0d0 (0.25098039215686274, 0.8784313725490196, 0.8156862745098039, 1.0) turquoise\n",
      "#ffd700 (1.0, 0.8431372549019608, 0.0, 1.0) gold\n",
      "#ff00ff (1.0, 0.0, 1.0, 1.0) magenta\n"
     ]
    }
   ],
   "source": [
    "for c in mavcolors:\n",
    "    rgba = mcolors.to_rgba(c,1.0)\n",
    "    h = mcolors.to_hex(rgba)\n",
    "    print(h,rgba,c)"
   ]
  },
  {
   "cell_type": "code",
   "execution_count": 9,
   "metadata": {},
   "outputs": [
    {
     "data": {
      "text/plain": [
       "['#1f77b4',\n",
       " '#ff7f0e',\n",
       " '#2ca02c',\n",
       " '#d62728',\n",
       " '#9467bd',\n",
       " '#8c564b',\n",
       " '#e377c2',\n",
       " '#7f7f7f',\n",
       " '#bcbd22',\n",
       " '#17becf']"
      ]
     },
     "execution_count": 9,
     "metadata": {},
     "output_type": "execute_result"
    }
   ],
   "source": [
    "import matplotlib as mpl\n",
    "colors = [item['color'] for item in mpl.rcParams['axes.prop_cycle']]\n",
    "colors"
   ]
  },
  {
   "cell_type": "code",
   "execution_count": 11,
   "metadata": {},
   "outputs": [
    {
     "data": {
      "text/plain": [
       "cycler.Cycler"
      ]
     },
     "execution_count": 11,
     "metadata": {},
     "output_type": "execute_result"
    }
   ],
   "source": [
    "type(mpl.rcParams['axes.prop_cycle'])"
   ]
  },
  {
   "cell_type": "code",
   "execution_count": 12,
   "metadata": {},
   "outputs": [],
   "source": [
    "from cycler import cycler"
   ]
  },
  {
   "cell_type": "code",
   "execution_count": 13,
   "metadata": {},
   "outputs": [],
   "source": [
    "ccs = ['#40e0d0','#ffd700','#ff00ff']\n",
    "ccyc = cycler(color=ccs)"
   ]
  },
  {
   "cell_type": "code",
   "execution_count": 14,
   "metadata": {},
   "outputs": [
    {
     "data": {
      "text/plain": [
       "cycler.Cycler"
      ]
     },
     "execution_count": 14,
     "metadata": {},
     "output_type": "execute_result"
    }
   ],
   "source": [
    "type(ccyc)"
   ]
  },
  {
   "cell_type": "code",
   "execution_count": null,
   "metadata": {},
   "outputs": [],
   "source": [
    "['#40e0d0','#ffd700','#ff00ff',\n",
    " '#1f77b4','#ff7f0e','#2ca02c',\n",
    " '#d62728','#9467bd','#8c564b',\n",
    " '#e377c2','#7f7f7f','#bcbd22',\n",
    " '#17becf']"
   ]
  }
 ],
 "metadata": {
  "kernelspec": {
   "display_name": "Python 3",
   "language": "python",
   "name": "python3"
  },
  "language_info": {
   "codemirror_mode": {
    "name": "ipython",
    "version": 3
   },
   "file_extension": ".py",
   "mimetype": "text/x-python",
   "name": "python",
   "nbconvert_exporter": "python",
   "pygments_lexer": "ipython3",
   "version": "3.7.3"
  }
 },
 "nbformat": 4,
 "nbformat_minor": 2
}
