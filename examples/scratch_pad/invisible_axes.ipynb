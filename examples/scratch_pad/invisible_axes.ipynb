{
 "cells": [
  {
   "cell_type": "code",
   "execution_count": 2,
   "metadata": {},
   "outputs": [],
   "source": [
    "# This allows multiple outputs from a single jupyter notebook cell:\n",
    "from IPython.core.interactiveshell import InteractiveShell\n",
    "InteractiveShell.ast_node_interactivity = \"all\""
   ]
  },
  {
   "cell_type": "code",
   "execution_count": 3,
   "metadata": {},
   "outputs": [
    {
     "data": {
      "text/plain": [
       "'1.0.1'"
      ]
     },
     "execution_count": 3,
     "metadata": {},
     "output_type": "execute_result"
    }
   ],
   "source": [
    "import pandas as pd\n",
    "pd.__version__  # for the record\n",
    "%matplotlib inline"
   ]
  },
  {
   "cell_type": "code",
   "execution_count": 9,
   "metadata": {},
   "outputs": [
    {
     "data": {
      "text/plain": [
       "(20, 5)"
      ]
     },
     "execution_count": 9,
     "metadata": {},
     "output_type": "execute_result"
    },
    {
     "data": {
      "text/html": [
       "<div>\n",
       "<style scoped>\n",
       "    .dataframe tbody tr th:only-of-type {\n",
       "        vertical-align: middle;\n",
       "    }\n",
       "\n",
       "    .dataframe tbody tr th {\n",
       "        vertical-align: top;\n",
       "    }\n",
       "\n",
       "    .dataframe thead th {\n",
       "        text-align: right;\n",
       "    }\n",
       "</style>\n",
       "<table border=\"1\" class=\"dataframe\">\n",
       "  <thead>\n",
       "    <tr style=\"text-align: right;\">\n",
       "      <th></th>\n",
       "      <th>Open</th>\n",
       "      <th>High</th>\n",
       "      <th>Low</th>\n",
       "      <th>Close</th>\n",
       "      <th>Volume</th>\n",
       "    </tr>\n",
       "    <tr>\n",
       "      <th>Date</th>\n",
       "      <th></th>\n",
       "      <th></th>\n",
       "      <th></th>\n",
       "      <th></th>\n",
       "      <th></th>\n",
       "    </tr>\n",
       "  </thead>\n",
       "  <tbody>\n",
       "    <tr>\n",
       "      <th>2019-11-01</th>\n",
       "      <td>3050.72</td>\n",
       "      <td>3066.95</td>\n",
       "      <td>3050.72</td>\n",
       "      <td>3066.91</td>\n",
       "      <td>510301237</td>\n",
       "    </tr>\n",
       "    <tr>\n",
       "      <th>2019-11-04</th>\n",
       "      <td>3078.96</td>\n",
       "      <td>3085.20</td>\n",
       "      <td>3074.87</td>\n",
       "      <td>3078.27</td>\n",
       "      <td>524848878</td>\n",
       "    </tr>\n",
       "    <tr>\n",
       "      <th>2019-11-05</th>\n",
       "      <td>3080.80</td>\n",
       "      <td>3083.95</td>\n",
       "      <td>3072.15</td>\n",
       "      <td>3074.62</td>\n",
       "      <td>585634570</td>\n",
       "    </tr>\n",
       "  </tbody>\n",
       "</table>\n",
       "</div>"
      ],
      "text/plain": [
       "               Open     High      Low    Close     Volume\n",
       "Date                                                     \n",
       "2019-11-01  3050.72  3066.95  3050.72  3066.91  510301237\n",
       "2019-11-04  3078.96  3085.20  3074.87  3078.27  524848878\n",
       "2019-11-05  3080.80  3083.95  3072.15  3074.62  585634570"
      ]
     },
     "execution_count": 9,
     "metadata": {},
     "output_type": "execute_result"
    },
    {
     "data": {
      "text/html": [
       "<div>\n",
       "<style scoped>\n",
       "    .dataframe tbody tr th:only-of-type {\n",
       "        vertical-align: middle;\n",
       "    }\n",
       "\n",
       "    .dataframe tbody tr th {\n",
       "        vertical-align: top;\n",
       "    }\n",
       "\n",
       "    .dataframe thead th {\n",
       "        text-align: right;\n",
       "    }\n",
       "</style>\n",
       "<table border=\"1\" class=\"dataframe\">\n",
       "  <thead>\n",
       "    <tr style=\"text-align: right;\">\n",
       "      <th></th>\n",
       "      <th>Open</th>\n",
       "      <th>High</th>\n",
       "      <th>Low</th>\n",
       "      <th>Close</th>\n",
       "      <th>Volume</th>\n",
       "    </tr>\n",
       "    <tr>\n",
       "      <th>Date</th>\n",
       "      <th></th>\n",
       "      <th></th>\n",
       "      <th></th>\n",
       "      <th></th>\n",
       "      <th></th>\n",
       "    </tr>\n",
       "  </thead>\n",
       "  <tbody>\n",
       "    <tr>\n",
       "      <th>2019-11-26</th>\n",
       "      <td>3134.85</td>\n",
       "      <td>3142.69</td>\n",
       "      <td>3131.00</td>\n",
       "      <td>3140.52</td>\n",
       "      <td>986041660</td>\n",
       "    </tr>\n",
       "    <tr>\n",
       "      <th>2019-11-27</th>\n",
       "      <td>3145.49</td>\n",
       "      <td>3154.26</td>\n",
       "      <td>3143.41</td>\n",
       "      <td>3153.63</td>\n",
       "      <td>421853938</td>\n",
       "    </tr>\n",
       "    <tr>\n",
       "      <th>2019-11-29</th>\n",
       "      <td>3147.18</td>\n",
       "      <td>3150.30</td>\n",
       "      <td>3139.34</td>\n",
       "      <td>3140.98</td>\n",
       "      <td>286602291</td>\n",
       "    </tr>\n",
       "  </tbody>\n",
       "</table>\n",
       "</div>"
      ],
      "text/plain": [
       "               Open     High      Low    Close     Volume\n",
       "Date                                                     \n",
       "2019-11-26  3134.85  3142.69  3131.00  3140.52  986041660\n",
       "2019-11-27  3145.49  3154.26  3143.41  3153.63  421853938\n",
       "2019-11-29  3147.18  3150.30  3139.34  3140.98  286602291"
      ]
     },
     "execution_count": 9,
     "metadata": {},
     "output_type": "execute_result"
    }
   ],
   "source": [
    "daily = pd.read_csv('../data/SP500_NOV2019_Hist.csv',index_col=0,parse_dates=True)\n",
    "daily.index.name = 'Date'\n",
    "daily.shape\n",
    "daily.head(3)\n",
    "daily.tail(3)"
   ]
  },
  {
   "cell_type": "code",
   "execution_count": 5,
   "metadata": {},
   "outputs": [],
   "source": [
    "import mplfinance as mpf"
   ]
  },
  {
   "cell_type": "code",
   "execution_count": 26,
   "metadata": {},
   "outputs": [],
   "source": [
    "# intraday = pd.read_csv('../data/SP500_NOV2019_IDay.csv',index_col=0,parse_dates=True)\n",
    "# intraday = intraday.drop('Volume',axis=1) # Volume is zero anyway for this intraday data set\n",
    "# intraday.index.name = 'Date'\n",
    "# intraday.shape\n",
    "# intraday.head(3)\n",
    "# intraday.tail(3)"
   ]
  },
  {
   "cell_type": "code",
   "execution_count": 27,
   "metadata": {},
   "outputs": [],
   "source": [
    "#iday = intraday.loc['2019-11-06 15:00':'2019-11-06 16:00',:]\n",
    "#mpf.plot(iday,type='candle',mav=(7,12))"
   ]
  },
  {
   "cell_type": "code",
   "execution_count": 35,
   "metadata": {},
   "outputs": [
    {
     "data": {
      "image/png": "[encoded data removed]",
      "text/plain": [
       "<Figure size 864x621 with 4 Axes>"
      ]
     },
     "metadata": {
      "needs_background": "light"
     },
     "output_type": "display_data"
    }
   ],
   "source": [
    "import mplfinance as mpf\n",
    "# Load data file.\n",
    "# Plot candlestick.\n",
    "# Add volume.\n",
    "# Add moving averages: 3,6,9.\n",
    "# Save graph to *.png.\n",
    "rcp = {'axes.spines.bottom':False,\n",
    "       'axes.spines.left':False,\n",
    "       'axes.spines.right':False,\n",
    "       'axes.spines.top':False,\n",
    "      }\n",
    "s = mpf.make_mpf_style(base_mpf_style='yahoo',gridcolor='black')#,facecolor='k')#,rc=rcp)\n",
    "\n",
    "mpf.plot(daily, type='candle', style=s,\n",
    "        title='',\n",
    "        ylabel='',\n",
    "        ylabel_lower='',\n",
    "        volume=True, \n",
    "        mav=(3,6,9),\n",
    "        figscale=1.5)\n",
    "#,       savefig='test-mplfiance.png')"
   ]
  },
  {
   "cell_type": "code",
   "execution_count": null,
   "metadata": {},
   "outputs": [],
   "source": []
  },
  {
   "cell_type": "code",
   "execution_count": null,
   "metadata": {},
   "outputs": [],
   "source": []
  },
  {
   "cell_type": "code",
   "execution_count": null,
   "metadata": {},
   "outputs": [],
   "source": []
  },
  {
   "cell_type": "code",
   "execution_count": null,
   "metadata": {},
   "outputs": [],
   "source": []
  },
  {
   "cell_type": "code",
   "execution_count": null,
   "metadata": {},
   "outputs": [],
   "source": []
  }
 ],
 "metadata": {
  "kernelspec": {
   "display_name": "Python 3",
   "language": "python",
   "name": "python3"
  },
  "language_info": {
   "codemirror_mode": {
    "name": "ipython",
    "version": 3
   },
   "file_extension": ".py",
   "mimetype": "text/x-python",
   "name": "python",
   "nbconvert_exporter": "python",
   "pygments_lexer": "ipython3",
   "version": "3.7.4"
  }
 },
 "nbformat": 4,
 "nbformat_minor": 2
}
